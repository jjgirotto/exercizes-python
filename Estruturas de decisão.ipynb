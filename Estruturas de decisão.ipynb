{
  "nbformat": 4,
  "nbformat_minor": 0,
  "metadata": {
    "colab": {
      "provenance": [],
      "include_colab_link": true
    },
    "kernelspec": {
      "name": "python3",
      "display_name": "Python 3"
    }
  },
  "cells": [
    {
      "cell_type": "markdown",
      "metadata": {
        "id": "view-in-github",
        "colab_type": "text"
      },
      "source": [
        "<a href=\"https://colab.research.google.com/github/jjgirotto/exercizes-python/blob/main/Estruturas%20de%20decis%C3%A3o.ipynb\" target=\"_parent\"><img src=\"https://colab.research.google.com/assets/colab-badge.svg\" alt=\"Open In Colab\"/></a>"
      ]
    },
    {
      "cell_type": "markdown",
      "metadata": {
        "id": "I3ayCEJnHhtv"
      },
      "source": [
        "#Lista de exercícios de ESTRUTURA de DECISÃO\n",
        "#Fazer do 1 ao 20, o restante fica para estudos"
      ]
    },
    {
      "cell_type": "markdown",
      "metadata": {
        "id": "E64RcqHIMXAS"
      },
      "source": [
        "### 1.a) Faça um algoritmo que calcule e exiba o salário reajustado de um funcionário de acordo com a seguinte regra: Salário até 500, reajuste de 50%."
      ]
    },
    {
      "cell_type": "code",
      "metadata": {
        "id": "iepDUOyzHFPt",
        "colab": {
          "base_uri": "https://localhost:8080/"
        },
        "outputId": "60d12801-edce-45c5-8cca-737fd2dbb8e2"
      },
      "source": [
        "# Digite seu código aqui\n",
        "salario = float(input('Digite o salário: '))\n",
        "if salario <= 500:\n",
        "    novo = salario * 1.5\n",
        "    print(f'O salário reajustado é de: R${novo:.2f} reais')"
      ],
      "execution_count": null,
      "outputs": [
        {
          "name": "stdout",
          "output_type": "stream",
          "text": [
            "Digite o salário: 700\n"
          ]
        }
      ]
    },
    {
      "cell_type": "markdown",
      "metadata": {
        "id": "OYoL34dGG0XC"
      },
      "source": [
        "###1.b) Faça um algoritmo que calcule e exiba o salário reajustado de um funcionário de acordo com a seguinte regra: Salário até 500, reajuste de 50%; Salários maiores que 500, reajuste de 30%."
      ]
    },
    {
      "cell_type": "code",
      "metadata": {
        "id": "uLE2w6-aMadI",
        "colab": {
          "base_uri": "https://localhost:8080/"
        },
        "outputId": "f7aff516-474e-4fac-de1e-3bdcb5805c54"
      },
      "source": [
        "# Digite seu código aqui\n",
        "salario = float(input('Informe o valor do salário: '))\n",
        "\n",
        "if salario <= 500:\n",
        "    novo = salario * 1.5\n",
        "    print(f'O valor do salário reajustado é de R${novo:.2f} reais')\n",
        "else:\n",
        "    novo = salario * 1.3\n",
        "    print(f'O valor do salário reajustado é de R${novo:.2f} reais')"
      ],
      "execution_count": null,
      "outputs": [
        {
          "output_type": "stream",
          "name": "stdout",
          "text": [
            "Informe o valor do salário: 700\n",
            "O valor do salário reajustado é de R$910.00 reais\n"
          ]
        }
      ]
    },
    {
      "cell_type": "markdown",
      "source": [
        "###1.c) Faça um algoritmo que calcule e exiba o salário reajustado de um funcionário de acordo com a seguinte regra: Salário até 500, reajuste de 50%; Salários maiores que 500 e até 1000, reajuste de 30%; Salários acima de 1000, reajuste de 10%."
      ],
      "metadata": {
        "id": "FP7AFG4hidmr"
      }
    },
    {
      "cell_type": "code",
      "source": [
        "# Digite seu código aqui\n",
        "salario = float(input('Informe o valor do salário: '))\n",
        "\n",
        "if salario <= 500:\n",
        "    novo = salario * 1.5\n",
        "    print(f'O valor do salário reajustado é de R${novo:.2f} reais')\n",
        "elif salario > 500 and salario <= 1000:\n",
        "    novo = salario * 1.3\n",
        "    print(f'O valor do salário reajustado é de R${novo:.2f} reais')\n",
        "else:\n",
        "    novo = salario * 1.1\n",
        "    print(f'O valor do salário reajustado é de R${novo:.2f} reais')"
      ],
      "metadata": {
        "id": "JslC5_aniusE",
        "colab": {
          "base_uri": "https://localhost:8080/"
        },
        "outputId": "b9613363-123b-4654-d68b-67d65bc7c899"
      },
      "execution_count": null,
      "outputs": [
        {
          "output_type": "stream",
          "name": "stdout",
          "text": [
            "Informe o valor do salário: 1100\n",
            "O valor do salário reajustado é de R$1210.00 reais\n"
          ]
        }
      ]
    },
    {
      "cell_type": "markdown",
      "metadata": {
        "id": "inPGbmBaMe3R"
      },
      "source": [
        "###2. Faça um algoritmo que leia o nome e a idade de uma pessoa, verifique se a idade de uma pessoa é menor ou maior de idade. Considera-se maior de idade uma pessoa com 18 anos ou mais. Como saída o algoritmo deve informar o nome e a idade da pessoa e depois uma mensagem se ela é ou não maior de idade.\n"
      ]
    },
    {
      "cell_type": "code",
      "metadata": {
        "id": "XxrUc9yWND8a",
        "colab": {
          "base_uri": "https://localhost:8080/"
        },
        "outputId": "15fefb58-5a70-4c04-dd80-2500e6c21f0c"
      },
      "source": [
        "# Digite seu código aqui\n",
        "nome = input('Informe seu nome: ')\n",
        "idade = int(input('Informe sua idade: '))\n",
        "\n",
        "if idade >= 18:\n",
        "    print(f'{nome} tem {idade} anos e é maior de idade.')\n",
        "else:\n",
        "    print(f'{nome} tem {idade} anos e é menor de idade.')"
      ],
      "execution_count": null,
      "outputs": [
        {
          "output_type": "stream",
          "name": "stdout",
          "text": [
            "Informe seu nome: ju\n",
            "Informe sua idade: 26\n",
            "ju tem 26 anos e é maior de idade.\n"
          ]
        }
      ]
    },
    {
      "cell_type": "markdown",
      "source": [
        "###3.a) Faça um algoritmo que leia duas notas de um aluno, calcule a média e verifique, apresentando, se está aprovado ou reprovado."
      ],
      "metadata": {
        "id": "m6_s-6CeXRgm"
      }
    },
    {
      "cell_type": "code",
      "source": [
        "# Digite seu código aqui\n",
        "p1 = float(input('Informe a nota da P1: '))\n",
        "p2 = float(input('Informe a nota da P2: '))\n",
        "\n",
        "media = (p1 + p2) / 2\n",
        "if media >=6:\n",
        "    print(f'Sua média é {media} e você está aprovado!')\n",
        "else:\n",
        "    print(f'Sua média é {media} e você está reprovado!')"
      ],
      "metadata": {
        "id": "zHYYE1H3X1Ug",
        "colab": {
          "base_uri": "https://localhost:8080/"
        },
        "outputId": "6bb369db-7265-4c4b-bfdd-8307e40b5abe"
      },
      "execution_count": null,
      "outputs": [
        {
          "output_type": "stream",
          "name": "stdout",
          "text": [
            "Informe a nota da P1: 6\n",
            "Informe a nota da P2: 6\n",
            "Sua média é 6.0 e você está aprovado!\n"
          ]
        }
      ]
    },
    {
      "cell_type": "markdown",
      "source": [
        "###3.b) Faça um algoritmo que calcule e apresente o que foi requerido no exercício 3.a) e também avalie a condição de aprovar/reprovar, apenas quando o aluno tem frequencia acima de 75%, este valor deve ser lido."
      ],
      "metadata": {
        "id": "FDxDc_2RX7vf"
      }
    },
    {
      "cell_type": "code",
      "source": [
        "# Digite seu código aqui\n",
        "p1 = float(input('Informe a nota da P1: '))\n",
        "p2 = float(input('Informe a nota da P2: '))\n",
        "frequencia = float(input('Informe a porcentagem da frequência: '))\n",
        "\n",
        "media = (p1 + p2) / 2\n",
        "if media >=6 and frequencia >75:\n",
        "    print(f'Sua média é {media} e você está aprovado!')\n",
        "else:\n",
        "    print(f'Sua média é {media} e você está reprovado!')"
      ],
      "metadata": {
        "id": "IUOPeeExYide",
        "colab": {
          "base_uri": "https://localhost:8080/"
        },
        "outputId": "e04bcb82-9a5a-4320-d245-6948209ee48b"
      },
      "execution_count": null,
      "outputs": [
        {
          "output_type": "stream",
          "name": "stdout",
          "text": [
            "Informe a nota da P1: 8\n",
            "Informe a nota da P2: 4\n",
            "Informe a porcentagem da frequência: 77\n",
            "Sua média é 6.0 e você está aprovado!\n"
          ]
        }
      ]
    },
    {
      "cell_type": "markdown",
      "source": [
        "###4. Faça um algoritmo que leia o gênero de uma pessoa. Se for digitado M ou F, apresentar 'Gênero válido!'. Caso contrário, 'Gênero inválido!'."
      ],
      "metadata": {
        "id": "zi3sycu6Y8hH"
      }
    },
    {
      "cell_type": "code",
      "source": [
        "# Digite seu código aqui\n",
        "genero = input('Informe o seu gênero (M ou F): ')\n",
        "\n",
        "if genero == 'M' or genero == 'm' or genero == 'F' or genero == 'f':\n",
        "    print('Gênero válido!')\n",
        "else:\n",
        "    print('Gênero inválido!')"
      ],
      "metadata": {
        "id": "Aa7k7IoAY89K",
        "colab": {
          "base_uri": "https://localhost:8080/"
        },
        "outputId": "1d0be923-0d22-4876-c4d0-adf531aca1aa"
      },
      "execution_count": null,
      "outputs": [
        {
          "output_type": "stream",
          "name": "stdout",
          "text": [
            "Informe o seu gênero (M ou F): j\n",
            "Gênero inválido!\n"
          ]
        }
      ]
    },
    {
      "cell_type": "markdown",
      "metadata": {
        "id": "mWl0IWlJNEtA"
      },
      "source": [
        "###5. Tendo como dados de entrada a altura e o gênero (M/F) de uma pessoa (M-masculino ou F-feminino), construa um algoritmo que calcule seu peso ideal, utilizando as seguintes fórmulas:\n",
        "masculino: (72.7 * altura) - 58;\n",
        "\n",
        "feminino: (62.1 * altura) - 44.7\n",
        "\n"
      ]
    },
    {
      "cell_type": "code",
      "source": [
        "# Digite seu código aqui\n",
        "altura = float(input('Informe sua altura em metros: '))\n",
        "genero = input('Informe seu gênero (M ou F): ')\n",
        "\n",
        "masculino = (72.7 * altura) - 58\n",
        "feminino = (62.1 * altura) - 44.7\n",
        "\n",
        "if genero == \"M\" or genero == \"m\":\n",
        "    print(f'O peso ideal é: {masculino:.2f} kg.')\n",
        "elif genero == \"F\" or genero == \"f\":\n",
        "    print(f'O peso ideal é: {feminino:.2f} kg.')\n",
        "else:\n",
        "    print('Gênero inválido!')"
      ],
      "metadata": {
        "id": "iEeypQ0n7f_S",
        "colab": {
          "base_uri": "https://localhost:8080/"
        },
        "outputId": "ed736a75-22c4-4084-b7ef-943606495bd3"
      },
      "execution_count": null,
      "outputs": [
        {
          "output_type": "stream",
          "name": "stdout",
          "text": [
            "Informe sua altura em metros: 1.58\n",
            "Informe seu gênero (M ou F): F\n",
            "O peso ideal é: 53.42\n"
          ]
        }
      ]
    },
    {
      "cell_type": "markdown",
      "source": [
        "###6. Faça um algoritmo que leia dois números inteiros e mostre o resultado da **diferença** do maior valor pelo menor."
      ],
      "metadata": {
        "id": "7QnlOyxxaAZc"
      }
    },
    {
      "cell_type": "code",
      "source": [
        "# Digite seu código aqui\n",
        "n1 = int(input('Digite um número inteiro: '))\n",
        "n2 = int(input('Digite outro número inteiro: '))\n",
        "\n",
        "if n1 > n2:\n",
        "    print('A diferença é de: ',n1 - n2)\n",
        "elif n1 == n2:\n",
        "    print('Os números são iguais, portanto, a diferença é zero.')\n",
        "else:\n",
        "    print('A diferença é de: ',n2 - n1)"
      ],
      "metadata": {
        "id": "8Eu5pLm5Z-Y7",
        "colab": {
          "base_uri": "https://localhost:8080/"
        },
        "outputId": "8ccab5d0-f37d-4d3a-afa0-84deef62d2d2"
      },
      "execution_count": null,
      "outputs": [
        {
          "output_type": "stream",
          "name": "stdout",
          "text": [
            "Digite um número inteiro: 55\n",
            "Digite outro número inteiro: 66\n",
            "A diferença é de:  11\n"
          ]
        }
      ]
    },
    {
      "cell_type": "markdown",
      "source": [
        "###7. Uma faculdade faz o pagamento de seus professores por hora/aula. Faça um algoritmo que receba o nível e a quantidade de hora/aula, calcule e exiba o salário de um professor e a frase a seguira tabela abaixo:\n",
        "Professor Nível 1 - 11,00 reais por hora/aula, salário: ...\n",
        "\n",
        "Professor Nível 2 - 15,00 reais por hora/aula, salário: ...\n",
        "\n",
        "Professor Nível 3 - 19,00 reais por hora/aula, salário: ..."
      ],
      "metadata": {
        "id": "VupgaQwwagfI"
      }
    },
    {
      "cell_type": "code",
      "metadata": {
        "id": "Q8ZKZyGLNxFf",
        "colab": {
          "base_uri": "https://localhost:8080/"
        },
        "outputId": "c3dc74ea-dcd7-44d4-e4d6-78039f8b9a10"
      },
      "source": [
        "# Digite seu código aqui\n",
        "nivel = int(input('Informe o nível (1/2/3): '))\n",
        "horaula = float(input('Informe a quantidade de hora/aula: '))\n",
        "\n",
        "if nivel == 1:\n",
        "    salario = 11 * horaula\n",
        "elif nivel == 2:\n",
        "    salario = 15 * horaula\n",
        "elif nivel == 3:\n",
        "    salario = 19 * horaula\n",
        "\n",
        "print(f'O salário é de R${salario:.2f} reais.')"
      ],
      "execution_count": null,
      "outputs": [
        {
          "output_type": "stream",
          "name": "stdout",
          "text": [
            "Informe o nível (1/2/3): 3\n",
            "Informe a quantidade de hora/aula: 3\n",
            "O salário é de R$57.00 reais.\n"
          ]
        }
      ]
    },
    {
      "cell_type": "markdown",
      "metadata": {
        "id": "ZG-AZwwLN4Vf"
      },
      "source": [
        "###8. Faça um algoritmo que leia um número inteiro e mostre uma mensagem indicando se este número é par ou ímpar e se é positivo ou negativo.\n"
      ]
    },
    {
      "cell_type": "code",
      "metadata": {
        "id": "t4jNff-_N9xR",
        "colab": {
          "base_uri": "https://localhost:8080/"
        },
        "outputId": "deb0a7d9-61f2-4dca-af24-9543b1f8d024"
      },
      "source": [
        "# Digite seu código aqui\n",
        "numero = int(input('Informe um número inteiro: '))\n",
        "\n",
        "par = numero % 2 == 0\n",
        "\n",
        "if numero > 0:\n",
        "    print('O número informado é positivo!')\n",
        "elif numero == 0:\n",
        "    print('O número informado é zero e não possui valor positivo ou negativo.')\n",
        "else:\n",
        "    print('O número informado é negativo!')\n",
        "\n",
        "if numero == 0:\n",
        "    print('O número informado é zero e não possui valor par ou ímpar.')\n",
        "elif numero % 2 == 0:\n",
        "    print('O número é par!')\n",
        "else:\n",
        "    print('O número é ímpar!')"
      ],
      "execution_count": null,
      "outputs": [
        {
          "output_type": "stream",
          "name": "stdout",
          "text": [
            "Informe um número inteiro: 36\n",
            "O número informado é positivo!\n",
            "O número é par!\n"
          ]
        }
      ]
    },
    {
      "cell_type": "markdown",
      "source": [
        "###9. Num determinado Estado, para transferências de veículos, o DETRAN cobra uma taxa de 1% para carros fabricados antes de 1990 e uma taxa de 1.5% para os fabricados de 1990 em diante, taxa esta incidindo sobre o valor de tabela do carro. Faça um algoritmo que leia o ano e o preço do carro, calcule e apresente o imposto a ser pago."
      ],
      "metadata": {
        "id": "4CVm6Oa5eNTp"
      }
    },
    {
      "cell_type": "code",
      "source": [
        "# Digite seu código aqui\n",
        "ano = int(input('Informe o ano do veículo: '))\n",
        "preco = int(input('Informe o preço do veículo: '))\n",
        "\n",
        "if ano < 1990:\n",
        "    imposto = preco * 1.01\n",
        "else:\n",
        "    imposto = preco * 1.015\n",
        "print(f'O valor do imposto é de R${imposto:.2f} reais.')"
      ],
      "metadata": {
        "id": "ys1x7SuegHK1",
        "colab": {
          "base_uri": "https://localhost:8080/"
        },
        "outputId": "e7fca0c6-3f10-475e-804a-6d49d16d539f"
      },
      "execution_count": null,
      "outputs": [
        {
          "output_type": "stream",
          "name": "stdout",
          "text": [
            "Informe o ano do veículo: 1990\n",
            "Informe o preço do veículo: 10000\n",
            "O valor do imposto é de R$10150.00 reais.\n"
          ]
        }
      ]
    },
    {
      "cell_type": "markdown",
      "metadata": {
        "id": "tFR9qp3gN999"
      },
      "source": [
        "###10. Elabore um algoritmo que informando a idade de um nadador o mesmo terá condições de classificar em uma das seguintes categorias:\n",
        "infantil = 5 - 10 anos;\n",
        "\n",
        "juvenil = 11-17 anos;\n",
        "\n",
        "adulto = maiores de 18 anos.\n",
        "\n"
      ]
    },
    {
      "cell_type": "code",
      "metadata": {
        "id": "ECh55bXTOUN3",
        "colab": {
          "base_uri": "https://localhost:8080/"
        },
        "outputId": "08673a2a-0ef8-4d21-b6ac-15e6b4b63059"
      },
      "source": [
        "# Digite seu código aqui\n",
        "idade = int(input('Informe sua idade: '))\n",
        "\n",
        "if idade >= 5 and idade <= 10:\n",
        "    print('Categoria infantil.')\n",
        "elif idade >= 11 and idade <= 17:\n",
        "    print('Categoria juvenil.')\n",
        "elif idade > 18:\n",
        "    print('Categoria adulto.')"
      ],
      "execution_count": null,
      "outputs": [
        {
          "output_type": "stream",
          "name": "stdout",
          "text": [
            "Informe sua idade: 17\n",
            "Categoria juvenil.\n"
          ]
        }
      ]
    },
    {
      "cell_type": "markdown",
      "metadata": {
        "id": "pWT4E1FfOUkH"
      },
      "source": [
        "###11. Um banco concederá um crédito especial aos seus clientes, variável com o saldo médio no último ano. Faça um algoritmo que leia o saldo médio de um cliente e calcule o valor do crédito de acordo com a tabela a seguir. Mostre uma mensagem informando o saldo médio e o valor do crédito.\n",
        "        Saldo médio\n",
        "        * de 0 a 200 nenhum crédito\n",
        "        * de 201 a  400 20% do valor do saldo médio\n",
        "        * de 401 a  600 30% do valor do saldo médio\n",
        "        * acima de 601 40% do valor do saldo médio\n"
      ]
    },
    {
      "cell_type": "code",
      "metadata": {
        "id": "bjndIJmMP2--",
        "colab": {
          "base_uri": "https://localhost:8080/"
        },
        "outputId": "8caaa794-0239-4c97-9b76-ebf9082891d1"
      },
      "source": [
        "# Digite seu código aqui\n",
        "saldo = float(input('Informe o valor do saldo médio no último ano: '))\n",
        "\n",
        "if saldo > 0 and saldo <= 200:\n",
        "    credito = 0\n",
        "elif saldo >= 201 and saldo <= 400:\n",
        "    credito = saldo * 0.2\n",
        "elif saldo >= 401 and saldo <= 600:\n",
        "    credito = saldo * 0.3\n",
        "else:\n",
        "    credito = saldo * 0.4\n",
        "print(f'O saldo médio é de R${saldo:.2f} reais e o valor do crédito é de R${credito:.2f} reais.')"
      ],
      "execution_count": null,
      "outputs": [
        {
          "output_type": "stream",
          "name": "stdout",
          "text": [
            "Informe o valor do saldo médio no último ano: 601\n",
            "O saldo médio é de R$601.00 reais e o valor do crédito é de R$240.40 reais.\n"
          ]
        }
      ]
    },
    {
      "cell_type": "markdown",
      "metadata": {
        "id": "4NQ1BgrnQCJ4"
      },
      "source": [
        "###12. A Organização Mundial de Saúde usa a seguinte tabela para determinar a condição de um adulto, para isso desenvolva um algoritmo para calcular o Índice de Massa Corporal (IMC) e apresenta-lo, dado pela fórmula:\n",
        "    IMC = peso / (altura)2   (o número 2 significa, elevado ao quadrado)\n",
        "\n",
        "CONDIÇÃO |  IMC em adultos |\n",
        " ---|---\n",
        "Abaixo do peso  |\tAbaixo de 18.5  |\n",
        "No peso normal\t|\tEntre 18.5 e 25|\n",
        "Acima do peso\t|\tEntre 25.1 e 30|\n",
        "Obeso\t\t    |\tAcima de 30|"
      ]
    },
    {
      "cell_type": "code",
      "metadata": {
        "id": "s7C4mls6TT90",
        "colab": {
          "base_uri": "https://localhost:8080/"
        },
        "outputId": "c83d3cd4-9f0a-43bc-b304-ba7ff5e6befb"
      },
      "source": [
        "# Digite seu código aqui\n",
        "altura = float(input('Informe sua altura em metros: '))\n",
        "peso = float(input('Informe sua massa em kgs: '))\n",
        "\n",
        "imc = peso / (altura ** 2)\n",
        "\n",
        "if imc < 18.5:\n",
        "    print('Você está abaixo do peso!')\n",
        "elif imc >= 18.5 and imc <= 25:\n",
        "    print('Você está no peso normal!')\n",
        "elif imc >= 25.1 and imc <= 30:\n",
        "    print('Você está acima do peso!')\n",
        "else:\n",
        "    print('Você está obeso!')"
      ],
      "execution_count": null,
      "outputs": [
        {
          "output_type": "stream",
          "name": "stdout",
          "text": [
            "Informe sua altura em metros: 1.8\n",
            "Informe sua massa em kgs: 96\n",
            "Você está acima do peso!\n"
          ]
        }
      ]
    },
    {
      "cell_type": "markdown",
      "metadata": {
        "id": "-Lj_vtkDwhfJ"
      },
      "source": [
        "###13. A nota final de um estudante é calculada a partir de três notas atribuídas, respectivamente, a um trabalho de laboratório, a uma avaliação semestral e a um exame final. A média das três notas mencionadas obedece aos pesos a seguir:\n",
        "\n",
        " NOTA |  PESO |\n",
        " ---|---\n",
        "Trabalho de laboratório  |   2   |\n",
        "Avaliação semestral      |   3   |\n",
        "Exame final              |   5   |\n",
        "\n",
        "### Faça um programa que receba as três notas, calcule e mostre a média ponderada e o conceito que segue a tabela\n",
        "\n",
        "MÉDIA PONDERADA    | CONCEITO|\n",
        "---|---\n",
        "8,0 <= média <= 10  |    A\n",
        "7,0 <= média < 8,0  |    B\n",
        "6,0 <= média < 7,0  |    C\n",
        "5,0 <= média < 6,0  |    D\n",
        " 0,0 <= média < 5,0  |    E\n",
        "       \n",
        "media_ponderada = (nota_traballho * 2 + avaliacao_semestral * 3 + exame_final * 5) / 10\n",
        "\n"
      ]
    },
    {
      "cell_type": "code",
      "metadata": {
        "id": "fhlh7OxNwDhl",
        "colab": {
          "base_uri": "https://localhost:8080/"
        },
        "outputId": "6cde5e1f-731b-44fd-bdf7-290fbca1fc30"
      },
      "source": [
        "# Digite seu código aqui\n",
        "trabalho = float(input('Informe a nota do trabalho de laboratório: '))\n",
        "avaliacao = float(input('Informe a nota da avaliação semestral: '))\n",
        "exame = float(input('Informe a nota do exame final: '))\n",
        "\n",
        "mediapond = (trabalho * 2 + avaliacao * 3 + exame * 5) / 10\n",
        "\n",
        "if mediapond >= 0 and mediapond < 5:\n",
        "    print(f'Média {mediapond} e Conceito E.')\n",
        "elif mediapond >= 5 and mediapond < 6:\n",
        "    print(f'Média {mediapond} e Conceito D.')\n",
        "elif mediapond >= 6 and mediapond < 7:\n",
        "    print(f'Média {mediapond} e Conceito C.')\n",
        "elif mediapond >= 7 and mediapond < 8:\n",
        "    print(f'Média {mediapond} e Conceito B.')\n",
        "elif mediapond >= 8 and mediapond <= 10:\n",
        "    print(f'Média {mediapond} e Conceito A.')"
      ],
      "execution_count": null,
      "outputs": [
        {
          "output_type": "stream",
          "name": "stdout",
          "text": [
            "Informe a nota do trabalho de laboratório: 3\n",
            "Informe a nota da avaliação semestral: 9\n",
            "Informe a nota do exame final: 5\n",
            "Média 5.8 e Conceito D.\n"
          ]
        }
      ]
    },
    {
      "cell_type": "markdown",
      "metadata": {
        "id": "PAaDySD4wkK_"
      },
      "source": [
        "### 14. Faça um programa que receba três notas de um aluno, calcule e mostre a média aritmética e a mensagem constante na tabela a seguir. Aos alunos que ficaram para exame, calcule e mostre a nota que deverão tirar para serem aprovados, considerando que a média exigida é 6,0.\n",
        "\n",
        "MÉDIA ARITMÉTICA | MENSAGEM\n",
        "    ---|---\n",
        "    0 <= média < 3 |Reprovado\n",
        "    3 <= média < 6|Exame\n",
        "    6 <= média <= 10|Aprovado\n",
        "\n",
        "```\n",
        "SE media >= 3 E media < 6\n",
        "    ESCREVA “Exame”\n",
        "    nota_exame = 12 - media\n",
        "    ESCREVA “Você deve tirar a nota”, nota_exame, “para ser aprovado.”\n"
      ]
    },
    {
      "cell_type": "code",
      "metadata": {
        "id": "y1Wfq8tzwm06",
        "colab": {
          "base_uri": "https://localhost:8080/"
        },
        "outputId": "de1c2a9f-0dbc-414e-b0f5-31cb9fd33078"
      },
      "source": [
        "# Digite seu código aqui\n",
        "p1 = float(input('Informe a primeira nota: '))\n",
        "p2 = float(input('Informe a segunda nota: '))\n",
        "p3 = float(input('Informe a terceira nota: '))\n",
        "\n",
        "media = (p1 + p2 + p3) / 3\n",
        "\n",
        "if media >= 0 and media < 3:\n",
        "    print('Você está reprovado.')\n",
        "elif media >= 3 and media < 6:\n",
        "    print('Você está de exame.')\n",
        "    notaexame = 12 - media\n",
        "    print(f'Você deve tirar a nota {notaexame:.2f} para ser aprovado.')\n",
        "elif media >=6 and media <= 10:\n",
        "    print('Você está aprovado.')"
      ],
      "execution_count": null,
      "outputs": [
        {
          "output_type": "stream",
          "name": "stdout",
          "text": [
            "Informe a primeira nota: 2\n",
            "Informe a segunda nota: 6\n",
            "Informe a terceira nota: 5\n",
            "Você está de exame.\n",
            "Você deve tirar a nota 7.67 para ser aprovado.\n"
          ]
        }
      ]
    },
    {
      "cell_type": "markdown",
      "metadata": {
        "id": "7O0Mqmidwm-j"
      },
      "source": [
        "### 15. Faça um programa que receba dois números e mostre o maior.\n"
      ]
    },
    {
      "cell_type": "code",
      "metadata": {
        "id": "HcTiyc7GwpKM"
      },
      "source": [
        "#Digite seu código aqui\n",
        "n1 = int(input('Digite um número: '))\n",
        "n2 = int(input('Digite outro número: '))\n",
        "\n",
        "if n1 > n2:\n",
        "    print(f'O maior número é {n1}.')\n",
        "elif n1 == n2:\n",
        "    print('Os números são iguais, portanto, não existe algum que seja maior.')\n",
        "else:\n",
        "    print(f'O maior número é {n2}.')"
      ],
      "execution_count": null,
      "outputs": []
    },
    {
      "cell_type": "markdown",
      "metadata": {
        "id": "2_NBZeVXwpTd"
      },
      "source": [
        "### 16. Faça um programa que receba três números e mostre-os em ordem crescente. Suponha que o usuário digitará três números diferentes.\n",
        "\n",
        "```\n",
        "SE numero1 < numero2 E numero1 < numero3\n",
        "    SE numero2 < numero3\n",
        "        ESCREVA “A ordem crescente é: “,numero1,“-”,numero2,“-”,numero3\n",
        "    SENÃO\n",
        "        ESCREVA “A ordem crescente é: “,numero1,“-”,numero3,“-”,numero2\n",
        "SE numero2 < numero1 E numero2 < numero3\n",
        "    SE numero1 < numero3\n",
        "        ESCREVA “A ordem crescente é: “,numero2,“-”,numero1,“-”,numero3\n",
        "    SENÃO\n",
        "        ESCREVA “A ordem crescente é: “,numero2,“-”,numero3,“-”,numero1\n",
        "SE numero3 < numero1 E numero3 < num2\n",
        "    SE numero1 < numero2\n",
        "        ESCREVA “A ordem crescente é: “,numero3,“-”,numero1,“-”,numero2\n",
        "    SENÃO\n",
        "        ESCREVA “A ordem crescente é: “,numero3,“-”,numero2,“-”,numero1\n",
        "  ```"
      ]
    },
    {
      "cell_type": "code",
      "metadata": {
        "id": "Ek3oVh59wsJJ",
        "colab": {
          "base_uri": "https://localhost:8080/"
        },
        "outputId": "a3bc0afb-e74e-4496-91b5-8ca9fda6b7c9"
      },
      "source": [
        "#Digite seu código aqui\n",
        "n1 = float(input('Digite o primeiro número: '))\n",
        "n2 = float(input('Digite o segundo número: '))\n",
        "n3 = float(input('Digite o terceiro número: '))\n",
        "\n",
        "if n1 < n2 and n1 < n3:\n",
        "    if n2 < n3:\n",
        "        print('A ordem crescente é: ',n1,'-',n2,'-',n3)\n",
        "    else:\n",
        "        print('A ordem crescente é: ',n1,'-',n3,'-',n2)\n",
        "\n",
        "if n2 < n1 and n2 < n3:\n",
        "    if n1 < n3:\n",
        "        print('A ordem crescente é: ',n2,'-',n1,'-',n3)\n",
        "    else:\n",
        "        print('A ordem crescente é: ',n2,'-',n3,'-',n1)\n",
        "\n",
        "if n3 < n1 and n3 < n2:\n",
        "    if n1 < n2:\n",
        "        print('A ordem crescente é: ',n3,'-',n1,'-',n2)\n",
        "    else:\n",
        "        print('A ordem crescente é: ',n3,'-',n2,'-',n1)\n"
      ],
      "execution_count": null,
      "outputs": [
        {
          "output_type": "stream",
          "name": "stdout",
          "text": [
            "Digite o primeiro número: 85\n",
            "Digite o segundo número: 25\n",
            "Digite o terceiro número: 63\n",
            "A ordem crescente é:  25.0 - 63.0 - 85.0\n"
          ]
        }
      ]
    },
    {
      "cell_type": "markdown",
      "metadata": {
        "id": "ZhHFeeuKwsS_"
      },
      "source": [
        "### 17. Faça um programa que receba três números obrigatoriamente em ordem crescente e um quarto número que não siga essa regra. Mostre, em seguida, os quatro números em ordem decrescente. Suponha que o usuário digitará quatro números diferentes.\n",
        "\n",
        "```code\n",
        "SE numero4 > numero3\n",
        "    ESCREVA “A ordem decrescente é: “,numero4,“-”,numero3,“-”,numero2,“-”,numero1\n",
        "SENÃO SE numero4 > numero2 E numero4 < numero3\n",
        "    ESCREVA “A ordem decrescente é: “,numero3,“-”,numero4,“-”,numero2,“-”,numero1\n",
        "SENÃO SE numero4 > numero1 E numero4 < numero2\n",
        "    ESCREVA “A ordem decrescente é: “,numero3,“-”,numero2,“-”,numero4, “-”,numero1\n",
        "SENÃO SE numero4 < numero1\n",
        "    ESCREVA “A ordem decrescente é: “,numero3,“-”,numero2,“-”,numero1,“-”,numero4\n",
        "```"
      ]
    },
    {
      "cell_type": "code",
      "metadata": {
        "id": "MXb2lDpTwukn",
        "colab": {
          "base_uri": "https://localhost:8080/"
        },
        "outputId": "fdfda8ff-d484-4b1a-cfba-16da1b40a4b2"
      },
      "source": [
        "# Digite seu código aqui\n",
        "n1 = float(input('Digite o menor número: '))\n",
        "n2 = float(input('Digite o número do meio: '))\n",
        "n3 = float(input('Digite o maior número: '))\n",
        "n4 = float(input('Digite um número aleatório: '))\n",
        "\n",
        "if n4 > n3:\n",
        "    print('A ordem decrescente é ',n4,'-',n3,'-',n2,'-',n1)\n",
        "elif n4 > n2 and n4 < n3:\n",
        "    print('A ordem decrescente é ',n3,'-',n4,'-',n2,'-',n1)\n",
        "elif n4 > n1 and n4 < n2:\n",
        "    print('A ordem decrescente é ',n3,'-',n2,'-',n4,'-',n1)\n",
        "elif n4 < n1:\n",
        "    print('A ordem decrescente é ',n3,'-',n2,'-',n1,'-',n4)"
      ],
      "execution_count": null,
      "outputs": [
        {
          "output_type": "stream",
          "name": "stdout",
          "text": [
            "Digite o menor número: 30\n",
            "Digite o número do meio número: 45\n",
            "Digite o maior número: 60\n",
            "Digite um número aleatório: 20\n",
            "A ordem decrescente é  60.0 - 45.0 - 30.0 - 20.0\n"
          ]
        }
      ]
    },
    {
      "cell_type": "markdown",
      "metadata": {
        "id": "U6uFBqEEwxTU"
      },
      "source": [
        "### 18. Faça um programa que receba quatro valores: I, A, B e C. Desses valores, I é inteiro e positivo, A, B e C são reais. Escreva os números A, B e C obedecendo à tabela a seguir.\n",
        "\n",
        "*Suponha que o valor digitado para I seja sempre um valor válido, ou seja, 1, 2 ou 3, e que os números digitados sejam diferentes um do outro.*\n",
        "\n",
        "  |VALOR DE I | FORMA A ESCREVER|\n",
        "  |---|---|\n",
        "  |1                  |A, B e C em ordem crescente.|\n",
        "  |2                  |A, B e C em ordem decrescente|\n",
        "  |3                  |O maior fica entre os outros dois números.|\n",
        "\n",
        "  ```code\n",
        "SE I == 1\n",
        "    SE A<B E A<C\n",
        "        SE B<C\n",
        "            ESCREVA “A ordem crescente dos números é:”,A,” -”,B,”-”,C\n",
        "        SENÃO\n",
        "            ESCREVA “A ordem crescente dos números é:”,A,” -”,C,”-”,B\n",
        "    SE B<A E B<C\n",
        "        SE A<C\n",
        "            ESCREVA “A ordem crescente dos números é:”,B,”-”,A,”-”,C\n",
        "        SENÃO\n",
        "            ESCREVA “A ordem crescente dos números é: “,B,”-”,C,”-”,A\n",
        "    SE C<A E C<B\n",
        "        SE A<B\n",
        "            ESCREVA “A ordem crescente dos números é: “,C,”-”,A,”-”,B\n",
        "        SENÃO\n",
        "            ESCREVA “A ordem crescente dos números é: “,C,”-”,B,”-”,A\n",
        "SE I == 2\n",
        "    SE A>B E A>C\n",
        "        SE B>C\n",
        "            ESCREVA “A ordem decrescente dos números é: “,A,” -”,B,”-”,C\n",
        "        SENÃO\n",
        "            ESCREVA “A ordem decrescente dos números é: “,A,” -”,C,”-”,B\n",
        "    SE B>A E B>C\n",
        "        SE A>C\n",
        "            ESCREVA “A ordem decrescente dos números é: “,B,” -”,A,”-”,C\n",
        "        SENÃO\n",
        "            ESCREVA “A ordem decrescente dos números é: “,B,” -”,C,”-”,A\n",
        "    SE C>A E C>B\n",
        "        SE A>B\n",
        "            ESCREVA “A ordem decrescente dos números é: “,C,” -”,A,”-”,B\n",
        "        SENÃO\n",
        "            ESCREVA “A ordem decrescente dos números é: “,C,” -”,B,”-”,A\n",
        "SE I == 3\n",
        "    SE A>B E A>C\n",
        "        ESCREVA “A ordem desejada é: “,B,”-”,A,”-”,C\n",
        "    SE B>A E B>C\n",
        "        ESCREVA “A ordem desejada é: “,A,”-”,B,”-”,C\n",
        "    SE C>A E C>B\n",
        "        ESCREVA “A ordem desejada é: “,A,”-”,C,”-”,B\n",
        "```"
      ]
    },
    {
      "cell_type": "code",
      "metadata": {
        "id": "xComTuz4w2uW"
      },
      "source": [
        "# Digite seu código aqui\n",
        "i = int(input('Informe o valor de I (1, 2 ou 3): '))\n",
        "a = float(input('Informe o valor de A: '))\n",
        "b = float(input('Informe o valor de B: '))\n",
        "c = float(input('Informe o valor de C: '))\n",
        "\n",
        "if i == 1:\n",
        "    if a < b and a < c:\n",
        "        if b < c:\n",
        "            print('A ordem desejada é ',a,'-',b,'-',c)\n",
        "        else:\n",
        "            print('A ordem desejada é ',a,'-',c,'-',b)\n",
        "    if b < a and b < c:\n",
        "        if a < c:\n",
        "            print('A ordem desejada é ',b,'-',a,'-',c)\n",
        "        else:\n",
        "            print('A ordem desejada é ',b,'-',c,'-',a)\n",
        "    if c < a and c < b:\n",
        "        if a < b:\n",
        "            print('A ordem desejada é ',c,'-',a,'-',b)\n",
        "        else:\n",
        "            print ('A ordem desejada é ',c,'-',b,'-',a)\n",
        "\n",
        "if i == 2:\n",
        "    if a > b and a > c:\n",
        "        if b > c:\n",
        "            print('A ordem desejada é ',a,'-',b,'-',c)\n",
        "        else:\n",
        "            print('A ordem desejada é ',a,'-',c,'-',b)\n",
        "    if b > a and b > c:\n",
        "        if a > c:\n",
        "            print('A ordem desejada é ',b,'-',a,'-',c)\n",
        "        else:\n",
        "            print('A ordem desejada é ',b,'-',c,'-',a)\n",
        "    if c > a and c > b:\n",
        "        if a > b:\n",
        "            print('A ordem desejada é ',c,'-',a,'-',b)\n",
        "        else:\n",
        "            print ('A ordem desejada é ',c,'-',b,'-',a)\n",
        "\n",
        "if i == 3:\n",
        "    if a > b and a > c:\n",
        "        print('A ordem desejada é ',b,'-',a,'-',c)\n",
        "    elif b > a and b > c:\n",
        "        print('A ordem desejada é ',a,'-',b,'-',c)\n",
        "    elif c > a and c > b:\n",
        "        print('A ordem desejada é ',a,'-',c,'-',b)"
      ],
      "execution_count": null,
      "outputs": []
    },
    {
      "cell_type": "markdown",
      "metadata": {
        "id": "uN4h6-qFw22p"
      },
      "source": [
        "### 19. Faça um programa que mostre o menu de opções a seguir, receba a opção do usuário, número 1 para a escolha da soma, ou número 2 para a raiz quadrada, também receba os dados necessários para executar cada operação.\n",
        "\n",
        "    Menu de opções:\n",
        "    1. Somar dois números.\n",
        "    2. Raiz quadrada de um número.\n",
        "\n",
        "Observação: raiz = numero ** (1/2), ou\n",
        "import math\n",
        "raiz = math.sqrt(numero), assim como foi programado no exercício 18, da lista anterior.\n",
        "      "
      ]
    },
    {
      "cell_type": "code",
      "metadata": {
        "id": "8otY1f_ow5Sy",
        "colab": {
          "base_uri": "https://localhost:8080/"
        },
        "outputId": "f3b6221c-ecb2-4e7d-84af-bf29f3d8ca27"
      },
      "source": [
        "# Digite seu código aqui\n",
        "print('Menu de opções: \\n' '1. Somar dois números.\\n' '2. Raiz quadrada de um número.')\n",
        "\n",
        "escolha = int(input('Informe a opção escolhida: '))\n",
        "\n",
        "if escolha == 1:\n",
        "    n1 = float(input('Digite o primeiro número: '))\n",
        "    n2 = float(input('Digite o segundo número: '))\n",
        "    soma = n1 + n2\n",
        "    print('A soma é: ',soma)\n",
        "\n",
        "if escolha == 2:\n",
        "    n3 = float(input('Digite um número: '))\n",
        "    raiz = n3 ** 0.5\n",
        "    print(f'A raiz quadrada é: {raiz:.2f}')"
      ],
      "execution_count": null,
      "outputs": [
        {
          "output_type": "stream",
          "name": "stdout",
          "text": [
            "Menu de opções: \n",
            "1. Somar dois números.\n",
            "2. Raiz quadrada de um número.\n",
            "Informe a opção escolhida: 2\n",
            "Digite um número: 7\n",
            "A raiz quadrada é: 2.65\n"
          ]
        }
      ]
    },
    {
      "cell_type": "markdown",
      "metadata": {
        "id": "xVYTUU1Qw5b0"
      },
      "source": [
        "### 20. Faça um programa que mostre a data e a hora do sistema nos seguintes formatos: **dia/mês/ano – mês por extenso e hora:minuto**.\n",
        "\n",
        "Observação: ***from*** carrega um módulo/biblioteca da linguagem Python e o ***import*** é usado para informar qual objeto desta biblioteca queremos importar/carregar no nosso programa\n",
        "\n",
        "    from datetime import datetime\n",
        "    #Este comando obtem a data e hora de hoje de algum país onde esta o servidor que executa nosso programa em Python.\n",
        "    #Quando eu testei, o servidor era do fuso horário de Dakar-Senegal\n",
        "    hoje = datetime.now()\n",
        "    print ('Ano atual.:',hoje.year)\n",
        "    print ('Mês.......:',hoje.month)\n",
        "    print ('Dia.......:',hoje.day)\n",
        "    print ('Hora......:',hoje.hour)\n",
        "    print ('Minuto....:',hoje.minute)\n",
        "    print ('Segundos..:',hoje.second)"
      ]
    },
    {
      "cell_type": "code",
      "metadata": {
        "id": "e-wpYfvew8A2",
        "colab": {
          "base_uri": "https://localhost:8080/"
        },
        "outputId": "282e16d8-e29e-47aa-ee59-cf272fe0e871"
      },
      "source": [
        "from datetime import datetime\n",
        "hoje = datetime.now()\n",
        "print ('Ano atual.:',hoje.year)\n",
        "print ('Mês.......:',hoje.month)\n",
        "print ('Dia.......:',hoje.day)\n",
        "print ('Hora......:',hoje.hour)\n",
        "print ('Minuto....:',hoje.minute)\n",
        "print ('Segundos..:',hoje.second)\n",
        "if hoje.month == 1:\n",
        "    print(hoje.day,'/Janeiro/',hoje.year)\n",
        "# Dê continuidade a programação daqui pra frente\n",
        "if hoje.month == 3:\n",
        "    mes = 'Março'\n",
        "\n",
        "print(f'{hoje.day}/{hoje.month}/{hoje.year} - {mes} - {hoje.hour}:{hoje.minute}')"
      ],
      "execution_count": null,
      "outputs": [
        {
          "output_type": "stream",
          "name": "stdout",
          "text": [
            "Ano atual.: 2023\n",
            "Mês.......: 3\n",
            "Dia.......: 3\n",
            "Hora......: 14\n",
            "Minuto....: 32\n",
            "Segundos..: 33\n",
            "3/3/2023 - Março - 14:32\n"
          ]
        }
      ]
    },
    {
      "cell_type": "code",
      "source": [
        "# DICA-curiosidade, o trecho de código a\n",
        "# seguir, mostra como trocar o fuso\n",
        "# horário para o país que deseja\n",
        "from datetime import datetime, timezone, timedelta\n",
        "\n",
        "data_e_hora_atuais = datetime.now()\n",
        "fuso_horario = timezone(timedelta(hours=-3))\n",
        "print('UTC - Tempo Universal Coordenado:', fuso_horario)\n",
        "data_e_hora_SP = data_e_hora_atuais.astimezone(fuso_horario)\n",
        "data_e_hora_SP_em_texto = data_e_hora_SP.strftime('%d/%m/%Y %H:%M')\n",
        "print('Data e horário de São Paulo:',data_e_hora_SP_em_texto)"
      ],
      "metadata": {
        "colab": {
          "base_uri": "https://localhost:8080/"
        },
        "id": "9PTdyMfvO_tI",
        "outputId": "5711ff67-a493-4049-a085-0302e56f7d48"
      },
      "execution_count": null,
      "outputs": [
        {
          "output_type": "stream",
          "name": "stdout",
          "text": [
            "UTC - Tempo Universal Coordenado: UTC-03:00\n",
            "Data e horário de São Paulo: 03/03/2023 11:20\n"
          ]
        }
      ]
    },
    {
      "cell_type": "markdown",
      "metadata": {
        "id": "BwvSTMttw8KJ"
      },
      "source": [
        "### 21. Faça um programa que determine a data cronologicamente maior entre duas datas fornecidas pelo usuário. Cada data deve ser composta por três valores inteiros, em que o primeiro representa o dia, o segundo, o mês e o terceiro, o ano.\n",
        "\n",
        "  ```code\n",
        "  SE ano1 > ano2\n",
        "      ESCREVA “A maior data é: “,dia1,”-”,mes1,”-”,ano1\n",
        "  SENÃO SE ano2>ano1\n",
        "      ESCREVA “A maior data é: “,dia2,”-”,mes2,”-”,ano2\n",
        "  SENÃO SE mes1>mes2\n",
        "      ESCREVA “A maior data é: “,dia1,”-”,mes1,”-”,ano1\n",
        "  SENÃO SE mes2>mes1\n",
        "      ESCREVA “A maior data é: “,dia2, “-”,mes2,”-”,ano2\n",
        "  SENÃO SE dia1>dia2\n",
        "      ESCREVA “A maior data é: “-”,dia1,”-”,mia1,” -”,ano1\n",
        "  SENÃO SE dia2>dia1\n",
        "      ESCREVA “A maior data é: “,dia2,” -”,mes2,”-”,ano2\n",
        "  SENÃO\n",
        "      ESCREVA “As datas são iguais!”\n",
        "  ```"
      ]
    },
    {
      "cell_type": "code",
      "metadata": {
        "id": "Ayf2tlS1w-e7",
        "colab": {
          "base_uri": "https://localhost:8080/"
        },
        "outputId": "cbcbf647-6239-4cb9-cdc2-ce669fc2c64d"
      },
      "source": [
        "# Digite seu código aqui\n",
        "dia1 = int(input('Primeira data: informe o dia. '))\n",
        "mes1 = int(input('Primeira data: informe o mês. '))\n",
        "ano1 = int(input('Primeira data: informe o ano. '))\n",
        "\n",
        "dia2 = int(input('Segunda data: informe o dia. '))\n",
        "mes2 = int(input('Segunda data: informe o mês. '))\n",
        "ano2 = int(input('Segunda data: informe o ano. '))\n",
        "\n",
        "if ano1 > ano2:\n",
        "    print('A maior data é: ',dia1,'-',mes1,'-',ano1)\n",
        "elif ano2 > ano1:\n",
        "    print('A maior data é: ',dia2,'-',mes2,'-',ano2)\n",
        "elif mes1 > mes2:\n",
        "    print('A maior data é: ',dia1,'-',mes1,'-',ano1)\n",
        "elif mes2 > mes1:\n",
        "    print('A maior data é: ',dia2,'-',mes2,'-',ano2)\n",
        "elif dia1 > dia2:\n",
        "    print('A maior data é: ',dia1,'-',mes1,'-',ano1)\n",
        "elif dia2 > dia1:\n",
        "    print('A maior data é: ',dia2,'-',mes2,'-',ano2)\n",
        "else:\n",
        "    print('As datas são iguais!')"
      ],
      "execution_count": null,
      "outputs": [
        {
          "output_type": "stream",
          "name": "stdout",
          "text": [
            "Primeira data: informe o dia. 8\n",
            "Primeira data: informe o mês. 8\n",
            "Primeira data: informe o ano. 96\n",
            "Segunda data: informe o dia. 8\n",
            "Segunda data: informe o mês. 8\n",
            "Segunda data: informe o ano. 96\n",
            "As datas são iguais!\n"
          ]
        }
      ]
    },
    {
      "cell_type": "markdown",
      "metadata": {
        "id": "cWnawYSbw-o9"
      },
      "source": [
        "### 22. Faça um programa que receba a hora do início de um jogo e a hora do término (cada hora é composta por duas variáveis inteiras: hora e minuto). Calcule e mostre a duração do jogo (horas e minutos), sabendo que o tempo máximo de duração do jogo é de 24 horas e que ele pode começar em um dia e terminar no dia seguinte.\n",
        "    SE min_inicial > min_f\n",
        "        minuto_final = minuto_final + 60\n",
        "        hora_final = hora_final – 1\n",
        "    SE hora_inicial > hora_final\n",
        "        hora_final = hora_final + 24\n",
        "    minuto_duracao = minuto_final - minuto_inicial\n",
        "    hora_duracao = hora_final - hora_inicial"
      ]
    },
    {
      "cell_type": "code",
      "metadata": {
        "id": "-Eq9yPDyxAvk",
        "colab": {
          "base_uri": "https://localhost:8080/"
        },
        "outputId": "7b2196da-3dc2-47d2-9ebb-c80b390efe7e"
      },
      "source": [
        "# Digite seu código aqui\n",
        "hora_inicial = int(input('Informe a hora do início do jogo: '))\n",
        "min_inicial = int(input('Informe os minutos do início do jogo: '))\n",
        "hora_final = int(input('Informe a hora do final do jogo: '))\n",
        "min_final = int(input('Informe os minutos do final do jogo: '))\n",
        "\n",
        "if min_inicial > min_final:\n",
        "    min_final = min_final + 60\n",
        "    hora_final = hora_final - 1\n",
        "if hora_inicial > hora_final:\n",
        "    hora_final = hora_final + 24\n",
        "\n",
        "horaduracao = hora_final - hora_inicial\n",
        "minduracao = min_final - min_inicial\n",
        "\n",
        "print(f'O jogo teve duração de: {horaduracao} horas e {minduracao} minutos')"
      ],
      "execution_count": null,
      "outputs": [
        {
          "output_type": "stream",
          "name": "stdout",
          "text": [
            "Informe a hora do início do jogo: 05\n",
            "Informe os minutos do início do jogo: 16\n",
            "Informe a hora do final do jogo: 05\n",
            "Informe os minutos do final do jogo: 12\n",
            "O jogo teve duração de: 23 horas e 56 minutos\n"
          ]
        }
      ]
    },
    {
      "cell_type": "markdown",
      "metadata": {
        "id": "eT4oGEI9xA42"
      },
      "source": [
        "### 23. Faça um programa que receba o código correspondente ao cargo de um funcionário e seu salário atual e mostre o cargo, o valor do aumento e seu novo salário. Os cargos estão na tabela a seguir.\n",
        "\n",
        "  |CÓDIGO|CARGO|PERCENTUAL|\n",
        "  |---|---|---|\n",
        "  |1|Escriturário|50%|\n",
        "  |2|Secretário|35%|\n",
        "  |3|Caixa|20%|\n",
        "  |4|Gerente|10%|\n",
        "  |5|Diretor|Não tem aumento|\n",
        "\n",
        "```code\n",
        "SE cargo == 1\n",
        "    ESCREVA “O cargo é Escriturário”\n",
        "    aumento = salario * 50 / 100\n",
        "    ESCREVA “O valor do aumento é: “, aumento\n",
        "    novo_sal = salario + aumento\n",
        "    ESCREVA “O novo salário é: “, novo_sal\n",
        "SENÃO SE cargo == 2\n",
        "    ESCREVA “O cargo é Secretário”\n",
        "    aumento = salario * 35 / 100\n",
        "    ESCREVA “O valor do aumento é: “, aumento\n",
        "    novo_sal = salario + aumento\n",
        "    ESCREVA “O novo salário é: “, novo_sal]\n",
        "SENÃO SE cargo == 3\n",
        "    ESCREVA “O cargo é Caixa”\n",
        "    aumento = salario * 20 / 100\n",
        "    ESCREVA “O valor do aumento é: “, aumento\n",
        "    novo_sal = salario + aumento\n",
        "    ESCREVA “O novo salário é: “,novo_sal\n",
        "SENÃO SE cargo == 4\n",
        "    ESCREVA “O cargo é Gerente”\n",
        "    aumento = salario * 10 / 100\n",
        "    ESCREVA “O valor do aumento é: “, aumento\n",
        "    novo_sal = salario + aumento\n",
        "    ESCREVA “O novo salário é: “, novo_sal\n",
        "SENÃO SE cargo == 5\n",
        "    ESCREVA “O cargo é Diretor”\n",
        "    aumento = salario * 0 / 100\n",
        "    ESCREVA “O valor do aumento é: “, aumento\n",
        "    novo_sal = salario + aumento\n",
        "    ESCREVA “O novo salário é: “, novo_sal\n",
        "```"
      ]
    },
    {
      "cell_type": "code",
      "metadata": {
        "id": "Akw301nvxDG0",
        "colab": {
          "base_uri": "https://localhost:8080/"
        },
        "outputId": "f5c0e52a-b054-49e5-a132-4d6a58ca3ffe"
      },
      "source": [
        "# Digite seu código aqui\n",
        "cod = int(input('Informe o código do salário: '))\n",
        "salario = float(input('Informe o salário atual: '))\n",
        "\n",
        "if cod == 1:\n",
        "    cargo = 'Escriturário'\n",
        "    novosalario = salario * 1.5\n",
        "    aumento = novosalario - salario\n",
        "    print(f'O cargo de {cargo} tem um aumento de R${aumento} reais, resultando em um salário de R${novosalario:.2f} reais.')\n",
        "\n",
        "if cod == 2:\n",
        "    cargo = 'Secretário'\n",
        "    novosalario = salario * 1.35\n",
        "    aumento = novosalario - salario\n",
        "    print(f'O cargo de {cargo} tem um aumento de R${aumento} reais, resultando em um salário de R${novosalario:.2f} reais.')\n",
        "\n",
        "if cod == 3:\n",
        "    cargo = 'Caixa'\n",
        "    novosalario = salario * 1.2\n",
        "    aumento = novosalario - salario\n",
        "    print(f'O cargo de {cargo} tem um aumento de R${aumento} reais, resultando em um salário de R${novosalario:.2f} reais.')\n",
        "\n",
        "if cod == 4:\n",
        "    cargo = 'Gerente'\n",
        "    novosalario = salario * 1.1\n",
        "    aumento = novosalario - salario\n",
        "    print(f'O cargo de {cargo} tem um aumento de R${aumento} reais, resultando em um salário de R${novosalario:.2f} reais.')\n",
        "\n",
        "if cod == 5:\n",
        "    cargo = 'Diretor'\n",
        "    novosalario = salario\n",
        "    aumento = novosalario - salario\n",
        "    print(f'O cargo de {cargo} tem um aumento de R${aumento} reais, resultando em um salário de R${novosalario:.2f} reais.')\n",
        "\n",
        "if cod < 1 or cod > 5:\n",
        "    print('Código de cargo inválido.')\n"
      ],
      "execution_count": null,
      "outputs": [
        {
          "output_type": "stream",
          "name": "stdout",
          "text": [
            "Informe o código do salário: 6\n",
            "Informe o salário atual: 1500\n",
            "Código de cargo inválido.\n"
          ]
        }
      ]
    },
    {
      "cell_type": "markdown",
      "metadata": {
        "id": "wKORNMrWxDQs"
      },
      "source": [
        "### 24. Faça um programa que apresente o menu a seguir, permita ao usuário escolher a opção desejada, receba os dados necessários para executar a operação e mostre o resultado. Verifique a possibilidade de opção inválida e não se preocupe com restrições, como salário negativo.\n",
        "\n",
        "    Menu de opções\n",
        "    1. Imposto\n",
        "    2. Novo salário\n",
        "    3. Classificação\n",
        "    Digite a opção desejada:\n",
        "\n",
        "*Na opção 1: receber o salário de um funcionário, calcular e mostrar o valor do imposto usando as regras a seguir.*\n",
        "\n",
        "  |SALÁRIO|PERCENTUAL DO IMPOSTO|\n",
        "  |---|---|\n",
        "  |Menor que  500,00|5%|\n",
        "  |De  500,00 (inclusive) a  850,00 (inclusive)|10%|\n",
        "  |Acima de  850,00|15%|\n",
        "\n",
        "*Na opção 2: receber o salário de um funcionário, calcular e mostrar o valor do novo salário, usando as regras a seguir.*\n",
        "\n",
        "  |SALÁRIO|AUMENTO|\n",
        "  |---|---|\n",
        "  |Maior que  1.500,00| 25,00|\n",
        "  |De  750,01 a  1.500,00 (inclusive)| 50,00|\n",
        "  |De  450,00 (inclusive) a  750,00| 75,00|\n",
        "  |Menor que  450,00| 100,00|\n",
        "\n",
        "*Na opção 3: receber o salário de um funcionário e mostrar sua classificação usando a tabela a seguir.*\n",
        "\n",
        "|SALÁRIO|CLASSIFICAÇÃO|\n",
        "|---|---|\n",
        "|Até  700,00 (inclusive)|Mal remunerado|\n",
        "|Maiores que  700,00|Bem remunerado|\n"
      ]
    },
    {
      "cell_type": "code",
      "metadata": {
        "id": "LsX6cPFdxFxe",
        "colab": {
          "base_uri": "https://localhost:8080/"
        },
        "outputId": "2d07f0aa-0c7b-4d6c-e28f-885e687275a2"
      },
      "source": [
        "# Digite seu código aqui\n",
        "print('Menu de opções')\n",
        "print('1. Imposto')\n",
        "print('2. Novo salário')\n",
        "print('3. Classificação')\n",
        "\n",
        "escolha = int(input('Digite a opção desejada: '))\n",
        "\n",
        "if escolha == 1:\n",
        "    salario = float(input('Informe o seu salário: '))\n",
        "    if salario < 500:\n",
        "        imposto = salario * 0.05\n",
        "        print('O valor do imposto é de: R$',imposto)\n",
        "    elif salario >= 500 and salario <= 850:\n",
        "        imposto = salario * 0.1\n",
        "        print('O valor do imposto é de: R$',imposto)\n",
        "    elif salario > 850:\n",
        "        imposto = salario * 0.15\n",
        "        print('O valor do imposto é de: R$',imposto)\n",
        "if escolha == 2:\n",
        "    salario = float(input('Informe o seu salário: '))\n",
        "    if salario < 450:\n",
        "        novo = salario + 100\n",
        "        print('O valor do novo salário é de: R$',novo)\n",
        "    elif salario >= 450 and salario <= 750:\n",
        "        novo = salario + 75\n",
        "        print('O valor do novo salário é de: R$',novo)\n",
        "    elif salario > 750 and salario <= 1500:\n",
        "        novo = salario + 50\n",
        "        print('O valor do novo salário é de: R$',novo)\n",
        "    elif salario > 1500:\n",
        "        novo = salario + 25\n",
        "        print('O valor do novo salário é de: R$',novo)\n",
        "if escolha == 3:\n",
        "    salario = float(input('Informe o seu salário: '))\n",
        "    if salario <= 700:\n",
        "        print('Mal remunerado.')\n",
        "    elif salario > 700:\n",
        "        print('Bem remunerado')\n",
        "if escolha > 3 or escolha < 1:\n",
        "    print('Opção inválida.')"
      ],
      "execution_count": null,
      "outputs": [
        {
          "output_type": "stream",
          "name": "stdout",
          "text": [
            "Menu de opções\n",
            "1. Imposto\n",
            "2. Novo salário\n",
            "3. Classificação\n",
            "Digite a opção desejada: 2\n",
            "Informe o seu salário: 1000\n",
            "O valor do novo salário é de: R$ 1050.0\n"
          ]
        }
      ]
    },
    {
      "cell_type": "markdown",
      "metadata": {
        "id": "pNlvJKW5xF6H"
      },
      "source": [
        "###25. Faça um programa que receba o salário inicial de um funcionário, calcule e mostre o novo salário, acrescido de bonificação e de auxílio escola.\n",
        "\n",
        "|SALÁRIO|BONIFICAÇÃO|\n",
        "|---|---|\n",
        "|Até  500,00|5% do salário|\n",
        "|Entre  500,01 e 1.200,00|12% do salário|\n",
        "|Acima de  1.200,00|Sem bonificação|\n",
        ">\n",
        "|SALÁRIO|AUXÍLIO ESCOLA|\n",
        "|---|---|\n",
        "|Até  600,00| 150,00|\n",
        "|Acima de  600,00| 100,00|\n",
        "\n",
        "novo_salario = salario + bonificacao + auxílio escola"
      ]
    },
    {
      "cell_type": "code",
      "metadata": {
        "id": "m2EJlS2IxIrf",
        "colab": {
          "base_uri": "https://localhost:8080/"
        },
        "outputId": "035c0339-a739-4819-a17f-202b8364f8ab"
      },
      "source": [
        "# Digite seu código aqui\n",
        "salario = float(input('Informe o seu salário: '))\n",
        "\n",
        "if salario <= 500:\n",
        "    bonif = salario * 0.05\n",
        "elif salario > 500 and salario <= 1200:\n",
        "    bonif = salario * 0.12\n",
        "else:\n",
        "    bonif = 0\n",
        "\n",
        "if salario <= 600:\n",
        "    auxilio = 150\n",
        "else:\n",
        "    auxilio = 100\n",
        "\n",
        "novo = salario + bonif + auxilio\n",
        "\n",
        "print('O valor do novo salário é de: R$',novo)"
      ],
      "execution_count": null,
      "outputs": [
        {
          "output_type": "stream",
          "name": "stdout",
          "text": [
            "Informe o seu salário: 550\n",
            "O valor do novo salário é de: R$ 766.0\n"
          ]
        }
      ]
    },
    {
      "cell_type": "markdown",
      "metadata": {
        "id": "fA_TpNq4xI0h"
      },
      "source": [
        "### 26. Faça um programa que receba o valor do salário mínimo, o número de horas trabalhadas, o número de dependentes do funcionário e a quantidade de horas extras trabalhadas. Calcule e mostre o salário a receber do funcionário de acordo com as regras a seguir:\n",
        "\n",
        "  * O valor da hora trabalhada é igual a 1/5 do salário mínimo.\n",
        "  * O salário do mês é igual ao número de horas trabalhadas multiplicado pelo valor da hora trabalhada.\n",
        "  * Para cada dependente, acrescentar  32,00.\n",
        "  * Para cada hora extra trabalhada, calcular o valor da hora * trabalhada acrescida de 50%.\n",
        "  * O salário bruto é igual ao salário do mês mais o valor dos dependentes mais o valor das horas extras.\n",
        "  * Calcular o valor do impostoosto de renda retido na fonte de acordo com a tabela a seguir:\n",
        "\n",
        "|IRFF|SALÁRIO BRUTO|\n",
        "|---|---|\n",
        "|Isento|Inferior a  200,00|\n",
        "|10%|De  200,00 até 500,00|\n",
        "|20%|Superior a  500,00|\n",
        "\n",
        "  * O salário líquido é igual ao salário bruto menos IRRF.\n",
        "  * A gratificação é de acordo com a tabela a seguir:\n",
        "\n",
        "|SALÁRIO LÍQUIDO|GRATIFICAÇÃO|\n",
        "|---|---|\n",
        "|Até 350,00| 100,00|\n",
        "|Superior a  350| 50,00|\n",
        "\n",
        "  * O salário a receber do funcionário é igual ao salário líquido mais a gratificação.\n",
        "\n",
        "  ```code\n",
        "  LEIA salario_minimo, numero_horas_trabalhadas, numero_dependentes, numero_horas_extras\n",
        "  \n",
        "  valor_hora = 1/5 * salario_minimo\n",
        "  salario_mes = numero_horas_trabalhadas * valor_hora\n",
        "  valor_dependentes = 32 * numero_dependentes\n",
        "  valor_hora_extra = numero_horas_extras * (valor_hora + (valor_hora * 50/100))\n",
        "  salario_bruto =salario_mes + valor_dependentes + valor_hora_extra\n",
        "  \n",
        "  SE salario_bruto < 200\n",
        "        imposto = 0\n",
        "  SENÃO SE salario_bruto >= 200 E salario_bruto <= 500\n",
        "        imposto = salario_bruto * 10/100\n",
        "  SENÃO SE salario_bruto > 500\n",
        "        imposto = salario_bruto * 20/100\n",
        "  salario_liquido = salario_bruto – imposto\n",
        "  SE salario_liquido <= 350\n",
        "        gratificacao = 100\n",
        "  SENÃO\n",
        "        gratificacao = 50\n",
        "  salario_a_receber = salario_liquido + gratificacao\n",
        "  \n",
        "  ESCREVA salario_a_receber\n",
        "  ```"
      ]
    },
    {
      "cell_type": "code",
      "metadata": {
        "id": "3eECKlHfxLK5",
        "colab": {
          "base_uri": "https://localhost:8080/"
        },
        "outputId": "6c49f972-d99a-4237-e77b-e6c340d169fe"
      },
      "source": [
        "# Digite seu código aqui\n",
        "salario = float(input('Informe o seu salário: '))\n",
        "horas = int(input('Informe o número de horas trabalhadas: '))\n",
        "dep = int(input('Informe o número de dependentes: '))\n",
        "hextra = int(input('Informe o número de horas extras: '))\n",
        "\n",
        "htrabalhada = salario / 5\n",
        "salario_mes = horas * htrabalhada\n",
        "valor_dep = dep * 32\n",
        "valor_hextra = htrabalhada * 1.5 * hextra\n",
        "bruto = salario_mes + valor_dep + valor_hextra\n",
        "\n",
        "if bruto < 200:\n",
        "    valorirrf = 0\n",
        "elif bruto >= 200 and bruto <= 500:\n",
        "    valorirrf = bruto * 0.1\n",
        "else:\n",
        "    valorirrf = bruto * 0.2\n",
        "\n",
        "liquido = bruto - valorirrf\n",
        "\n",
        "if liquido <= 350:\n",
        "    gratif = 100\n",
        "else:\n",
        "    gratif = 50\n",
        "\n",
        "receber = liquido + gratif\n",
        "\n",
        "print('O valor do salário é de: R$',receber)"
      ],
      "execution_count": null,
      "outputs": [
        {
          "output_type": "stream",
          "name": "stdout",
          "text": [
            "Informe o seu salário: 100\n",
            "Informe o número de horas trabalhadas: 2\n",
            "Informe o número de dependentes: 2\n",
            "Informe o número de horas extras: 2\n",
            "O valor do salário é de: R$ 264.0\n"
          ]
        }
      ]
    },
    {
      "cell_type": "markdown",
      "metadata": {
        "id": "MuKRkPA9xLVE"
      },
      "source": [
        "### 27 Um supermercado deseja reajustar os preços de seus produtos usando o seguinte critério: o produto poderá ter seu preço aumentado ou diminuído. Para o preço ser alterado, o produto deve preencher pelo menos um dos requisitos a seguir:\n",
        "\n",
        "|VENDA MÉDIA MENSAL|PREÇO ATUAL|% DE AUMENTO|% DE DIMINUIÇÃO|\n",
        "|---|--|---|---|\n",
        "|< 500|<  30000|10|-|\n",
        "|\\>= 500 e <1200|\\>=  30.00 e <  80.00|15|-|\n",
        "|\\>= 1200|\\>=  80.00|-|20|\n",
        "\n",
        "* Faça um programa que receba o preço atual e a venda média mensal do produto, calcule e mostre o novo preço.\n",
        "\n",
        "```code\n",
        "LEIA preco_atual, media_mensal_vendas\n",
        "\n",
        "SE media_mensal_vendas < 500 OU preco_atual < 30\n",
        "    novo_preco = preco_atual + 10/100 * preco_atual\n",
        "SENÃO SE media_mensal_vendas >= 500 E media_mensal_vendas < 1200 OU preco_atual >= 30 E preco_atual<80\n",
        "    novo_preco = preco_atual + 15 / 100 * preco_atual\n",
        "SENÃO SE venda >= 1200 OU preco_atual >= 80\n",
        "    novo_preco = preco_atual – 20 / 100 * preco_atual\n",
        "      \n",
        "ESCREVA novo_preco\n",
        "```"
      ]
    },
    {
      "cell_type": "code",
      "metadata": {
        "id": "yzIzUTc7xNmr",
        "colab": {
          "base_uri": "https://localhost:8080/"
        },
        "outputId": "3385312a-1b94-48a8-b827-3352e1d4933e"
      },
      "source": [
        "# Digite seu código aqui\n",
        "preco = float(input('Informe o preço atual do produto: '))\n",
        "media = float(input('Informe a média mensal de vendas: '))\n",
        "\n",
        "if media < 500 or preco < 30:\n",
        "    novo = preco * 1.1\n",
        "elif (media <= 500 and media < 1200) or (preco >= 30 and preco < 80):\n",
        "    novo = preco * 1.15\n",
        "elif media >= 1200 or preco >= 80:\n",
        "    novo = preco * 0.8\n",
        "\n",
        "print(f'O novo preço do serviço é: R${novo:.2f} reais')"
      ],
      "execution_count": null,
      "outputs": [
        {
          "output_type": "stream",
          "name": "stdout",
          "text": [
            "Informe o preço atual do produto: 70\n",
            "Informe a média mensal de vendas: 600\n",
            "O novo preço do serviço é: R$80.50 reais\n"
          ]
        }
      ]
    },
    {
      "cell_type": "markdown",
      "metadata": {
        "id": "X-eT0SRdxNwk"
      },
      "source": [
        "### 28. Faça um programa para resolver equações do 2 o grau.\n",
        "\n",
        "**ax² + bx + c = 0**\n",
        "\n",
        "A variável *a* deve ser diferente de zero*\n",
        "\n",
        "  * delta = b ** 2 - 4 * a * c\n",
        "  * delta < 0.  **Não existe raiz real**\n",
        "  * delta = 0. **Existe uma raiz real**\n",
        "    * x = (-b) / (2 * a)\n",
        "  * delta > 0. **Existem duas raízes reais**\n",
        "    * x1 = -b + raiz(delta)/ (2 * a)\n",
        "    * x2 = -b  - raiz(delta)/ (2 * a)\n",
        "\n",
        "```code\n",
        "LEIA a, b, c\n",
        "SE a = 0\n",
        "    ESCREVA “Estes valores não formam uma equação de segundo grau”\n",
        "SENÃO\n",
        "    delta = (b * b) – ( 4 * a * c)\n",
        "    SE delta < 0\n",
        "        ESCREVA “Não existe raiz real”\n",
        "    SE delta = 0\n",
        "        ESCREVA “Existe uma raiz real”\n",
        "        x1 = (– b) / (2 * a)\n",
        "        ESCREVA x1\n",
        "    SE delta > 0\n",
        "        ESCREVA “Existem duas raízes reais”\n",
        "        x1 = (– b) + raiz(delta) / (2 * a)\n",
        "        x2 = (– b) - raiz(delta) / (2 * a)\n",
        "        ESCREVA(x1, x2)\n",
        "```"
      ]
    },
    {
      "cell_type": "code",
      "metadata": {
        "id": "DAhDbbkaxTAS",
        "colab": {
          "base_uri": "https://localhost:8080/"
        },
        "outputId": "e16041ca-026b-4c7d-8d42-073c34975895"
      },
      "source": [
        "# Digite seu código aqui\n",
        "a = float(input('Informe o valor de a: '))\n",
        "b = float(input('Informe o valor de b: '))\n",
        "c = float(input('Informe o valor de c: '))\n",
        "\n",
        "if a == 0:\n",
        "    print('Estes valores não formam uma equação de segundo grau.')\n",
        "else:\n",
        "    delta = b ** 2 - 4 * a * c\n",
        "    if delta < 0:\n",
        "        print('Não existe raiz real.')\n",
        "    elif delta == 0:\n",
        "        print('Existe uma raiz real.')\n",
        "        x1 = (- b) / (2 * a)\n",
        "        print('O valor de x é: ',x1)\n",
        "    else:\n",
        "        print('Existem duas raízes reais.')\n",
        "        x1 = (- b) + ((delta * 0.5) / (2 * a))\n",
        "        x2 = (- b) - ((delta * 0.5) / (2 * a))\n",
        "        print(f'O valor de x1 é {x1} e o valor de x2 é {x2}.')"
      ],
      "execution_count": null,
      "outputs": [
        {
          "output_type": "stream",
          "name": "stdout",
          "text": [
            "Informe o valor de a: 5\n",
            "Informe o valor de b: 9\n",
            "Informe o valor de c: 1\n",
            "Existem duas raízes reais.\n",
            "O valor de x1 é -5.95 e o valor de x2 é -12.05\n"
          ]
        }
      ]
    },
    {
      "cell_type": "markdown",
      "metadata": {
        "id": "PrDtckwwxTK6"
      },
      "source": [
        "### 29. Dados três valores X, Y e Z, verifique se eles podem ser os comprimentos dos lados de um triângulo e, se forem, verifique se é um triângulo equilátero, isósceles ou escaleno. Se eles não formarem um triângulo, escreva uma mensagem.\n",
        "Considere que:\n",
        "* o comprimento de cada lado de um triângulo é menor que a soma dos outros dois lados;\n",
        "* chama-se equilátero o triângulo que tem três lados iguais;\n",
        "* denomina-se isósceles o triângulo que tem o comprimento de dois lados iguais;\n",
        "* recebe o nome de escaleno o triângulo que tem os três lados diferentes.\n",
        "\n",
        "```code\n",
        "LEIA x, y, z\n",
        "SE x < y + z E y < x + z E z < x + y\n",
        "    SE x = y E y = z\n",
        "        ESCREVA “Triângulo Equilátero”\n",
        "    SENÃO SE x = y OU x = z OU y = z\n",
        "        ESCREVA “Triângulo Isósceles”\n",
        "    SENÃO SE x ≠ y E x ≠ z E y ≠ z\n",
        "        ESCREVA “Triângulo Escaleno”\n",
        "SENÃO\n",
        "    ESCREVA “Essas medidas não formam um triângulo”\n",
        "```"
      ]
    },
    {
      "cell_type": "code",
      "metadata": {
        "id": "72Ljhi6lxyco",
        "colab": {
          "base_uri": "https://localhost:8080/"
        },
        "outputId": "2fcbfae0-f8fd-42f2-ff63-3e61fec70186"
      },
      "source": [
        "# Digite seu código aqui\n",
        "x = float(input('Informe o valor de x: '))\n",
        "y = float(input('Informe o valor de y: '))\n",
        "z = float(input('Informe o valor de z: '))\n",
        "\n",
        "if x < y + z and y < x + z and z < x + y:\n",
        "    if x == y and y == z:\n",
        "        print('Triângulo Equilátero.')\n",
        "    elif x == y or x == z or y == z:\n",
        "        print('Triângulo Isósceles.')\n",
        "    elif x != y and x != z and y != z:\n",
        "        print('Triângulo Escaleno.')\n",
        "else:\n",
        "    print('Essas medidas não formam um triângulo.')"
      ],
      "execution_count": null,
      "outputs": [
        {
          "output_type": "stream",
          "name": "stdout",
          "text": [
            "Informe o valor de x: 2\n",
            "Informe o valor de y: 2\n",
            "Informe o valor de z: 5\n",
            "Essas medidas não formam um triângulo.\n"
          ]
        }
      ]
    },
    {
      "cell_type": "markdown",
      "metadata": {
        "id": "mCpnRwCvxymh"
      },
      "source": [
        "### 30. Faça um programa que receba a altura e peso de uma pessoa. De acordo com a tabela a seguir, verifique e mostre a classificação dessa pessoa.\n",
        "\n",
        "|ALTURA|ATÉ 60|ENTRE 60 E 90 (INCLUSIVE)|ACIMA DE 90|\n",
        "|---|---|---|---|\n",
        "|Menores que 1,20|A|D|G|\n",
        "|De 1,20 a 1,70|B|E|H|\n",
        "|Maiores que 1,70|C|F|I|\n",
        "\n",
        "```code\n",
        "LEIA altura, peso\n",
        "SE altura < 1.20\n",
        "    SE peso <= 60\n",
        "        ESCREVA “A”\n",
        "    SENÃO SE peso > 60 E peso <= 90\n",
        "        ESCREVA “D”\n",
        "    SENÃO SE peso > 90\n",
        "        ESCREVA “G”\n",
        "SENÃO SE altura >= 1.20 E altura <= 1.70\n",
        "    SE peso <= 60\n",
        "        ESCREVA “B”\n",
        "    SENÃO SE peso > 60 E peso <= 90\n",
        "        ESCREVA “E”\n",
        "    SENÃO SE peso > 90\n",
        "        ESCREVA “H”\n",
        "SENÃO SE altura > 1.70\n",
        "    SE peso <= 60\n",
        "        ESCREVA “C”\n",
        "    SENÃO SE peso > 60 E peso <= 90\n",
        "        EESCREVA “F”\n",
        "    SENÃO SE peso > 90\n",
        "        ESCREVA “I”\n",
        "```"
      ]
    },
    {
      "cell_type": "code",
      "metadata": {
        "id": "SXLzbTf6x4pi",
        "colab": {
          "base_uri": "https://localhost:8080/"
        },
        "outputId": "faf94c20-8077-40fd-9a06-d9c5e81b3529"
      },
      "source": [
        "# Digite seu código aqui\n",
        "altura = float(input('Informe o valor da altura: '))\n",
        "peso = float(input('Informe o valor do peso: '))\n",
        "\n",
        "if altura < 1.2:\n",
        "    if peso <= 60:\n",
        "        print('Classificação A.')\n",
        "    elif peso > 60 and peso < 90:\n",
        "        print('Classificação D.')\n",
        "    else:\n",
        "        print('Classificação G.')\n",
        "elif altura >= 1.2 and altura <= 1.7:\n",
        "    if peso <= 60:\n",
        "        print('Classificação B.')\n",
        "    elif peso > 60 and peso < 90:\n",
        "        print('Classificação E.')\n",
        "    else:\n",
        "        print('Classificação H.')\n",
        "else:\n",
        "    if peso <= 60:\n",
        "        print('Classificação C.')\n",
        "    elif peso > 60 and peso < 90:\n",
        "        print('Classificação F.')\n",
        "    else:\n",
        "        print('Classificação I.')"
      ],
      "execution_count": null,
      "outputs": [
        {
          "output_type": "stream",
          "name": "stdout",
          "text": [
            "Informe o valor da altura: 1.8\n",
            "Informe o valor do peso: 50\n",
            "Classificação C.\n"
          ]
        }
      ]
    },
    {
      "cell_type": "markdown",
      "metadata": {
        "id": "ydBS_HyAx40L"
      },
      "source": [
        "### 31. Faça um programa que receba:\n",
        "\n",
        "* O código de um produto comprado, supondo que a digitação do código do produto seja sempre válida, isto é, um número * inteiro entre 1 e 10.\n",
        "* O peso do produto em quilos.\n",
        "* O código do país de origem, supondo que a digitação do  código seja sempre válida, isto é, um número inteiro entre 1 e 3.\n",
        "\n",
        "|CÓDIGO DO PAÍS DE ORIGEM|IMPOSTO|\n",
        "|---|---|\n",
        "|1|0%|\n",
        "|2|15%|\n",
        "|3|25%|\n",
        "\n",
        "|CÓDIGO DO PAÍS DO PRODUTO|PREÇO POR GRAMA|\n",
        "|---|---|\n",
        "|1 a 4|10|\n",
        "|5 a 7|25|\n",
        "|8 a 10|35|\n",
        "\n",
        "Calcule e mostre:\n",
        "* o peso do produto convertido em gramas;\n",
        "* o preço total do produto comprado;\n",
        "* valor do imposto, sabendo que ele é cobrado sobre o * preço total do produto comprado e dependendo país de origem;\n",
        "* o valor total, preço total do produto mais imposto.\n",
        "\n",
        "```code\n",
        "LEIA codigo_produto, peso_quilos, codigo_pais\n",
        "peso_em_gramas = peso_quilos * 1000\n",
        "ESCREVA peso_em_gramas\n",
        "SE codigo_produto >= 1 E codigo_produto <= 4\n",
        "   preco_por_grama = 10\n",
        "SENÃO SE codigo_produto >= 5 E codigo_produto <= 7\n",
        "   preco_por_grama = 25\n",
        "SENÃO SE codigo_produto >= 8 E codigo_produto <= 10\n",
        "   preco_por_grama = 35    \n",
        "preco_total = peso_em_gramas *preco_por_grama\n",
        "ESCREVA preco_total\n",
        "SE codigo_pais = 1\n",
        "    imposto = 0\n",
        "SENÃO SE codigo_pais = 2\n",
        "    imposto = preco_total * 15/100\n",
        "SENÃO SE codigo_pais = 3\n",
        "    imposto = preco_total * 25/100    \n",
        "ESCREVA imposto\n",
        "valor_total = preco_total + imposto\n",
        "ESCREVA valor_total\n",
        "```"
      ]
    },
    {
      "cell_type": "code",
      "metadata": {
        "id": "hZvxJNadx7dp",
        "colab": {
          "base_uri": "https://localhost:8080/"
        },
        "outputId": "4047291a-b0a8-4867-af1d-51428a2928a6"
      },
      "source": [
        "# Digite seu código aqui\n",
        "cod_produto = int(input('Informe o código do produto (1 a 10): '))\n",
        "peso_kg = float(input('Informe o peso do produto em quilos: '))\n",
        "cod_pais = int(input('Informe o código do país de origem (1 a 3): '))\n",
        "\n",
        "peso_g = peso_kg * 1000\n",
        "(print(f'O peso em gramas é de: {peso_g:.2f} gramas'))\n",
        "\n",
        "if cod_produto >= 1 and cod_produto <= 4:\n",
        "    preco_por_grama = 10\n",
        "elif cod_produto >= 5 and cod_produto <= 7:\n",
        "    preco_por_grama = 25\n",
        "elif cod_produto >= 8 and cod_produto <= 10:\n",
        "    preco_por_grama = 35\n",
        "\n",
        "precototal = preco_por_grama * peso_g\n",
        "\n",
        "if cod_pais == 1:\n",
        "    imposto = 0\n",
        "elif cod_pais == 2:\n",
        "    imposto = precototal * 0.15\n",
        "elif cod_pais == 3:\n",
        "    imposto = precototal * 0.25\n",
        "\n",
        "print(f'O imposto é de: {imposto:.2f} reais.')\n",
        "\n",
        "valor = precototal + imposto\n",
        "\n",
        "print(f'O valor total é de: {valor:.2f} reais.')"
      ],
      "execution_count": null,
      "outputs": [
        {
          "output_type": "stream",
          "name": "stdout",
          "text": [
            "Informe o código do produto (1 a 10): 2\n",
            "Informe o peso do produto em quilos: 2\n",
            "Informe o código do país de origem (1 a 3): 2\n",
            "O peso em gramas é de: 2000.00 gramas\n",
            "O imposto é de: 3000.00 reais.\n",
            "O valor total é de: 23000.00 reais.\n"
          ]
        }
      ]
    },
    {
      "cell_type": "markdown",
      "metadata": {
        "id": "XyWancSmx7l5"
      },
      "source": [
        "### 32. Faça um programa que receba:\n",
        "* o código do estado de origem da carga de um caminhão, supondo que a digitação do código do estado seja sempre válida, isto é, um número inteiro entre 1 e 5;\n",
        "* o peso da carga do caminhão em toneladas;\n",
        "* o código da carga, supondo que a digitação do código seja sempre válida, isto é, um número inteiro entre 10 e 40.\n",
        "\n",
        "| CÓDIGO DO ESTADO| IMPOSTO|\n",
        "|---|---|\n",
        "|1|35%|\n",
        "|2|25%|\n",
        "|3|15%|\n",
        "|4|5%|\n",
        "|5|Isento|\n",
        ">\n",
        "CÓDIGO DA CARGA|PREÇO POR QUILO\n",
        "---|---\n",
        "10 a 20|100\n",
        "21 a 30|250\n",
        "31 a 40|400\n",
        "\n",
        "Calcule e mostre:\n",
        "* o peso da carga do caminhão convertido em quilos;\n",
        "* o preço da carga do caminhão;\n",
        "* o valor do imposto, sabendo que o imposto é cobrado sobre o preço da carga do caminhão e depende do estado de origem;\n",
        "* o valor total transportado pelo caminhão, preço da carga mais imposto.\n",
        "\n",
        "```\n",
        "LEIA codigo_estado, peso_em_toneladas, codigo_carga\n",
        "peso_em_quilos = peso_em_toneladas * 1000\n",
        "ESCREVA peso_em_quilos\n",
        "SE codigo_carga >= 10 E codigo_carga <= 20\n",
        "    preco_da_carga = 100 * peso_em_quilos\n",
        "SENÃO SE codigo_carga >= 21 E codigo_carga <= 30\n",
        "    preco_da_carga = 250 * peso_em_quilos\n",
        "SENÃO SE codigo_carga >= 31 E codigo_carga <= 40\n",
        "    preco_da_carga = 340 * peso_em_quilos   \n",
        "ESCREVA preco_da_carga\n",
        "SE codigo_estado = 1\n",
        "    imposto = 35/100 * preco_da_carga\n",
        "SENÃO SE codigo_estado = 2\n",
        "    imposto = 25/100 * preco_da_carga\n",
        "SENÃO SE codigo_estado = 3\n",
        "    imposto = 15/100 * preco_ds_carga\n",
        "SENÃO SE codigo_estado = 4\n",
        "    imposto = 5/100 * preco_da_carga\n",
        "SENÃO SE codigo_estado = 5\n",
        "    imposto = 0\n",
        "ESCREVA imposto\n",
        "valor_total = preco_da_carga + imposto\n",
        "ESCREVA valor_total\n",
        "```"
      ]
    },
    {
      "cell_type": "code",
      "metadata": {
        "id": "JCjrCJ9Gx8X3",
        "colab": {
          "base_uri": "https://localhost:8080/"
        },
        "outputId": "748b4049-8a61-4960-8462-3d8dc3597aab"
      },
      "source": [
        "# Digite seu código aqui\n",
        "cod_estado = int(input('Informe o código do estado (1 a 5): '))\n",
        "peso_ton = float(input('Informe o peso da carga em toneladas: '))\n",
        "cod_carga = int(input('Informe o código da carga (10 a 40): '))\n",
        "\n",
        "peso_kg = peso_ton * 1000\n",
        "print('O peso em kg é de: ',peso_kg)\n",
        "\n",
        "if cod_carga >= 10 and cod_carga <= 20:\n",
        "    preco = 100 * peso_kg\n",
        "elif cod_carga >= 21 and cod_carga <= 30:\n",
        "    preco = 250 * peso_kg\n",
        "elif cod_carga >= 31 and cod_carga <= 40:\n",
        "    preco = 400 * peso_kg\n",
        "print(f'O preço da carga do caminhão é de: R${preco:.2f} reais.')\n",
        "\n",
        "if cod_estado == 1:\n",
        "    imposto = preco * 0.35\n",
        "elif cod_estado == 2:\n",
        "    imposto = preco * 0.25\n",
        "elif cod_estado == 3:\n",
        "    imposto = preco * 0.15\n",
        "elif cod_estado == 4:\n",
        "    imposto = preco * 0.05\n",
        "elif cod_estado == 5:\n",
        "    imposto = 0\n",
        "print(f'O valor do imposto é de: R${imposto:.2f} reais.')\n",
        "\n",
        "valor = preco + imposto\n",
        "\n",
        "print(f'O preço final é de: R${valor:.2f} reais.')"
      ],
      "execution_count": null,
      "outputs": [
        {
          "output_type": "stream",
          "name": "stdout",
          "text": [
            "Informe o código do produto (1 a 5): 2\n",
            "Informe o peso da carga em toneladas: .5\n",
            "Informe o código da carga (10 a 40): 40\n",
            "O peso em kg é de:  500.0\n",
            "O preço da carga do caminhão é de: R$200000.00 reais.\n",
            "O valor do imposto é de: R$50000.00 reais.\n",
            "O preço final é de: R$250000.00 reais.\n"
          ]
        }
      ]
    },
    {
      "cell_type": "code",
      "source": [
        "# ALTERNATIVO\n",
        "cod_estado = int(input('Informe o código do estado (1 a 5): '))\n",
        "peso_ton = float(input('Informe o peso da carga em toneladas: '))\n",
        "cod_carga = int(input('Informe o código da carga (10 a 40): '))\n",
        "\n",
        "peso_kg = peso_ton * 1000\n",
        "print('O peso em kg é de: ',peso_kg)\n",
        "\n",
        "if cod_carga >=10 and cod_carga <= 40:\n",
        "    if cod_carga >= 10 and cod_carga <= 20:\n",
        "        preco = 100 * peso_kg\n",
        "    elif cod_carga >= 21 and cod_carga <= 30:\n",
        "        preco = 250 * peso_kg\n",
        "    elif cod_carga >= 31 and cod_carga <= 40:\n",
        "        preco = 400 * peso_kg\n",
        "    print(f'O preço da carga do caminhão é de: R${preco:.2f} reais.')\n",
        "else:\n",
        "    print('Código de carga inválido.')\n",
        "\n",
        "if cod_carga >=10 and cod_carga <= 40:\n",
        "    if cod_estado == 1 or cod_estado == 2 or cod_estado == 3 or cod_estado == 4 or cod_estado == 5:\n",
        "        if cod_estado == 1:\n",
        "            imposto = preco * 0.35\n",
        "        elif cod_estado == 2:\n",
        "            imposto = preco * 0.25\n",
        "        elif cod_estado == 3:\n",
        "            imposto = preco * 0.15\n",
        "        elif cod_estado == 4:\n",
        "            imposto = preco * 0.05\n",
        "        elif cod_estado == 5:\n",
        "            imposto = 0\n",
        "        print(f'O valor do imposto é de: R${imposto:.2f} reais.')\n",
        "        valor = preco + imposto\n",
        "        print(f'O preço final é de: R${valor:.2f} reais.')\n",
        "    else:\n",
        "        print('Código de estado inválido.')"
      ],
      "metadata": {
        "colab": {
          "base_uri": "https://localhost:8080/"
        },
        "id": "AosD7lrexipT",
        "outputId": "e941ef01-2350-4499-c881-1bc17becf99c"
      },
      "execution_count": null,
      "outputs": [
        {
          "output_type": "stream",
          "name": "stdout",
          "text": [
            "Informe o código do estado (1 a 5): 6\n",
            "Informe o peso da carga em toneladas: 0.05\n",
            "Informe o código da carga (10 a 40): 20\n",
            "O peso em kg é de:  50.0\n",
            "O preço da carga do caminhão é de: R$5000.00 reais.\n",
            "Código de estado inválido.\n"
          ]
        }
      ]
    },
    {
      "cell_type": "markdown",
      "metadata": {
        "id": "bBmw7JBQx8iH"
      },
      "source": [
        "### 33. Faça um programa que receba o salário base e o tempo de serviço de um funcionário. Calcule e mostre:\n",
        "* O imposto, conforme a tabela a seguir.\n",
        "\n",
        "|SALÁRIO BASE|% SOBRE O SALÁRIO BASE|\n",
        "|---|---|\n",
        "|< 200|isento|\n",
        "|>= 250 E <= 450|3%|\n",
        "|>  450 E < 700|8%|\n",
        "|>=  700|12%|\n",
        "\n",
        "* A gratificação, de acordo com a tabela a seguir.\n",
        "\n",
        "SALÁRIO BASE R$|TEMPO DE SERVIÇO|GRATIFICAÇÃO\n",
        "---|---|---\n",
        "Superior a 500,00|Até 3 anos|20\n",
        " | Mais de 3 anos|30\n",
        "  --------------------------|---------|--------------\n",
        "Até 500,00|Até 3 anos|23\n",
        "|Entre 3 e 6 anos|35\n",
        "|Acima de 6 anos|33\n",
        "\n",
        "* O salário líquido, ou seja, salário base menos imposto mais gratificação.\n",
        "* A categoria, que está na tabela a seguir.\n",
        "\n",
        "```\n",
        "LEIA salario_base, tempo\n",
        "\n",
        "SE salario_base < 200\n",
        "    imposto = 0\n",
        "SENÃO SE salario_base <= 450\n",
        "    imposto = 3/100 * salario_base\n",
        "SENÃO SE sal_base < 700\n",
        "    imposto = 8/100 * salario_base\n",
        "SENÃO\n",
        "    imposto = 12/100 * salario_base\n",
        "ESCREVA imposto\n",
        "SE salario_base > 500\n",
        "    SE tempo <= 3\n",
        "         gratificacao = 20\n",
        "    SENÃO\n",
        "        gratificacao = 30\n",
        "SENÃO\n",
        "    SE tempo <= 3\n",
        "        gratificacao = 23\n",
        "    SENÃO SE tempo < 6\n",
        "        gratificacao = 35\n",
        "    SENÃO gratificacao = 33\n",
        "ESCREVA gratificacao\n",
        "salario_liquido = salario_base – imposto + gratificacao\n",
        "ESCREVA salario_liqquido\n",
        "SE salario_liquido <= 350\n",
        "    ESCREVA “Classificação A”\n",
        "SENÃO SE salario_liqquido < 600\n",
        "    ESCREVA “Classificação B”\n",
        "SENÃO\n",
        "    ESCREVA “Classificação C”\n",
        "```"
      ]
    },
    {
      "cell_type": "code",
      "metadata": {
        "id": "xhj04HVix_LL",
        "colab": {
          "base_uri": "https://localhost:8080/"
        },
        "outputId": "17e8210b-42e1-47f3-a781-c1519104e59c"
      },
      "source": [
        "# Digite seu código aqui\n",
        "salario = float(input('Informe o valor do salário: '))\n",
        "tempo = float(input('Informe o tempo de serviço em anos: '))\n",
        "\n",
        "if salario < 200:\n",
        "    imposto = 0\n",
        "elif salario >= 200 and salario <= 450:\n",
        "    imposto = salario * 0.03\n",
        "elif salario > 450 and salario < 700:\n",
        "    imposto = salario * 0.08\n",
        "else:\n",
        "    imposto = salario * 0.12\n",
        "print(f'O valor do imposto é de R${imposto:.2f} reais.')\n",
        "\n",
        "if salario <= 500:\n",
        "    if tempo <= 3:\n",
        "        gratif = 23\n",
        "    elif tempo < 6:\n",
        "        gratif = 35\n",
        "    else:\n",
        "        gratif = 33\n",
        "else:\n",
        "    if tempo <= 3:\n",
        "        gratif = 20\n",
        "    else:\n",
        "        gratif = 30\n",
        "print(f'O valor da gratificação é de R${gratif:.2f} reais.')\n",
        "\n",
        "liquido = salario - imposto + gratif\n",
        "\n",
        "print(f'O salário líquido é de R${liquido:.2f} reais.')\n",
        "\n",
        "if liquido <= 350:\n",
        "    print('Classificação A.')\n",
        "elif liquido < 600:\n",
        "    print('Classificação B.')\n",
        "else:\n",
        "    print('Classificação C.')"
      ],
      "execution_count": null,
      "outputs": [
        {
          "output_type": "stream",
          "name": "stdout",
          "text": [
            "Informe o valor do salário: 1000\n",
            "Informe o tempo de serviço em anos: 2\n",
            "O valor do imposto é de R$120.00 reais.\n",
            "O valor da gratificação é de R$20.00 reais.\n",
            "O salário líquido é de R$900.00 reais.\n",
            "Classificação C.\n"
          ]
        }
      ]
    },
    {
      "cell_type": "markdown",
      "metadata": {
        "id": "HdSARhTlx_VV"
      },
      "source": [
        "### 34. Faça um programa que:\n",
        "* receba o valor do salário mínimo,\n",
        "* o turno de trabalho (M — matutino; V — vespertino; ou N — noturno),\n",
        "* a categoria (O — operário; G — gerente)\n",
        "* número de horas trabalhadas no mês de um funcionário.\n",
        "\n",
        "*Suponha a digitação apenas de dados válidos e, quando houver digitação de letras, utilize maiúsculas.*\n",
        "\n",
        "**Calcule e mostre:**\n",
        "\n",
        "* O coeficiente do salário, de acordo com a tabela a seguir.\n",
        "\n",
        "TURNO DE TRABALHO|VALOR DO COEFICIENTE\n",
        "---|---\n",
        "M - Matutino|10% do salário mínimo\n",
        "V - Vespertino|15% do salário mínimo\n",
        "N - Noturno|20% do salário mínimo\n",
        "\n",
        "* O valor do salário bruto, ou seja, o número de horas trabalhadas multiplicado pelo valor do coeficiente do salário.\n",
        "\n",
        "* O imposto, de acordo com a tabela a seguir.\n",
        "\n",
        "CATEGORIA| SALÁRIO BRUTO|IMPOSTO SOBRE O SALÁRIO BRUTO\n",
        "---|---|---\n",
        "O - Operário|>= 300,00|5%\n",
        "O - Operário|< 300,00|3%\n",
        "G - Gerente|>= 300,00|6%\n",
        "G - Gerente|< 300,00|4%\n",
        "\n",
        "* A gratificação, de acordo com as regras a seguir. Se o funcionário preencher todos os requisitos a seguir, sua gratificação será de 50,00; caso contrário, será de 30,00. Os requisitos são:\n",
        " * Turno: Noturno\n",
        "  * Número de horas trabalhadas: Superior a 80 horas\n",
        "  * O auxílio alimentação, de acordo com as seguintes regras.\n",
        "* Auxilio alimentação, um terço do seu salário bruto; caso contrário, será de metade do seu salário bruto. Os requisitos são:\n",
        "  * Se o funcionário preencher algum dos requisitos a seguir, seu auxílio alimentação será de\n",
        "  * Categoria: Operário\n",
        "  * Coeficiente do salário: < = 25\n",
        "* O salário líquido, ou seja, salário bruto menos imposto mais gratificação mais auxílio alimentação.\n",
        "* A classificação, de acordo com a tabela a seguir:\n",
        "\n",
        "SALÁRIO LÍQUIDO|MENSAGEM\n",
        "---|---\n",
        "Menor que 350,00|Mal remunerado\n",
        "Entre 350 e 600,00|Normal\n",
        "Maior que 600,00|Bem remunerado\n",
        "\n",
        "```\n",
        "LEIA salario_minino, turno, categoria, numero_de_horas_trabalhadas\n",
        "SE turno = “M”\n",
        "     coeficiente = 10/100 * salario_minino\n",
        "SENÃO SE turno = “V”\n",
        "     coeficiente = 15/100 * salario_minino\n",
        "SENÃO SE turno = “N”\n",
        "     coeficiente = 12/100 * salario_minino\n",
        "     \n",
        "ESCREVA coeficiente\n",
        "\n",
        "salario_bruto = numero_de_horas_trabalhadas * coeficiente\n",
        "\n",
        "ESCREVA salario_bruto\n",
        "\n",
        "SE categoria = “O”\n",
        "    SE sal_bruto >= 300\n",
        "        imposto = 5/100 * sal_bruto\n",
        "    SENÃO\n",
        "        imposto = 3/100 * sal_bruto\n",
        "SENÃO\n",
        "    SE salario_bruto >= 400\n",
        "        imposto = 6/100 * salario_bruto\n",
        "    SENÃO\n",
        "         imposto = 4/100 * salario_bruto\n",
        "         \n",
        "ESCREVA imposto\n",
        "\n",
        "SE turno = “N” E numero_de_horas_trabalhadas > 80\n",
        "    gratificacao = 50\n",
        "SENÃO\n",
        "    gratificacao = 30\n",
        "    \n",
        "ESCREVA gratificacao\n",
        "\n",
        "SE categoria = “O” OU coeficiente <= 25\n",
        "    auxilio = 1/3 * salario_bruto\n",
        "SENÃO\n",
        "    auxilio = 1/2 * salario_bruto\n",
        "    \n",
        "ESCREVA auxilio\n",
        "\n",
        "salario_liquido = salario_bruto – imposto + gratificacao + auxilio\n",
        "\n",
        "ESCREVA salario_liquido\n",
        "\n",
        "SE salario_liquido < 350\n",
        "     ESCREVA “Mal Remunerado”\n",
        "SENÃO SE salario_liquido >= 350 E salario_liqquido <= 600\n",
        "     ESCREVA “Normal”\n",
        "SENÃO SE salario_liquido > 600\n",
        "     ESCREVA “Bem Remunerado”\n",
        "```"
      ]
    },
    {
      "cell_type": "code",
      "metadata": {
        "id": "RxtqQbAIyC54",
        "colab": {
          "base_uri": "https://localhost:8080/"
        },
        "outputId": "766ccf44-154d-45b4-f5d5-e3280e0e9cce"
      },
      "source": [
        "# Digite seu código aqui\n",
        "salario = float(input('Informe o valor do salário: '))\n",
        "turno = input('Informe o turno de trabalho em letra maiúscula (M-matutino, V-vespertino ou N-noturno): ')\n",
        "categoria = input('Informe a categoria de trabalho em letra maiúscula (O-operário ou G-gerente): ')\n",
        "horas = float(input('Informe o número de horas trabalhadas no mês: '))\n",
        "# TURNO\n",
        "if turno == 'M':\n",
        "    coef = salario * 0.1\n",
        "elif turno == 'V':\n",
        "    coef = salario * 0.15\n",
        "elif turno == 'N':\n",
        "    coef = salario * 0.2\n",
        "print('O valor do coeficiente é de: ',coef)\n",
        "\n",
        "#CATEGORIA\n",
        "bruto = horas * coef\n",
        "if categoria == 'O':\n",
        "    if bruto >= 300:\n",
        "        imposto = bruto * 0.05\n",
        "    else:\n",
        "        imposto = bruto * 0.03\n",
        "elif categoria == 'G':\n",
        "    if bruto >= 300:\n",
        "        imposto = bruto * 0.06\n",
        "    else:\n",
        "        imposto = bruto * 0.04\n",
        "print(f'O valor do imposto é de: R${imposto:.2f} reais.')\n",
        "\n",
        "#GRATIFICAÇÃO\n",
        "if turno == 'M' and horas > 80:\n",
        "    gratif = 50\n",
        "else:\n",
        "    gratif = 30\n",
        "print(f'O valor da gratificação é de: R${gratif:.2f} reais.')\n",
        "\n",
        "#AUXÍLIO ALIMENTAÇÃO\n",
        "if categoria == 'O' or coef <= 25:\n",
        "    alim = bruto / 3\n",
        "else:\n",
        "    alim = bruto / 2\n",
        "print(f'O valor do auxílio alimentação é de: R${alim:.2f} reais.')\n",
        "\n",
        "liquido = bruto - imposto + gratif + alim\n",
        "print(f'O valor do salário líquido é de: R${liquido:.2f} reais.')\n",
        "\n",
        "if liquido < 350:\n",
        "    print('Mal remunerado.')\n",
        "elif liquido >= 350 and liquido <= 600:\n",
        "    print('Normal.')\n",
        "else:\n",
        "    print('Bem remunerado.')"
      ],
      "execution_count": null,
      "outputs": [
        {
          "output_type": "stream",
          "name": "stdout",
          "text": [
            "Informe o valor do salário: 1000\n",
            "Informe o turno de trabalho em letra maiúscula (M-matutino, V-vespertino ou N-noturno): N\n",
            "Informe a categoria de trabalho em letra maiúscula (O-operário ou G-gerente): O\n",
            "Informe o número de horas trabalhadas no mês: 50\n",
            "O valor do coeficiente é de:  200.0\n",
            "O valor do imposto é de: R$500.00 reais.\n",
            "O valor da gratificação é de: R$30.00 reais.\n",
            "O valor do auxílio alimentação é de: R$3333.33 reais.\n",
            "O valor do salário líquido é de: R$12863.33 reais.\n",
            "Bem remunerado.\n"
          ]
        }
      ]
    },
    {
      "cell_type": "markdown",
      "metadata": {
        "id": "c2dARliMyDDG"
      },
      "source": [
        "### 35. Faça um programa que receba de um produto:\n",
        "* o preço\n",
        "* o tipo (A — alimentação; L — limpeza; e V — vestuário)\n",
        "* a refrigeração (S — produto que necessita de refrigeração; e N — produto que não necessita de refrigeração) .\n",
        "\n",
        "**Suponha que haverá apenas a digitação de dados válidos e, quando houver digitação de letras, utilize maiúsculas. Calcule e mostre:**\n",
        "\n",
        "* O valor adicional, de acordo com a tabela a seguir:\n",
        "\n",
        "REFRIGERAÇÃO|TIPO|PREÇO|VALOR ADICIONAL\n",
        "---|---|---|---\n",
        "N|A|<  15,00|2,00|\n",
        " | |>= 15,00|5,00|\n",
        " |---------|--------------|-------------------------------\n",
        " |L|< 10,00|1,50\n",
        " | |>= 10,00|2,50\n",
        "  |---------|--------------|-------------------------------\n",
        " |V|< 30,00|3,00\n",
        " ||>= 30,00|2,50\n",
        "  --------------------------|---------|--------------|-------------------------------\n",
        "S|A||8,00\n",
        "|L||0,00\n",
        "|V||0,00\n",
        "\n",
        "* O valor do imposto, de acordo com a regra a seguir.\n",
        "\n",
        "PREÇO|PERCENTUAL SOBRE O PREÇO\n",
        "---|---\n",
        "< 25,00|5%\n",
        ">= 25,00|8%\n",
        "\n",
        "O preço de custo, ou seja, preço mais imposto.\n",
        "O desconto, de acordo com a regra a seguir.\n",
        "\n",
        "O produto que não preencher nenhum dos requisitos a seguir terá desconto de 3%, caso contrário, 0 (zero). Os requisitos são:\n",
        "* Tipo: A\n",
        "* Refrigeração: S\n",
        "\n",
        "* O novo preço, ou seja, preço de custo mais adicional menos desconto.\n",
        "* A classificação, de acordo com a regra a seguir.\n",
        "\n",
        "NOVO PREÇO|CLASSIFICAÇÃO\n",
        "---|---\n",
        "<= 50,00|Barato\n",
        "Entre 50,01 e 100,00|Normal\n",
        ">= 100,00|Caro\n",
        "\n",
        "\n",
        "```\n",
        "LEIA pre, tipo, refrig\n",
        "SE refrig = “N”\n",
        "    SE tipo = “A”\n",
        "        SE pre < 15\n",
        "           valor_adic = 2\n",
        "        SENÃO\n",
        "           valor_adic = 5\n",
        "    SE tipo = “L”\n",
        "        SE pre < 10\n",
        "           valor_adic = 1.5\n",
        "        SENÃO\n",
        "           valor_adic = 2.5\n",
        "    SE tipo = “V”\n",
        "        SE pre < 30\n",
        "           valor_adic = 3\n",
        "        SENÃO\n",
        "           valor_adic = 2.5\n",
        "SENÃO SE tipo = “A”\n",
        "    valor_adic = 8\n",
        "    SE tipo = “L”\n",
        "        valor_adic = 0\n",
        "    SE tipo = “V”\n",
        "        valor_adic = 0\n",
        "ESCREVA valor_adic\n",
        "SE pre < 25\n",
        "    imposto = 5/100 * pré\n",
        "SENÃO\n",
        "    imposto = 8/100 * pre\n",
        "ESCREVA imposto\n",
        "pre_custo = pre + imposto\n",
        "ESCREVA pre_custo\n",
        "SE tipo != “A” E refrig != “S”\n",
        "  desconto = 3/100 * pre_custo\n",
        "SENÃO\n",
        "  desconto = 0\n",
        "ESCREVA desconto\n",
        "novo_pre = pre_custo + valor_adic – desconto\n",
        "ESCREVA novo_pre\n",
        "SE novo_pre <= 50\n",
        "    ESCREVA “Barato”\n",
        "SENÃO SE novo_pre < 100\n",
        "    ESCREVA “Normal”\n",
        "SENÃO\n",
        "    ESCREVA “Caro”\n"
      ]
    },
    {
      "cell_type": "code",
      "metadata": {
        "id": "2MKheAJMyGc5",
        "colab": {
          "base_uri": "https://localhost:8080/"
        },
        "outputId": "ac402d09-1c32-43ee-8823-c318a24e77a2"
      },
      "source": [
        "# Digite seu código aqui\n",
        "preco = float(input('Informe o preço do produto: '))\n",
        "tipo = input('Informe o tipo do produto em letra maiúscula (A-alimentação, L-limpeza ou V-vestuário): ')\n",
        "refri = input('Informe a necessidade de refrigeração em letra maiúscula (S-sim ou N-não): ')\n",
        "\n",
        "#VALOR ADICIONAL\n",
        "if refri == 'N':\n",
        "    if tipo == 'A':\n",
        "        if preco < 15:\n",
        "            adicional = 2\n",
        "        else:\n",
        "            adicional = 5\n",
        "    elif tipo == 'L':\n",
        "        if preco < 10:\n",
        "            adicional = 1.5\n",
        "        else:\n",
        "            adicional = 2.5\n",
        "    elif tipo == 'V':\n",
        "        if preco < 300:\n",
        "            adicional = 3\n",
        "        else:\n",
        "            adicional = 2.5\n",
        "if refri == 'S':\n",
        "    if tipo == 'A':\n",
        "        adicional = 8\n",
        "    elif tipo == 'L' or 'V':\n",
        "        adicional = 0\n",
        "print(f'O valor adicional é de: R${adicional:.2f} reais.')\n",
        "\n",
        "#VALOR IMPOSTO\n",
        "if preco < 25:\n",
        "    imposto = preco * 0.05\n",
        "else:\n",
        "    imposto = preco * 0.08\n",
        "print(f'O valor do imposto é de: R${imposto:.2f} reais.')\n",
        "\n",
        "#PREÇO CUSTO\n",
        "custo = preco + imposto\n",
        "\n",
        "#DESCONTO\n",
        "if tipo == 'A' or refri == 'S':\n",
        "    desconto = 0\n",
        "else:\n",
        "    desconto = custo * 0.03\n",
        "print(f'O valor do desconto é de: R${desconto:.2f} reais.')\n",
        "novo = custo + adicional - desconto\n",
        "print(f'O valor do novo preço é de: R${novo:.2f} reais.')\n",
        "\n",
        "#CLASSIFICAÇÃO\n",
        "if novo <= 50:\n",
        "    print('Classificação: Barato.')\n",
        "elif novo > 50 and novo < 100:\n",
        "    print('Classificação: Normal.')\n",
        "else:\n",
        "    print('Classificação: Caro.')"
      ],
      "execution_count": null,
      "outputs": [
        {
          "output_type": "stream",
          "name": "stdout",
          "text": [
            "Informe o preço do produto: 200\n",
            "Informe o tipo do produto em letra maiúscula (A-alimentação, L-limpeza ou V-vestuário): V\n",
            "Informe a necessidade de refrigeração em letra maiúscula (S-sim ou N-não): N\n",
            "O valor adicional é de: R$3.00 reais.\n",
            "O valor do imposto é de: R$16.00 reais.\n",
            "O valor do desconto é de: R$6.48 reais.\n",
            "O valor do novo preço é de: R$212.52 reais.\n",
            "Classificação: Caro.\n"
          ]
        }
      ]
    },
    {
      "cell_type": "markdown",
      "metadata": {
        "id": "L-VOnT4CyGl8"
      },
      "source": [
        "### 36. Faça um programa que receba a medida de um ângulo em graus. Calcule e mostre o quadrante em que se localiza esse ângulo. Considere os quadrantes da trigonometria e, para ângulos maiores que 360° ou menores que −360°, reduzí-los, mostrando também o número de voltas e o sentido da volta (horário ou anti-horário).\n",
        "```\n",
        "SE angulo > 360 OU angulo < -360\n",
        "    voltas = parte inteira(angulo / 360)    \n",
        "    angulo = RESTO(angulo / 360)\n",
        "SENÃO\n",
        "    voltas = 0\n",
        "SE angulo = 0 OU angulo = 90 OU angulo = 180\n",
        "           OU angulo = 270 OU angulo = 360\n",
        "           OU angulo = -90 OU angulo = -180\n",
        "           OU angulo = -270 OU angulo = -360\n",
        "  ESCREVA “Está em cima de algum dos eixos”\n",
        "  SE (angulo > 0 E angulo < 90) OU (angulo < -270 E angulo > -360)\n",
        "    ESCREVA “1o Quadrante”\n",
        "  SENÃO SE (angulo > 90 E angulo < 180) OU (angulo < -180 E angulo > -270)\n",
        "    ESCREVA “2o Quadrante”\n",
        "  SENÃO SE (angulo > 180 E angulo < 270) OU (angulo < -90 E angulo > -180)\n",
        "    ESCREVA “3o Quadrante”\n",
        "  SENÃO SE (angulo > 270 E angulo < 360) OU (angulo < 0 E angulo > -90)\n",
        "    ESCREVA “4o Quadrante”\n",
        "  ESCREVA voltas, “ volta(s) no sentido “\n",
        "SE angulo < 0\n",
        "    ESCREVA “horário”\n",
        "SENÃO\n",
        "    ESCREVA “anti-horário”\n",
        "```"
      ]
    },
    {
      "cell_type": "code",
      "metadata": {
        "id": "GjkV8-vWyJWb",
        "colab": {
          "base_uri": "https://localhost:8080/"
        },
        "outputId": "ff2f50ac-940b-4bbb-b38d-d52cbe95868a"
      },
      "source": [
        "# Digite seu código aqui\n",
        "ang = float(input('Informe a medida do ângulo em graus: '))\n",
        "\n",
        "if ang > 360 or ang < -360:\n",
        "    voltas = ang // 360\n",
        "    ang = ang % 360\n",
        "else:\n",
        "    voltas = 0\n",
        "\n",
        "if ang == 0 or ang == 90 or ang == 180 or ang == 270 or ang == 360 or ang == -90 or ang == -180 or ang == -270 or ang == -360:\n",
        "    print('Está em cima de algum dos eixos')\n",
        "elif (ang > 0 and ang < 90) or (ang < -270 and ang > -360):\n",
        "    print('1º quadrante.')\n",
        "elif (ang > 90 and ang < 180) or (ang < -180 and ang > -270):\n",
        "    print('2º quadrante.')\n",
        "elif (ang > 180 and ang < 270) or (ang < -90 and ang > -180):\n",
        "    print('3º quadrante.')\n",
        "elif (ang > 270 and ang < 360) or (ang < -0 and ang > -90):\n",
        "    print('4º quadrante.')\n",
        "\n",
        "if ang < 0:\n",
        "    sentido = 'horário'\n",
        "else:\n",
        "    sentido = 'anti-horário'\n",
        "\n",
        "print(f'Foram {voltas} volta(s) no sentido {sentido}.')\n"
      ],
      "execution_count": null,
      "outputs": [
        {
          "output_type": "stream",
          "name": "stdout",
          "text": [
            "Informe a medida do ângulo em graus: 460\n",
            "2º quadrante.\n",
            "Foram 1.0 volta(s) no sentido anti-horário.\n"
          ]
        }
      ]
    }
  ]
}