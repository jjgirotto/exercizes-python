{
  "cells": [
    {
      "cell_type": "markdown",
      "metadata": {
        "id": "view-in-github",
        "colab_type": "text"
      },
      "source": [
        "<a href=\"https://colab.research.google.com/github/jjgirotto/exercizes-python/blob/main/Fun%C3%A7%C3%A3o%20com%20retorno%20e%20sem%20par%C3%A2metro.ipynb\" target=\"_parent\"><img src=\"https://colab.research.google.com/assets/colab-badge.svg\" alt=\"Open In Colab\"/></a>"
      ]
    },
    {
      "cell_type": "markdown",
      "metadata": {
        "id": "skN-Wz61xZzi"
      },
      "source": [
        "### 1. (Função com retorno sem parâmetro) Faça um programa contendo uma função/método que leia um número e o multiplique por 2 retornando o resultado e o apresente."
      ]
    },
    {
      "cell_type": "code",
      "execution_count": null,
      "metadata": {
        "id": "Wbjafj_QxWP-",
        "colab": {
          "base_uri": "https://localhost:8080/"
        },
        "outputId": "bd2cc60f-ef5a-4be2-e254-6c284db85ad9"
      },
      "outputs": [
        {
          "output_type": "stream",
          "name": "stdout",
          "text": [
            "Digite um valor: 2\n",
            "Resultado com variável:  4\n",
            "Digite um valor: 2\n",
            "Resultado com uma variável:  4\n"
          ]
        }
      ],
      "source": [
        "def multiplicar():\n",
        "    numero = int(input('Digite um valor: '))\n",
        "    resultado = numero * 2\n",
        "    return resultado\n",
        "\n",
        "def main():\n",
        "    # primeira forma de chamar\n",
        "    r = multiplicar()\n",
        "    print('Resultado com variável: ', r)\n",
        "    #segunda forma de chamar\n",
        "    print('Resultado com uma variável: ', multiplicar())\n",
        "\n",
        "main()"
      ]
    },
    {
      "cell_type": "code",
      "source": [
        "def multiplicar():\n",
        "    numero = int(input('Digite um valor: '))\n",
        "    resultado = numero * 2\n",
        "    return resultado\n",
        "\n",
        "def main():\n",
        "    # primeira forma de chamar\n",
        "    r = multiplicar()\n",
        "    print('Resultado com variável: ', r)\n",
        "    #segunda forma de chamar\n",
        "    #print('Resultado com uma variável: ', multiplicar())\n",
        "    if r > 10:\n",
        "        w = r + 200\n",
        "        print(w)\n",
        "\n",
        "main()"
      ],
      "metadata": {
        "colab": {
          "base_uri": "https://localhost:8080/"
        },
        "id": "0-RavZerwfzA",
        "outputId": "0da9381c-bb2a-4aff-dc74-4d05c5d981ad"
      },
      "execution_count": null,
      "outputs": [
        {
          "output_type": "stream",
          "name": "stdout",
          "text": [
            "Digite um valor: 22\n",
            "Resultado com variável:  44\n",
            "244\n"
          ]
        }
      ]
    },
    {
      "cell_type": "markdown",
      "metadata": {
        "id": "0jPoba3-yLnG"
      },
      "source": [
        "### 2. (Função com retorno sem parâmetro) Faça um programa contendo uma função/método para subtrair dois números, retornar o resultado e o apresentando."
      ]
    },
    {
      "cell_type": "code",
      "execution_count": 1,
      "metadata": {
        "colab": {
          "base_uri": "https://localhost:8080/"
        },
        "id": "UHD2oMlJyLzc",
        "outputId": "48640022-8d94-482a-a032-03822a5e00cf"
      },
      "outputs": [
        {
          "output_type": "stream",
          "name": "stdout",
          "text": [
            "Digite o primeiro número: 10\n",
            "Digite o segundo número: 7\n",
            "O resultado é: 3.0\n"
          ]
        }
      ],
      "source": [
        "def subtrair():\n",
        "    n1 = float(input('Digite o primeiro número: '))\n",
        "    n2 = float(input('Digite o segundo número: '))\n",
        "    return n1 - n2\n",
        "\n",
        "def main():\n",
        "    print('O resultado é:', subtrair())\n",
        "\n",
        "main()"
      ]
    },
    {
      "cell_type": "markdown",
      "metadata": {
        "id": "4zGuLRRXt0D_"
      },
      "source": [
        "### 3. (Função com retorno sem parâmetro) Faça um programa contendo uma função/método que leia a base e a altura de um triângulo e retorne/apresente sua área A = (base x altura)/2."
      ]
    },
    {
      "cell_type": "code",
      "execution_count": 2,
      "metadata": {
        "id": "nU0x1v2Vt1-w",
        "colab": {
          "base_uri": "https://localhost:8080/"
        },
        "outputId": "84193f4d-381a-456c-b8f0-e261fe8fe9fa"
      },
      "outputs": [
        {
          "output_type": "stream",
          "name": "stdout",
          "text": [
            "Digite o valor da base: 5\n",
            "Digite o valor da altura: 6\n",
            "O valor da área é de 15.00\n"
          ]
        }
      ],
      "source": [
        "def calcular_area():\n",
        "    base = float(input('Digite o valor da base: '))\n",
        "    altura = float(input('Digite o valor da altura: '))\n",
        "    return (base * altura) / 2\n",
        "\n",
        "def main():\n",
        "    print(f'O valor da área é de {calcular_area():.2f}')\n",
        "\n",
        "main()"
      ]
    },
    {
      "cell_type": "markdown",
      "metadata": {
        "id": "W0slzp_rt2Iu"
      },
      "source": [
        "### 4. (Função com retorno sem parâmetro) Faça um programa contendo uma função/método que leia o lado de um quadrado e retorne sua área, area = lado²."
      ]
    },
    {
      "cell_type": "code",
      "execution_count": null,
      "metadata": {
        "id": "hH2UZstHvFs2",
        "colab": {
          "base_uri": "https://localhost:8080/"
        },
        "outputId": "dcde4c03-9ac4-4b61-ead6-0ad69fcf9cf3"
      },
      "outputs": [
        {
          "output_type": "stream",
          "name": "stdout",
          "text": [
            "Digite o valor do lado do quadrado: 4\n",
            "A área do quadrado é de 16.00\n"
          ]
        }
      ],
      "source": [
        "def calcular_area():\n",
        "    lado = float(input('Digite o valor do lado do quadrado: '))\n",
        "    return lado ** 2\n",
        "\n",
        "def main():\n",
        "    print(f'A área do quadrado é de {calcular_area():.2f}')\n",
        "\n",
        "main()"
      ]
    },
    {
      "cell_type": "markdown",
      "metadata": {
        "id": "hfkLntgNTWN1"
      },
      "source": [
        "###5. (Função com retorno sem parâmetro) Faça um programa contendo uma função/método  que verifique se um número é par, retorne mostrando a str/string ‘É par’ ou se ‘É ímpar’."
      ]
    },
    {
      "cell_type": "code",
      "execution_count": null,
      "metadata": {
        "id": "YIp7ES5deRo8",
        "colab": {
          "base_uri": "https://localhost:8080/"
        },
        "outputId": "f12a478d-51df-4c76-e2ce-4b7594f7e8f7"
      },
      "outputs": [
        {
          "output_type": "stream",
          "name": "stdout",
          "text": [
            "Digite o número para ser verificado: 4\n",
            "O número 4 é par\n"
          ]
        }
      ],
      "source": [
        "def check_even_odd():\n",
        "    number = int(input('Digite o número para ser verificado: '))\n",
        "    if number % 2 == 0:\n",
        "        return f'O número {number} é par!'\n",
        "    else:\n",
        "        return f'O número {number} é ímpar!'\n",
        "\n",
        "def main():\n",
        "    print(check_even_odd())\n",
        "\n",
        "main()"
      ]
    },
    {
      "cell_type": "markdown",
      "metadata": {
        "id": "RIGUAKHveTJS"
      },
      "source": [
        "###6. (Função com retorno sem parâmetro) Faça um programa contendo uma função/método  que verifique se um número é par, retorne/mostre o valor bool **True** para par e **False** para ímpar."
      ]
    },
    {
      "cell_type": "code",
      "execution_count": null,
      "metadata": {
        "id": "Q6LPIy_LCQuO",
        "colab": {
          "base_uri": "https://localhost:8080/"
        },
        "outputId": "b0c27f4b-615d-4acc-f9b3-95df4b47900a"
      },
      "outputs": [
        {
          "output_type": "stream",
          "name": "stdout",
          "text": [
            "Digite o número para ser verificado: 3\n",
            "False\n"
          ]
        }
      ],
      "source": [
        "def check_even_odd():\n",
        "    number = int(input('Digite o número para ser verificado: '))\n",
        "    if number % 2 == 0:\n",
        "        return True\n",
        "    else:\n",
        "        return False\n",
        "\n",
        "def main():\n",
        "    print(check_even_odd())\n",
        "\n",
        "main()"
      ]
    },
    {
      "cell_type": "code",
      "source": [
        "def check_even_odd():\n",
        "    number = int(input('Digite o número para ser verificado: '))\n",
        "    return number % 2 == 0\n",
        "\n",
        "def main():\n",
        "    print(check_even_odd())\n",
        "\n",
        "main()"
      ],
      "metadata": {
        "colab": {
          "base_uri": "https://localhost:8080/"
        },
        "id": "f0wJYcXtx6nd",
        "outputId": "d7b84200-ba33-4da8-9288-337360da65a1"
      },
      "execution_count": null,
      "outputs": [
        {
          "output_type": "stream",
          "name": "stdout",
          "text": [
            "Digite o número para ser verificado: 6\n",
            "True\n"
          ]
        }
      ]
    },
    {
      "cell_type": "markdown",
      "metadata": {
        "id": "JgYwP3n1CQ_U"
      },
      "source": [
        "### 7. (Função com retorno sem parâmetro) Faça uma função/método que leia e armazene 5 elementos inteiros no vetor A, deverá ser gerado um vetor B, de mesmo tamanho, que armazenará o fatorial de cada elemento de A. Não use função pronta de cálculo de fatorial. Retorne/apresente o vetor B."
      ]
    },
    {
      "cell_type": "code",
      "execution_count": null,
      "metadata": {
        "id": "34fIP0epT69d",
        "colab": {
          "base_uri": "https://localhost:8080/"
        },
        "outputId": "1fb0d0e1-fa98-44b0-a029-3d1c208a1b20"
      },
      "outputs": [
        {
          "output_type": "stream",
          "name": "stdout",
          "text": [
            "Digite o valor para calcular fatorial: 5\n",
            "Digite o valor para calcular fatorial: 4\n",
            "Digite o valor para calcular fatorial: 3\n",
            "Digite o valor para calcular fatorial: 2\n",
            "Digite o valor para calcular fatorial: 1\n",
            "[120, 24, 6, 2, 1]\n"
          ]
        }
      ],
      "source": [
        "# Exemplo:\n",
        "# A = [5  ,4 ,3,2,1]\n",
        "# B = [120,24,6,2,1]\n",
        "def gerar_fatoriais():\n",
        "    numeros = []\n",
        "    for i in range(5):\n",
        "        numeros.append(int(input('Digite o valor para calcular fatorial: ')))\n",
        "    fatoriais = []\n",
        "    for i in range(len(numeros)):\n",
        "        fatorial = 1\n",
        "        for j in range(1, numeros[i]+1):\n",
        "            fatorial *= j\n",
        "        fatoriais.append(fatorial)\n",
        "    return fatoriais\n",
        "\n",
        "def main():\n",
        "    print(gerar_fatoriais())\n",
        "\n",
        "\n",
        "main()"
      ]
    },
    {
      "cell_type": "markdown",
      "metadata": {
        "id": "_aPd4c1b3OjS"
      },
      "source": [
        "### 8. (Função com retorno sem parâmetro) Faça uma função/método retorne um vetor com os três primeiros números perfeitos. Sabe-se que um número é perfeito quando é igual a soma de seus divisores (exceto ele mesmo).\n",
        "Exemplo: os divisores de 6 são 1, 2 e 3, e 1 + 2 + 3 = 6, logo 6 é perfeito. Não use função pronta.\n",
        "\n",
        "1º número perfeito: 6\n",
        "\n",
        "2º número perfeito: 28\n",
        "\n",
        "3º número perfeito: 496"
      ]
    },
    {
      "cell_type": "code",
      "execution_count": null,
      "metadata": {
        "id": "fb6TwQ_yh_To",
        "colab": {
          "base_uri": "https://localhost:8080/"
        },
        "outputId": "ca316fc7-f2f9-4e1a-b3aa-2eb49108a5a8"
      },
      "outputs": [
        {
          "output_type": "stream",
          "name": "stdout",
          "text": [
            "[6, 28, 496]\n"
          ]
        }
      ],
      "source": [
        "def calcular_perfeitos():\n",
        "    perfeitos = []\n",
        "    for n in range (1, 497):\n",
        "        soma = 0\n",
        "        for i in range(1, n):\n",
        "            if n % i == 0:\n",
        "                soma += i\n",
        "        if soma == n:\n",
        "            perfeitos.append(n)\n",
        "    return perfeitos\n",
        "\n",
        "def main():\n",
        "    print(calcular_perfeitos())\n",
        "\n",
        "main()"
      ]
    },
    {
      "cell_type": "markdown",
      "metadata": {
        "id": "HAz_eYfhzg06"
      },
      "source": [
        "### 9. (Função com retorno sem parâmetro) Foi realizada uma pesquisa sobre algumas características físicas de cinco habitantes de uma região. Foram coletados os seguintes dados de cada habitante: idade, sexo (M - masculino ou F - feminino), cor dos olhos (A - azuis ou C - castanhos), cor dos cabelos (L - louros, P - pretos ou C - castanhos).\n",
        "\n",
        "1.   Faça uma função/método que leia esses dados, armazenando-os em vetores (listas);\n",
        "2.   Faça uma função/método que determine e devolva a função principal a média de idades das pessoas com olhos castanhos e cabelos pretos;\n",
        "3. Faça uma função/método que determine e devolva a função principal a maior idade entre os habitantes;\n",
        "4.  Faça uma função/método que determine e devolva a função principal a quantidade de indivíduos do sexo feminino com idade entre 18 e 35 anos(inclusive) e que tenham olhos azuis e cabelos louros.\n"
      ]
    },
    {
      "cell_type": "code",
      "execution_count": null,
      "metadata": {
        "id": "7Ez7TgiQvbTD",
        "colab": {
          "base_uri": "https://localhost:8080/"
        },
        "outputId": "10466e62-78c1-4ba1-f75c-d3f1b1f07f7a"
      },
      "outputs": [
        {
          "output_type": "stream",
          "name": "stdout",
          "text": [
            "Digite sua idade: 20\n",
            "Digite seu gênero (m-masculino ou f-feminino): f\n",
            "Digite a cor dos olhos (a-azul ou c-castanho): a\n",
            "Digite a cor dos cabelos (l-loiro, p-preto ou c-castanho): l\n",
            "Digite sua idade: 45\n",
            "Digite seu gênero (m-masculino ou f-feminino): f\n",
            "Digite a cor dos olhos (a-azul ou c-castanho): a\n",
            "Digite a cor dos cabelos (l-loiro, p-preto ou c-castanho): p\n",
            "Não há pessoas com olhos castanhos e cabelos pretos.\n",
            "A maior idade é de 45 anos.\n",
            "A quantidade de mulheres, entre 18 e 35 anos, loiras de olho azul é de  1\n"
          ]
        }
      ],
      "source": [
        "idades = []\n",
        "generos = []\n",
        "olhos = []\n",
        "cabelos = []\n",
        "\n",
        "def cadastrar():\n",
        "    for i in range(2):\n",
        "        idades.append(int(input('Digite sua idade: ')))\n",
        "        generos.append(input('Digite seu gênero (m-masculino ou f-feminino): ').lower())\n",
        "        if generos[i] != 'm' and generos[i] != 'f':\n",
        "            print('Digite m para masculino ou f para feminino.')\n",
        "            break\n",
        "        olhos.append(input('Digite a cor dos olhos (a-azul ou c-castanho): ').lower())\n",
        "        if olhos[i] != 'a' and olhos[i] != 'c':\n",
        "            print('Digite a para azuis ou c para castanhos.')\n",
        "            break\n",
        "        cabelos.append(input('Digite a cor dos cabelos (l-loiro, p-preto ou c-castanho): ').lower())\n",
        "        if cabelos[i] != 'l' and cabelos[i] != 'c' and cabelos[i] != 'p':\n",
        "            print('Digite l para loiros ou c para castanhos ou p para pretos.')\n",
        "            break\n",
        "\n",
        "def calcular_media():\n",
        "    soma = 0\n",
        "    contador = 0\n",
        "    for i in range(len(idades)):\n",
        "        if cabelos[i] == 'p':\n",
        "            if olhos[i] == 'c':\n",
        "                soma += idades[i]\n",
        "                contador += 1\n",
        "    if soma > 0:\n",
        "        media = soma / contador\n",
        "        return media\n",
        "\n",
        "def calcular_maior_idade():\n",
        "    for i in range(len(idades)):\n",
        "        if i == 0:\n",
        "            maior = i\n",
        "        if idades[i] > maior:\n",
        "            maior = idades[i]\n",
        "    return maior\n",
        "\n",
        "def calcular_fem_18e35_azul_loiro():\n",
        "    contador = 0\n",
        "    for i in range(len(generos)):\n",
        "        if generos[i] == 'f':\n",
        "            if 18 < idades[i] <= 35:\n",
        "                if cabelos[i] == 'l':\n",
        "                    if olhos[i] == 'a':\n",
        "                        contador += 1\n",
        "    return contador\n",
        "\n",
        "def main():\n",
        "    cadastrar()\n",
        "    media = calcular_media()\n",
        "    if media == None:\n",
        "        print('Não há pessoas com olhos castanhos e cabelos pretos.')\n",
        "    else:\n",
        "        print(f'A média de idade das pessoas com cabelo preto e olho castanho é de: {media}.')\n",
        "    print(f'A maior idade é de {calcular_maior_idade()} anos.')\n",
        "    quantidade = calcular_fem_18e35_azul_loiro()\n",
        "    if quantidade > 0:\n",
        "        print('A quantidade de mulheres, entre 18 e 35 anos, loiras de olho azul é de', quantidade)\n",
        "    else:\n",
        "        print('Não há mulheres entre 18 e 35 anos loiras e de olhos azuis.')\n",
        "main()"
      ]
    }
  ],
  "metadata": {
    "colab": {
      "provenance": [],
      "include_colab_link": true
    },
    "kernelspec": {
      "display_name": "Python 3",
      "name": "python3"
    }
  },
  "nbformat": 4,
  "nbformat_minor": 0
}