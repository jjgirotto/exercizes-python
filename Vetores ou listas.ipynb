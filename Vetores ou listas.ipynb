{
  "nbformat": 4,
  "nbformat_minor": 0,
  "metadata": {
    "colab": {
      "provenance": [],
      "include_colab_link": true
    },
    "kernelspec": {
      "name": "python3",
      "display_name": "Python 3"
    }
  },
  "cells": [
    {
      "cell_type": "markdown",
      "metadata": {
        "id": "view-in-github",
        "colab_type": "text"
      },
      "source": [
        "<a href=\"https://colab.research.google.com/github/jjgirotto/exercizes-python/blob/main/Vetores%20ou%20listas.ipynb\" target=\"_parent\"><img src=\"https://colab.research.google.com/assets/colab-badge.svg\" alt=\"Open In Colab\"/></a>"
      ]
    },
    {
      "cell_type": "markdown",
      "metadata": {
        "id": "BTk5UJlvXLuB"
      },
      "source": [
        "#**EXERCÍCIOS SOBRE VETOR**"
      ]
    },
    {
      "cell_type": "markdown",
      "metadata": {
        "id": "YOspAvb8YpqR"
      },
      "source": [
        "### 1. Faça um programa que calcule e apresente a média de idades de uma sala de 35 alunos.​​"
      ]
    },
    {
      "cell_type": "code",
      "metadata": {
        "id": "PR5Z9QlTXHEO"
      },
      "source": [
        "soma = 0\n",
        "idade = []\n",
        "for i in range(35):\n",
        "    idade.append(int(input('Informe a idade: ')))\n",
        "    soma += idade[i]\n",
        "media = soma / 5\n",
        "print('A média de idade é ',media)"
      ],
      "execution_count": null,
      "outputs": []
    },
    {
      "cell_type": "markdown",
      "metadata": {
        "id": "XtTydU3HZNHi"
      },
      "source": [
        "### 2. Faça um programa que calcule e apresente a média de alturas de uma sala de 35 alunos. Informe também quantos alunos **e** quais (índice/posição) são os que possuem idade superior a 25 anos.​ Use dois vetores, um para altura e outro para idade. Não use nenhuma função pronta da linguagem Python, a não ser len() e append().\n"
      ]
    },
    {
      "cell_type": "code",
      "source": [
        "soma = 0\n",
        "idade = []\n",
        "altura = []\n",
        "cont = 0\n",
        "for i in range(3):\n",
        "    idade.append(int(input('Informe a idade: ')))\n",
        "    altura.append(float(input('Informe a altura: ')))\n",
        "    soma += altura[i]\n",
        "media = soma / len(altura)\n",
        "print(f'A média de alturas é {media:.2f}')\n",
        "\n",
        "for i in range(len(idade)):\n",
        "    if idade[i] > 25:\n",
        "        cont += 1\n",
        "        print('Aluno nº ',i+1,' tem ',idade[i],' anos.')\n",
        "print('A quantidade de alunos maiores de 25 é ',cont,'.')"
      ],
      "metadata": {
        "id": "WPAbR4YX8dtJ"
      },
      "execution_count": null,
      "outputs": []
    },
    {
      "cell_type": "markdown",
      "metadata": {
        "id": "3x_WkNYTZQeD"
      },
      "source": [
        "### 3. Faça um programa que carregue um vetor de dez elementos que contenha o nome de pessoas e outro que contenha o peso, encontre qual a pessoa mais gorda e mais magra e apresente o nome o peso das mesmas.​ Use dois vetores, um para peso e outro para nome. Não use nenhuma função pronta da linguagem Python, a não ser len() e append()."
      ]
    },
    {
      "cell_type": "code",
      "metadata": {
        "id": "7VsianjuZMrf",
        "colab": {
          "base_uri": "https://localhost:8080/"
        },
        "outputId": "6f009e27-4eb6-4417-c0cb-2ce6a4c9393f"
      },
      "source": [
        "nome = []\n",
        "peso = []\n",
        "\n",
        "for i in range(3):\n",
        "    nome.append(input('Informe o nome: '))\n",
        "    peso.append(float(input('Informe o peso: ')))\n",
        "    if i == 0:\n",
        "        gordo = peso[i]\n",
        "        nome_gordo = nome[i]\n",
        "        magro = peso[i]\n",
        "        nome_magro = nome[i]\n",
        "    if peso[i] > gordo:\n",
        "        gordo = peso[i]\n",
        "        nome_gordo = nome[i]\n",
        "    if peso[i] < magro:\n",
        "        magro = peso[i]\n",
        "        nome_magro = nome[i]\n",
        "print(f'O mais gordo é o {nome_gordo} com {gordo}kgs e o mais magro é o {nome_magro} com {magro}kgs.')\n"
      ],
      "execution_count": null,
      "outputs": [
        {
          "output_type": "stream",
          "name": "stdout",
          "text": [
            "Informe o nome: ju\n",
            "Informe o peso: 49\n",
            "Informe o nome: raul\n",
            "Informe o peso: 90\n",
            "Informe o nome: mae\n",
            "Informe o peso: 75\n",
            "O mais gordo é o raul com 90.0kgs e o mais magro é o ju com 49.0kgs.\n"
          ]
        }
      ]
    },
    {
      "cell_type": "markdown",
      "metadata": {
        "id": "xSpiII3mZdQV"
      },
      "source": [
        "### 4. Faça um programa que carregue um vetor com a média de dez alunos, calcule e mostre a MÉDIA DA SALA e quantos alunos estão acima e abaixo da média da sala. Não use nenhuma função pronta da linguagem Python, a não ser len() e append()."
      ]
    },
    {
      "cell_type": "code",
      "metadata": {
        "id": "iWBTxDXvZUPP",
        "colab": {
          "base_uri": "https://localhost:8080/"
        },
        "outputId": "801e8e18-4d79-47af-abe6-a80badcb4329"
      },
      "source": [
        "media = []\n",
        "soma = 0\n",
        "cont_menor = 0\n",
        "cont_maior = 0\n",
        "for i in range(5):\n",
        "    media.append(float(input('Informe sua média: ')))\n",
        "    soma = soma + media[i]\n",
        "media_sala = soma / len(media)\n",
        "for i in range(len(media)):\n",
        "    if media[i] >= media_sala:\n",
        "        cont_maior += 1\n",
        "    if media[i] < media_sala:\n",
        "        cont_menor += 1\n",
        "print(f'A média da sala é de {media_sala:.2f}.')\n",
        "print(f'{cont_menor} estão abaixo da média e {cont_maior} estão acima da média.')"
      ],
      "execution_count": null,
      "outputs": [
        {
          "output_type": "stream",
          "name": "stdout",
          "text": [
            "Informe sua média: 5.5\n",
            "Informe sua média: 7.5\n",
            "Informe sua média: 6.5\n",
            "Informe sua média: 9\n",
            "Informe sua média: 4.5\n",
            "A média da sala é de 6.60.\n",
            "3 estão abaixo da média e 2 estão acima da média.\n"
          ]
        }
      ]
    },
    {
      "cell_type": "markdown",
      "metadata": {
        "id": "frrtYwMAZUcL"
      },
      "source": [
        "### 5. Faça um programa que carregue um vetor de oito elementos numéricos inteiros, calcule e mostre os números pares e suas respectivas índices/posições. Não use nenhuma função pronta da linguagem Python, a não ser len() e append().\n"
      ]
    },
    {
      "cell_type": "code",
      "metadata": {
        "id": "7S8zpor8Z5Hb",
        "colab": {
          "base_uri": "https://localhost:8080/"
        },
        "outputId": "80739c80-37f0-4865-951c-e65850ba1b4b"
      },
      "source": [
        "elementos = []\n",
        "cont = 0\n",
        "for i in range (4):\n",
        "    elementos.append(int(input('Insira um número inteiro: ')))\n",
        "for i in range (len(elementos)):\n",
        "    if elementos[i] % 2 == 0:\n",
        "        print('Elemento nº ',i+1,'de valor',elementos[i], 'é par.')"
      ],
      "execution_count": null,
      "outputs": [
        {
          "output_type": "stream",
          "name": "stdout",
          "text": [
            "Insira um número inteiro: 3\n",
            "Insira um número inteiro: 1\n",
            "Insira um número inteiro: 25\n",
            "Insira um número inteiro: 2\n",
            "Elemento nº  4 de valor 2 é par.\n",
            "São  1  elementos pares.\n"
          ]
        }
      ]
    },
    {
      "cell_type": "markdown",
      "metadata": {
        "id": "cml17HAsZ5Wf"
      },
      "source": [
        "### 6. Faça um programa que carregue um vetor com dez nomes e faça uma verificação se um determinado nome esta nesse vetor. Não use nenhuma função pronta da linguagem Python, a não ser len() e append()."
      ]
    },
    {
      "cell_type": "code",
      "metadata": {
        "id": "4R-FGZy4aHNx",
        "colab": {
          "base_uri": "https://localhost:8080/"
        },
        "outputId": "9d082f7f-7fef-4025-b802-b79bb697ba66"
      },
      "source": [
        "nome = []\n",
        "for i in range(5):\n",
        "    nome.append(input('Insira um nome: '))\n",
        "nomeb = input('Qual nome você quer procurar? ')\n",
        "cont = 0\n",
        "for i in range(len(nome)):\n",
        "    if nomeb == nome[i]:\n",
        "        cont += 1\n",
        "if cont == 1:\n",
        "    print(f'{nomeb} está na lista!')\n",
        "else:\n",
        "    print(f'{nomeb} não está na lista!')"
      ],
      "execution_count": null,
      "outputs": [
        {
          "output_type": "stream",
          "name": "stdout",
          "text": [
            "Insira um nome: ju\n",
            "Insira um nome: raul\n",
            "Insira um nome: lu\n",
            "Insira um nome: la\n",
            "Insira um nome: mi\n",
            "Qual nome você quer procurar?mi\n",
            "mi está na lista!\n"
          ]
        }
      ]
    },
    {
      "cell_type": "markdown",
      "metadata": {
        "id": "0BYcEcgYaHbl"
      },
      "source": [
        "### 7. Faça um algoritmo que calcule e apresente a média de alturas superior a 1,80 de 10 alunos. Informe também quantos e quais (índice/posição) são os alunos. Não use nenhuma função pronta da linguagem Python, a não ser len() e append().\n"
      ]
    },
    {
      "cell_type": "code",
      "metadata": {
        "id": "wbXDmo6daU5n",
        "colab": {
          "base_uri": "https://localhost:8080/"
        },
        "outputId": "6f1f9ae8-17d1-4cd6-df0b-22c4c90462bb"
      },
      "source": [
        "altura = []\n",
        "soma = 0\n",
        "cont = 0\n",
        "for i in range(5):\n",
        "    altura.append(float(input('Insira uma altura: ')))\n",
        "for i in range(len(altura)):\n",
        "    if altura[i] > 1.8:\n",
        "        soma += altura[i]\n",
        "        cont += 1\n",
        "        print('Aluno nº ',i+1,' tem ',altura[i],' metros.')\n",
        "media = soma / cont\n",
        "print(f'A média de alturas superiores a 1,80 é de {media:.2f}.\\nSão {cont} maiores de 1,80m.')"
      ],
      "execution_count": null,
      "outputs": [
        {
          "output_type": "stream",
          "name": "stdout",
          "text": [
            "Insira uma altura: 1.58\n",
            "Insira uma altura: 1.85\n",
            "Insira uma altura: 1.6\n",
            "Insira uma altura: 1.9\n",
            "Insira uma altura: 1.45\n",
            "Aluno nº  2  tem  1.85  metros.\n",
            "Aluno nº  4  tem  1.9  metros.\n",
            "A média de alturas superiores a 1,80 é de 1.88.\n",
            "São 2 maiores de 1,80m.\n"
          ]
        }
      ]
    },
    {
      "cell_type": "markdown",
      "metadata": {
        "id": "mFaqmOmuaVN2"
      },
      "source": [
        "### 8. Criar um algoritmo que a partir de um vetor de 10 elementos inteiros, crie outros dois vetores que receberão os elementos positivos e negativos e ao final apresente-os. Não use nenhuma função pronta da linguagem Python, a não ser len() e append().\n"
      ]
    },
    {
      "cell_type": "code",
      "source": [
        "print('****Programa para inserir valores positivos e negativos****\\n')\n",
        "elementos = []\n",
        "positivos = []\n",
        "negativos = []\n",
        "for i in range(5):\n",
        "    elemento = int(input('Insira um número inteiro: '))\n",
        "    elementos.append(elemento)\n",
        "    if elemento >= 0:\n",
        "        positivos.append(elemento)\n",
        "    else:\n",
        "        negativos.append(elemento)\n",
        "print(positivos)\n",
        "print(negativos)\n",
        "print('Apresentação dos valores positivos..............')\n",
        "for i in range(len(positivos)):\n",
        "    print(f'Índice: {i}        Elemento do vetor positivo: {positivos[i]}')\n",
        "print('Apresentação dos valores negativos..............')\n",
        "for i in range(len(negativos)):\n",
        "    print(f'Índice: {i}        Elemento do vetor positivo: {negativos[i]}')"
      ],
      "metadata": {
        "colab": {
          "base_uri": "https://localhost:8080/"
        },
        "id": "1omCwT6VD3OL",
        "outputId": "13a2f3cb-a1c2-4954-c779-32859b82fd63"
      },
      "execution_count": null,
      "outputs": [
        {
          "output_type": "stream",
          "name": "stdout",
          "text": [
            "****Programa para inserir valores positivos e negativos****\n",
            "\n",
            "Insira um número inteiro: 2\n",
            "Insira um número inteiro: 3\n",
            "Insira um número inteiro: -1\n",
            "Insira um número inteiro: -2\n",
            "Insira um número inteiro: 5\n",
            "[2, 3, 5]\n",
            "[-1, -2]\n",
            "Apresentação dos valores positivos..............\n",
            "Índice: 0        Elemento do vetor positivo: 2\n",
            "Índice: 1        Elemento do vetor positivo: 3\n",
            "Índice: 2        Elemento do vetor positivo: 5\n",
            "Apresentação dos valores negativos..............\n",
            "Índice: 0        Elemento do vetor positivo: -1\n",
            "Índice: 1        Elemento do vetor positivo: -2\n"
          ]
        }
      ]
    },
    {
      "cell_type": "markdown",
      "metadata": {
        "id": "K5IMhYTHaiEl"
      },
      "source": [
        "### 9. Criar um algoritmo que leia dados para um vetor de 100 elementos inteiros, imprimir o maior, o menor, o percentual de números pares e a média dos elementos do vetor. Obs.: percentual = quantidade contada * 100 / quantidade total. Não use nenhuma função pronta da linguagem Python, a não ser len() e append().\n"
      ]
    },
    {
      "cell_type": "code",
      "metadata": {
        "id": "X6krLAFKaumK",
        "colab": {
          "base_uri": "https://localhost:8080/"
        },
        "outputId": "f63ffc6f-6d2a-44f7-894f-01164f022a98"
      },
      "source": [
        "elementos = []\n",
        "soma = 0\n",
        "pares = 0\n",
        "for i in range(5):\n",
        "    elementos.append(int(input('Insira um número inteiro: ')))\n",
        "    soma = soma + elementos[i]\n",
        "    if i == 0:\n",
        "        maior = elementos[i]\n",
        "        menor = elementos[i]\n",
        "    if elementos[i] > maior:\n",
        "        maior = elementos[i]\n",
        "    if elementos[i] < menor:\n",
        "        menor = elementos[i]\n",
        "    if elementos[i] % 2 == 0:\n",
        "        pares += 1\n",
        "media = soma / len(elementos)\n",
        "percentual = pares * 100 / len(elementos)\n",
        "print(f'A média dos elementos é {media:.2f}.\\nDe {len(elementos)}, {percentual}% são pares.')\n",
        "print(f'O maior número é o {maior} e o menor é o {menor}.')"
      ],
      "execution_count": null,
      "outputs": [
        {
          "output_type": "stream",
          "name": "stdout",
          "text": [
            "Insira um número inteiro: 2\n",
            "Insira um número inteiro: 3\n",
            "Insira um número inteiro: 5\n",
            "Insira um número inteiro: 9\n",
            "Insira um número inteiro: 13\n",
            "A média dos elementos é 6.40.\n",
            "De 5, 20.0% são pares.\n",
            "O maior número é o 13 e o menor é o 2.\n"
          ]
        }
      ]
    },
    {
      "cell_type": "markdown",
      "metadata": {
        "id": "X6C3DbCGFR71"
      },
      "source": [
        "### 10. Faça um programa que:\n",
        "\n",
        "* preencha um vetor com seis elementos numéricos inteiros.\n",
        "\n",
        "**Calcule e mostre:**\n",
        "\n",
        "* todos os números pares;\n",
        "* a quantidade de números pares;\n",
        "* todos os números ímpares;\n",
        "* a quantidade de números ímpares\n",
        "\n",
        "Não use nenhuma função pronta da linguagem Python, a não ser len() e append()."
      ]
    },
    {
      "cell_type": "code",
      "metadata": {
        "id": "0OjTx-RoFZUT",
        "colab": {
          "base_uri": "https://localhost:8080/"
        },
        "outputId": "b6d8a153-48f6-4e14-8751-86adb025aa6a"
      },
      "source": [
        "elementos = []\n",
        "pares = 0\n",
        "impares = 0\n",
        "for i in range(6):\n",
        "    elementos.append(int(input('Insira um valor inteiro: ')))\n",
        "for i in range(len(elementos)):\n",
        "    if elementos[i] % 2 == 0:\n",
        "        pares += 1\n",
        "        print(f'Número {elementos[i]} é par.')\n",
        "    else:\n",
        "        impares += 1\n",
        "        print(f'Número {elementos[i]} é ímpar.')\n",
        "print(f'São {pares} pares e {impares} ímpares.')"
      ],
      "execution_count": null,
      "outputs": [
        {
          "output_type": "stream",
          "name": "stdout",
          "text": [
            "Insira um valor inteiro: 2\n",
            "Insira um valor inteiro: 3\n",
            "Insira um valor inteiro: 5\n",
            "Insira um valor inteiro: 9\n",
            "Insira um valor inteiro: 13\n",
            "Insira um valor inteiro: 4\n",
            "Número 2 é par.\n",
            "Número 3 é ímpar.\n",
            "Número 5 é ímpar.\n",
            "Número 9 é ímpar.\n",
            "Número 13 é ímpar.\n",
            "Número 4 é par.\n",
            "São 2 pares e 4 ímpares.\n"
          ]
        }
      ]
    },
    {
      "cell_type": "code",
      "source": [
        "elementos = []\n",
        "pares = 0\n",
        "impares = 0\n",
        "str_pares = ''\n",
        "str_impares = ''\n",
        "for i in range(3):\n",
        "    elementos.append(int(input('Insira um valor inteiro: ')))\n",
        "for i in range(len(elementos)):\n",
        "    if elementos[i] % 2 == 0:\n",
        "        pares += 1\n",
        "        str_pares += str(elementos[i]) + ','\n",
        "    else:\n",
        "        impares += 1\n",
        "        str_impares += str(elementos[i]) + ','\n",
        "print(str_pares)\n",
        "print(str_impares)\n",
        "print(f'São {pares} pares e {impares} ímpares.')"
      ],
      "metadata": {
        "colab": {
          "base_uri": "https://localhost:8080/"
        },
        "id": "9i6xrb9Awgcp",
        "outputId": "42b165e3-a241-4c3f-991e-a09cc1467630"
      },
      "execution_count": null,
      "outputs": [
        {
          "output_type": "stream",
          "name": "stdout",
          "text": [
            "Insira um valor inteiro: 2\n",
            "Insira um valor inteiro: 3\n",
            "Insira um valor inteiro: 5\n",
            "2,\n",
            "3,5,\n",
            "São 1 pares e 2 ímpares.\n"
          ]
        }
      ]
    },
    {
      "cell_type": "markdown",
      "metadata": {
        "id": "qTCb3GyDFzlm"
      },
      "source": [
        "### 11. Faça um programa que:\n",
        "\n",
        "* preencha um vetor com sete números inteiros\n",
        "\n",
        "**Calcule e mostre:**\n",
        "\n",
        "* os números múltiplos de 2;\n",
        "* os números múltiplos de 3;\n",
        "* os números múltiplos de 2 **e de** 3.\n",
        "\n",
        "Não use nenhuma função pronta da linguagem Python, a não ser len() e append()."
      ]
    },
    {
      "cell_type": "code",
      "metadata": {
        "id": "OPX_rge2F3kR",
        "colab": {
          "base_uri": "https://localhost:8080/"
        },
        "outputId": "02580b9b-370d-408a-97ee-d3f8cf9d0eda"
      },
      "source": [
        "elementos = []\n",
        "for i in range(7):\n",
        "    elementos.append(int(input('Insira um valor inteiro: ')))\n",
        "for i in range(len(elementos)):\n",
        "    if elementos[i] % 2 == 0 and elementos[i] % 3 == 0:\n",
        "        print(f'Elemento {elementos[i]} é múltiplo de 2 e 3.')\n",
        "    else:\n",
        "        if elementos[i] % 2 == 0:\n",
        "            print(f'Elemento {elementos[i]} é múltiplo de 2.')\n",
        "        elif elementos[i] % 3 == 0:\n",
        "            print(f'Elemento {elementos[i]} é múltiplo de 3.')"
      ],
      "execution_count": null,
      "outputs": [
        {
          "output_type": "stream",
          "name": "stdout",
          "text": [
            "Insira um valor inteiro: 8\n",
            "Insira um valor inteiro: 9\n",
            "Insira um valor inteiro: 0\n",
            "Insira um valor inteiro: 7\n",
            "Insira um valor inteiro: 11\n",
            "Insira um valor inteiro: 6\n",
            "Insira um valor inteiro: 12\n",
            "Elemento 8 é múltiplo de 2.\n",
            "Elemento 9 é múltiplo de 3.\n",
            "Elemento 0 é múltiplo de 2 e 3.\n",
            "Elemento 6 é múltiplo de 2 e 3.\n",
            "Elemento 12 é múltiplo de 2 e 3.\n"
          ]
        }
      ]
    },
    {
      "cell_type": "markdown",
      "metadata": {
        "id": "sf4dSTh-F3wV"
      },
      "source": [
        "### 12. Faça um programa que:\n",
        "\n",
        "* preencha um vetor com quinze elementos inteiros\n",
        "* verifique a existência de elementos iguais a 30, mostrando os índices/posições em que apareceram.\n",
        "\n",
        "Não use nenhuma função pronta da linguagem Python, a não ser len() e append()."
      ]
    },
    {
      "cell_type": "code",
      "metadata": {
        "id": "pV6slXVYF8Fm"
      },
      "source": [
        "elementos = []\n",
        "cont = 0\n",
        "for i in range(5):\n",
        "    elementos.append(int(input(f'Insira o {i+1}º número: ')))\n",
        "for i in range(len(elementos)):\n",
        "    if elementos[i] == 30:\n",
        "        print('Há um elemento 30 na posição', i+1,'.')"
      ],
      "execution_count": null,
      "outputs": []
    },
    {
      "cell_type": "markdown",
      "metadata": {
        "id": "9UnrFcvfF8VU"
      },
      "source": [
        "### 13. Faça um programa que:\n",
        "\n",
        "* preencha um vetor com dez números reais\n",
        "\n",
        "**Calcule e mostre:**\n",
        "\n",
        "* a quantidade de números negativos\n",
        "* a soma dos números positivos desse *vetor*\n",
        "* não use nenhuma função pronta da linguagem Python"
      ]
    },
    {
      "cell_type": "code",
      "metadata": {
        "id": "x4hGToRMM6q8",
        "colab": {
          "base_uri": "https://localhost:8080/"
        },
        "outputId": "d8fa6be2-e96f-422f-8a86-905483e5ba42"
      },
      "source": [
        "numeros = []\n",
        "negativos = 0\n",
        "soma_positivos = 0\n",
        "for i in range(5):\n",
        "    numeros.append(float(input('Insira um número real: ')))\n",
        "for i in range(len(numeros)):\n",
        "    if numeros[i] < 0:\n",
        "        negativos += 1\n",
        "    elif numeros[i] > 0:\n",
        "        soma_positivos += numeros[i]\n",
        "print(f'São {negativos} números negativos, e a soma dos positivos é {soma_positivos}.')"
      ],
      "execution_count": null,
      "outputs": [
        {
          "output_type": "stream",
          "name": "stdout",
          "text": [
            "Insira um número real: 5\n",
            "Insira um número real: -2\n",
            "Insira um número real: -3\n",
            "Insira um número real: -4\n",
            "Insira um número real: 10\n",
            "São 3 números negativos, e a soma dos positivos é 15.0.\n"
          ]
        }
      ]
    },
    {
      "cell_type": "markdown",
      "metadata": {
        "id": "h08bQeSEM62n"
      },
      "source": [
        "### 14. Faça um programa que:\n",
        "\n",
        "* receba dez números inteiros e armazene-os em um vetor\n",
        "* classifique os números em dois vetores, um com números pares e o outra com os ímpares\n",
        "\n",
        "Não use nenhuma função pronta da linguagem Python, a não ser len() e append()."
      ]
    },
    {
      "cell_type": "code",
      "metadata": {
        "id": "5Ch4maMCM-hg",
        "colab": {
          "base_uri": "https://localhost:8080/"
        },
        "outputId": "25355784-3f01-47cb-ce87-a853872dce68"
      },
      "source": [
        "numeros = []\n",
        "pares = []\n",
        "impares = []\n",
        "for i in range(5):\n",
        "    numeros.append(int(input('Insira um número inteiro: ')))\n",
        "    if numeros[i] % 2 == 0:\n",
        "        pares.append(numeros[i])\n",
        "    else:\n",
        "        impares.append(numeros[i])\n",
        "print('Os números pares são ',pares,'e os ímpares', impares)"
      ],
      "execution_count": null,
      "outputs": [
        {
          "output_type": "stream",
          "name": "stdout",
          "text": [
            "Insira um número inteiro: 4\n",
            "Insira um número inteiro: 5\n",
            "Insira um número inteiro: 3\n",
            "Insira um número inteiro: 2\n",
            "Insira um número inteiro: 13\n",
            "Os números pares são  [4, 2] e os ímpares [5, 3, 13]\n"
          ]
        }
      ]
    },
    {
      "cell_type": "markdown",
      "metadata": {
        "id": "Lzqh-l1JNNTr"
      },
      "source": [
        "### 15. Faça um programa que:\n",
        "\n",
        "* preencha um vetor com quinze números\n",
        "\n",
        "**Determine e mostre:**\n",
        "\n",
        "* o maior número e a posição por ele ocupada no vetor\n",
        "* o menor número e a posição por ele ocupada no vetor\n",
        "\n",
        "Não use nenhuma função pronta da linguagem Python, a não ser len() e append()."
      ]
    },
    {
      "cell_type": "code",
      "metadata": {
        "id": "J-jy56awNIb4",
        "colab": {
          "base_uri": "https://localhost:8080/"
        },
        "outputId": "807eaac4-ccc5-40b3-8fcf-cfc29086d4eb"
      },
      "source": [
        "numeros = []\n",
        "for i in range(4):\n",
        "    numeros.append(int(input('Insira um número inteiro: ')))\n",
        "for i in range(len(numeros)):\n",
        "    if i == 0:\n",
        "        maior = numeros[i]\n",
        "        menor = numeros[i]\n",
        "    if numeros[i] > maior:\n",
        "        maior = numeros[i]\n",
        "        posicao_maior = i\n",
        "    if numeros[i] < menor:\n",
        "        menor = numeros[i]\n",
        "        posicao_menor = i\n",
        "print('O maior número é',maior,'na posição', posicao_maior + 1, 'e o menor é',menor, 'na posição',posicao_menor + 1)"
      ],
      "execution_count": null,
      "outputs": [
        {
          "output_type": "stream",
          "name": "stdout",
          "text": [
            "Insira um número inteiro: 4\n",
            "Insira um número inteiro: 5\n",
            "Insira um número inteiro: 2\n",
            "Insira um número inteiro: 6\n",
            "O maior número é 6 na posição 4 e o menor é 2 na posição 3\n"
          ]
        }
      ]
    },
    {
      "cell_type": "markdown",
      "metadata": {
        "id": "CwrnVAqjNIqA"
      },
      "source": [
        "### 16. Faça um programa que:\n",
        "\n",
        "* preencha dois vetores com de dez numeros cada\n",
        "* preencha um terceiro vetor com os números dos dois vetores anteriores ordenados em ordem crescente\n"
      ]
    },
    {
      "cell_type": "code",
      "metadata": {
        "id": "JG4VQSZ0NNGP",
        "colab": {
          "base_uri": "https://localhost:8080/"
        },
        "outputId": "ec32f03f-ced4-41a4-b721-c0a196597774"
      },
      "source": [
        "vetor1 = []\n",
        "vetor2 = []\n",
        "vetor3 = []\n",
        "for i in range(3):\n",
        "    vetor1.append(int(input('Insira um número inteiro: ')))\n",
        "    vetor3.append(vetor1[i])\n",
        "for i in range(3):\n",
        "    vetor2.append(int(input('Insira um número inteiro: ')))\n",
        "    vetor3.append(vetor2[i])\n",
        "vetor3.sort()\n",
        "print(vetor3)"
      ],
      "execution_count": null,
      "outputs": [
        {
          "output_type": "stream",
          "name": "stdout",
          "text": [
            "Insira um número inteiro: 5\n",
            "Insira um número inteiro: 6\n",
            "Insira um número inteiro: 9\n",
            "Insira um número inteiro: 2\n",
            "Insira um número inteiro: 10\n",
            "Insira um número inteiro: 3\n",
            "[2, 3, 5, 6, 9, 10]\n"
          ]
        }
      ]
    },
    {
      "cell_type": "markdown",
      "metadata": {
        "id": "HkiTq5lrNSnY"
      },
      "source": [
        "### 17. Faça um programa que:\n",
        "\n",
        "* carregue dois vetores com 10 números cada\n",
        "* faça a multiplicação dos números na mesma posição\n",
        "* o resultado deverá ser adicionada em um terceiro vetor\n",
        "\n",
        "Não use nenhuma função pronta da linguagem Python, a não ser len() e append()."
      ]
    },
    {
      "cell_type": "code",
      "metadata": {
        "id": "F1bta73yNXRe",
        "colab": {
          "base_uri": "https://localhost:8080/"
        },
        "outputId": "e789eb51-7a72-463d-c4c1-8cf30a5a5d4b"
      },
      "source": [
        "vetor1 = []\n",
        "vetor2 = []\n",
        "vetor3 = []\n",
        "for i in range(4):\n",
        "    vetor1.append(int(input('Insira um número inteiro: ')))\n",
        "for i in range(4):\n",
        "    vetor2.append(int(input('Insira um número inteiro: ')))\n",
        "for i in range(4):\n",
        "    vetor3.append((vetor1[i] * vetor2[i]))\n",
        "print(vetor1)\n",
        "print(vetor2)\n",
        "print(vetor3)\n",
        "\n",
        "# a [ 8, 6, 3, 5]\n",
        "# b [ 3, 2, 9, 2]\n",
        "# c [8*3, 6*2,3*9, 5*2]\n",
        "# c [24, 12, 27, 10]"
      ],
      "execution_count": null,
      "outputs": [
        {
          "output_type": "stream",
          "name": "stdout",
          "text": [
            "Insira um número inteiro: 1\n",
            "Insira um número inteiro: 5\n",
            "Insira um número inteiro: 3\n",
            "Insira um número inteiro: 2\n",
            "Insira um número inteiro: 10\n",
            "Insira um número inteiro: 5\n",
            "Insira um número inteiro: 2\n",
            "Insira um número inteiro: 3\n",
            "[1, 5, 3, 2]\n",
            "[10, 5, 2, 3]\n",
            "[10, 25, 6, 6]\n"
          ]
        }
      ]
    },
    {
      "cell_type": "markdown",
      "metadata": {
        "id": "ZAel4hPSNXdC"
      },
      "source": [
        "### 18. Faça um programa que:\n",
        "\n",
        "* leia um vetor de 10 números inteiros\n",
        "* exiba na tela os números positivos e seus respectivos índices.\n",
        "\n",
        "Não use nenhuma função pronta da linguagem Python, a não ser len() e append()."
      ]
    },
    {
      "cell_type": "code",
      "metadata": {
        "id": "Wn-sojioNb99",
        "colab": {
          "base_uri": "https://localhost:8080/"
        },
        "outputId": "9021ba2f-df8e-424a-d3b5-372da6aa0e85"
      },
      "source": [
        "elementos = []\n",
        "for i in range(5):\n",
        "    elementos.append(int(input('Insira um valor inteiro: ')))\n",
        "for i in range(len(elementos)):\n",
        "    if elementos[i] > 0:\n",
        "        print(f'Número {elementos[i]} é positivo, e está na posição {i+1}.')"
      ],
      "execution_count": null,
      "outputs": [
        {
          "output_type": "stream",
          "name": "stdout",
          "text": [
            "Insira um valor inteiro: 1\n",
            "Insira um valor inteiro: -2\n",
            "Insira um valor inteiro: 3\n",
            "Insira um valor inteiro: -6\n",
            "Insira um valor inteiro: -9\n",
            "Número 1 é positivo, e está na posição 1.\n",
            "Número 3 é positivo, e está na posição 3.\n"
          ]
        }
      ]
    },
    {
      "cell_type": "markdown",
      "metadata": {
        "id": "IErlUNBBNcKh"
      },
      "source": [
        "### 19. Faça um programa que:\n",
        "\n",
        "* insira dez números inteiros em um vetor\n",
        "* crie um segundo vetor, substituindo os números multiplos de 3 por \"999\"\"\n",
        "* exiba os dois vetores\n",
        "\n",
        "Não use nenhuma função pronta da linguagem Python, a não ser len() e append()."
      ]
    },
    {
      "cell_type": "code",
      "metadata": {
        "id": "ABkUHan9NiRV",
        "colab": {
          "base_uri": "https://localhost:8080/"
        },
        "outputId": "55d38627-a818-4c97-f801-041dce368037"
      },
      "source": [
        "inteiros = []\n",
        "vetor_novo = []\n",
        "for i in range(5):\n",
        "    inteiros.append(int(input(f'Insira o {i+1}º número inteiro: ')))\n",
        "for i in range(len(inteiros)):\n",
        "    if inteiros[i] % 3 == 0:\n",
        "        vetor_novo.append(999)\n",
        "    else:\n",
        "        vetor_novo.append(inteiros[i])\n",
        "print(vetor_novo)"
      ],
      "execution_count": null,
      "outputs": [
        {
          "output_type": "stream",
          "name": "stdout",
          "text": [
            "Insira o 1º número inteiro: 33\n",
            "Insira o 2º número inteiro: 52\n",
            "Insira o 3º número inteiro: 9\n",
            "Insira o 4º número inteiro: 30\n",
            "Insira o 5º número inteiro: 20\n",
            "[999, 52, 999, 999, 20]\n"
          ]
        }
      ]
    },
    {
      "cell_type": "markdown",
      "metadata": {
        "id": "ZtxMl1r8NnV7"
      },
      "source": [
        "### 20. Faça um programa que:\n",
        "\n",
        "* leia dois vetores (A e B) com cinco posições para números inteiros.\n",
        "* o programa deve, então, subtrair o primeiro elemento de A do último de B, armazenando o resultado num terceiro vetor, subtrair o segundo elemento de A do penúltimo de B, armazenando o resultado num terceiro vetor e assim por diante.\n",
        "* ao final, mostre o resultado do terceiro vetor\n",
        "\n",
        "O índice de um dos vetores terá que ser decrementado (slide 2 de Vetor) , ou seja, você implementara ele manualmente.\n",
        "\n",
        "Não use nenhuma função pronta da linguagem Python, a não ser len() e append()."
      ]
    },
    {
      "cell_type": "code",
      "metadata": {
        "id": "TPVdojenNq37",
        "colab": {
          "base_uri": "https://localhost:8080/"
        },
        "outputId": "c41e3e07-74fa-42c8-8a3e-93b53d71a095"
      },
      "source": [
        "a = []\n",
        "b = []\n",
        "c = []\n",
        "for i in range(3):\n",
        "    a.append(int(input(f'Digite o {i+1} número: ')))\n",
        "for i in range(3):\n",
        "    b.append(int(input(f'Digite o {i+1} número: ')))\n",
        "for i in range(3):\n",
        "    indice = 2 - i\n",
        "    c.append(a[i] - b[indice])\n",
        "print(c)"
      ],
      "execution_count": null,
      "outputs": [
        {
          "output_type": "stream",
          "name": "stdout",
          "text": [
            "Digite o 1 número: 89\n",
            "Digite o 2 número: 41\n",
            "Digite o 3 número: 64\n",
            "Digite o 1 número: 68\n",
            "Digite o 2 número: 32\n",
            "Digite o 3 número: 79\n",
            "[10, 9, -4]\n"
          ]
        }
      ]
    },
    {
      "cell_type": "code",
      "source": [
        "a = []\n",
        "b = []\n",
        "c = []\n",
        "for i in range(3):\n",
        "    a.append(int(input(f'Digite o {i+1} número: ')))\n",
        "for i in range(3):\n",
        "    b.append(int(input(f'Digite o {i+1} número: ')))\n",
        "indice = len(b-1)\n",
        "for i in range(3):\n",
        "    c.append(a[i] - b[indice])\n",
        "    indice -= 1\n",
        "print(c)"
      ],
      "metadata": {
        "id": "RW7v1KJied69"
      },
      "execution_count": null,
      "outputs": []
    },
    {
      "cell_type": "markdown",
      "metadata": {
        "id": "ASOIKJD7M-vh"
      },
      "source": [
        "###21. Faça um programa que:\n",
        "\n",
        "* preencha um vetor de cinco números e mostre a saída a seguir:\n",
        "* imprima a seguinte saída, exemplo (cada número e o sinal de adição e depois o resultado da soma dos números) 8 + 2 + 1 + 3 + 0 = 14\n",
        "\n",
        "Não use nenhuma função pronta da linguagem Python, a não ser len() e append()."
      ]
    },
    {
      "cell_type": "code",
      "metadata": {
        "id": "hyDhAbwPNuhK",
        "colab": {
          "base_uri": "https://localhost:8080/"
        },
        "outputId": "0a9a6a8a-89bf-431f-d2be-db9c4a5175df"
      },
      "source": [
        "vetor = []\n",
        "soma = 0\n",
        "for i in range(5):\n",
        "    vetor.append(int(input(f'Digite o {i+1}º número: ')))\n",
        "    soma += vetor[i]\n",
        "for i in range(len(vetor)):\n",
        "    print(vetor[i], '+ ', end='')\n",
        "print('=', soma)"
      ],
      "execution_count": null,
      "outputs": [
        {
          "output_type": "stream",
          "name": "stdout",
          "text": [
            "Digite o 1º número: 5\n",
            "Digite o 2º número: 5\n",
            "Digite o 3º número: 3\n",
            "Digite o 4º número: 7\n",
            "Digite o 5º número: 3\n",
            "5 + 5 + 3 + 7 + 3 + = 23\n",
            "5 + 5 + 3 + 7 + 3 = 23\n"
          ]
        }
      ]
    },
    {
      "cell_type": "markdown",
      "metadata": {
        "id": "D6GVJmfhNusA"
      },
      "source": [
        "### 22. Faça um programa que:\n",
        "* leia um vetor com quinze posições para números inteiros.\n",
        "* depois da leitura, em outro vetor, armazene a divisão de todos os  elementos pelo maior valor do vetor, para isso encontre o maior elemento\n",
        "* Mostre o vetor após os cálculos.\n",
        "\n",
        "Não use nenhuma função pronta da linguagem Python, a não ser len() e append()."
      ]
    },
    {
      "cell_type": "code",
      "metadata": {
        "id": "zto4otPkgPRV",
        "colab": {
          "base_uri": "https://localhost:8080/"
        },
        "outputId": "9f2ab66c-e04f-4e37-99e1-6fbab901a5ac"
      },
      "source": [
        "vetor = []\n",
        "divisao = []\n",
        "for i in range(5):\n",
        "    vetor.append(int(input(f'Digite o {i+1}º número: ')))\n",
        "    if i == 0:\n",
        "        maior = vetor[i]\n",
        "    if vetor[i] > maior:\n",
        "        maior = vetor[i]\n",
        "for i in range(5):\n",
        "    divisao.append(round((vetor[i] / maior),2))\n",
        "print(divisao)"
      ],
      "execution_count": null,
      "outputs": [
        {
          "output_type": "stream",
          "name": "stdout",
          "text": [
            "Digite o 1º número: 20\n",
            "Digite o 2º número: 30\n",
            "Digite o 3º número: 15\n",
            "Digite o 4º número: 6\n",
            "Digite o 5º número: 9\n",
            "[0.67, 1.0, 0.5, 0.2, 0.3]\n"
          ]
        }
      ]
    },
    {
      "cell_type": "markdown",
      "metadata": {
        "id": "Hwgks80Tawon"
      },
      "source": [
        "### 23. Um vetor é palíndromo se ele não se alterar quando o mesmo for invertido. Escreva um programa que verifique se um vetor é palíndromo, fazendo comparação de índice/posição por índice/posição do vetor original (vo) com o vetor invertido (vi). Não use nenhuma função pronta da linguagem Python. A tamanho do vetor pode ser da sua escolha.\n",
        "Exemplo:\n",
        "vetor original    vo = {1, 3, 5, 2, 2, 5, 3, 1}  \n",
        "vetor invertido é vi = {1, 3, 5, 2, 2, 5, 3, 1}\n",
        "O vetor invertido **é palíndromo**, pois ele invertido é igual ao original\n",
        "\n",
        "vetor original    vo = {9, 7, 5, 2, 4, 5, 3, 6}  \n",
        "vetor invertido é vi = {6, 3, 5, 4, 2, 5, 7, 9}\n",
        "O vetor invertido **não é palíndromo**, pois ele invertido é igual ao original\n",
        "\n"
      ]
    },
    {
      "cell_type": "code",
      "metadata": {
        "id": "ua4_aIrbN0rO",
        "colab": {
          "base_uri": "https://localhost:8080/"
        },
        "outputId": "ed6476de-86f3-4444-ce20-60031cc5be50"
      },
      "source": [
        "vo = []\n",
        "vi = []\n",
        "for i in range(5):\n",
        "    vo.append(int(input(f'Digite o {i+1}º número inteiro: ')))\n",
        "print(vo)\n",
        "# vetor invertido\n",
        "indice = len(vo)-1\n",
        "for i in range(len(vo)):\n",
        "    vi.append(vo[indice])\n",
        "    indice = indice - 1\n",
        "print(vi)\n",
        "# verificando\n",
        "cont = 0\n",
        "for i in range(5):\n",
        "    if vo[i] == vi[i]:\n",
        "        cont += 1\n",
        "if cont == len(vi):\n",
        "    print('É um palíndromo!')\n",
        "else:\n",
        "    print('Não é um palíndromo!')"
      ],
      "execution_count": null,
      "outputs": [
        {
          "output_type": "stream",
          "name": "stdout",
          "text": [
            "Digite o 1º número inteiro: 1\n",
            "Digite o 2º número inteiro: 3\n",
            "Digite o 3º número inteiro: 5\n",
            "Digite o 4º número inteiro: 0\n",
            "Digite o 5º número inteiro: 1\n",
            "[1, 3, 5, 0, 1]\n",
            "[1, 0, 5, 3, 1]\n",
            "Não é um palíndromo!\n"
          ]
        }
      ]
    }
  ]
}