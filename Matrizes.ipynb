{
  "nbformat": 4,
  "nbformat_minor": 0,
  "metadata": {
    "colab": {
      "provenance": [],
      "include_colab_link": true
    },
    "kernelspec": {
      "name": "python3",
      "display_name": "Python 3"
    }
  },
  "cells": [
    {
      "cell_type": "markdown",
      "metadata": {
        "id": "view-in-github",
        "colab_type": "text"
      },
      "source": [
        "<a href=\"https://colab.research.google.com/github/jjgirotto/exercizes-python/blob/main/Matrizes.ipynb\" target=\"_parent\"><img src=\"https://colab.research.google.com/assets/colab-badge.svg\" alt=\"Open In Colab\"/></a>"
      ]
    },
    {
      "cell_type": "code",
      "source": [
        "matriz = [] #3x2\n",
        "for linha in range(3):\n",
        "    vet_linha = []\n",
        "    for coluna in range(2):\n",
        "        vet_linha.append(float(input(f'Digite o valor [{linha}][{coluna}]: ')))\n",
        "    matriz.append(vet_linha)\n",
        "#print(matriz)\n",
        "for linha in range(len(matriz)):\n",
        "    for coluna in range(len(matriz[0])):\n",
        "        print(matriz[linha][coluna], end='\\t')\n",
        "    print()"
      ],
      "metadata": {
        "colab": {
          "base_uri": "https://localhost:8080/"
        },
        "id": "bcwWg1Le3bj7",
        "outputId": "73a53db4-693f-4ce6-a6de-97278cc316b9"
      },
      "execution_count": null,
      "outputs": [
        {
          "output_type": "stream",
          "name": "stdout",
          "text": [
            "Digite o valor [0][0]: 5\n",
            "Digite o valor [0][1]: 6\n",
            "Digite o valor [1][0]: 10\n",
            "Digite o valor [1][1]: 11\n",
            "Digite o valor [2][0]: 20\n",
            "Digite o valor [2][1]: 21\n",
            "5.0\n",
            "6.0\n",
            "\n",
            "10.0\n",
            "11.0\n",
            "\n",
            "20.0\n",
            "21.0\n",
            "\n"
          ]
        }
      ]
    },
    {
      "cell_type": "markdown",
      "metadata": {
        "id": "skN-Wz61xZzi"
      },
      "source": [
        "### 1. Faça um programa que leia uma matriz 2x3 (2 linhas, 3 colunas). Apresente os elementos da matriz e seus respectivos índices."
      ]
    },
    {
      "cell_type": "code",
      "metadata": {
        "id": "Wbjafj_QxWP-",
        "colab": {
          "base_uri": "https://localhost:8080/"
        },
        "outputId": "0741a30a-3789-45a3-8ca6-76f425dbd893"
      },
      "source": [
        "matriz = [] #2x3\n",
        "for linha in range(2):\n",
        "    vet_linha = []\n",
        "    for coluna in range(3):\n",
        "        vet_linha.append(float(input(f'Digite o valor [{linha}][{coluna}]: ')))\n",
        "    matriz.append(vet_linha)\n",
        "#print(matriz)\n",
        "for linha in range(len(matriz)):\n",
        "    for coluna in range(len(matriz[0])):\n",
        "        print(f'{[linha,coluna]} - {matriz[linha][coluna]}', end='\\t')\n",
        "    print()"
      ],
      "execution_count": null,
      "outputs": [
        {
          "output_type": "stream",
          "name": "stdout",
          "text": [
            "Digite o valor [0][0]: 2\n",
            "Digite o valor [0][1]: 3\n",
            "Digite o valor [0][2]: 5\n",
            "Digite o valor [1][0]: 6\n",
            "Digite o valor [1][1]: 8\n",
            "Digite o valor [1][2]: 9\n",
            "[0, 0] - 2.0\t[0, 1] - 3.0\t[0, 2] - 5.0\t\n",
            "[1, 0] - 6.0\t[1, 1] - 8.0\t[1, 2] - 9.0\t\n"
          ]
        }
      ]
    },
    {
      "cell_type": "markdown",
      "metadata": {
        "id": "0jPoba3-yLnG"
      },
      "source": [
        "### 2. Faça um programa que leia uma matriz 2 x 2, que representa o salário de 4 funcionários, calcule e mostre a soma total de todos os salários/elementos que será o montante pago pela empresa a esses funcionários."
      ]
    },
    {
      "cell_type": "code",
      "metadata": {
        "id": "UHD2oMlJyLzc",
        "colab": {
          "base_uri": "https://localhost:8080/"
        },
        "outputId": "08d5f603-2b14-468f-997d-2a17e8c54ee4"
      },
      "source": [
        "matriz = [] #2x2\n",
        "soma = 0\n",
        "for linha in range(2):\n",
        "    salario = []\n",
        "    for coluna in range(2):\n",
        "        salario.append(float(input('Digite o valor do salário: ')))\n",
        "        soma += salario[coluna]\n",
        "    matriz.append(salario)\n",
        "print(matriz)\n",
        "print(f'O montante pago é de R${soma} reais.')"
      ],
      "execution_count": null,
      "outputs": [
        {
          "output_type": "stream",
          "name": "stdout",
          "text": [
            "Digite o valor do salário: 1050.5\n",
            "Digite o valor do salário: 1500\n",
            "Digite o valor do salário: 1900.6\n",
            "Digite o valor do salário: 1550.7\n",
            "[[1050.5, 1500.0], [1900.6, 1550.7]]\n",
            "O montante pago é de R$6001.8 reais.\n"
          ]
        }
      ]
    },
    {
      "cell_type": "markdown",
      "metadata": {
        "id": "_aPd4c1b3OjS"
      },
      "source": [
        "### 3. Faça um programa para ler uma matriz 5x2 preços. Encontre e apresente os ÍNDICES dos valores menores que 23 reais."
      ]
    },
    {
      "cell_type": "code",
      "metadata": {
        "id": "Q6LPIy_LCQuO",
        "colab": {
          "base_uri": "https://localhost:8080/"
        },
        "outputId": "694f5d14-1b90-4a9d-ccaa-74d1bc161daf"
      },
      "source": [
        "precos = [] #3x2\n",
        "soma = 0\n",
        "for linha in range(5):\n",
        "    vetor = []\n",
        "    for coluna in range(2):\n",
        "        vetor.append(float(input('Digite o valor do produto: ')))\n",
        "    precos.append(vetor)\n",
        "print('Índices dos produtos menores que R$23,00:')\n",
        "for linha in range(len(precos)):\n",
        "    for coluna in range(len(precos[0])):\n",
        "        if precos[linha][coluna] < 23:\n",
        "            print(f'Linha {linha},', end='')\n",
        "            print(f' coluna {coluna}')"
      ],
      "execution_count": null,
      "outputs": [
        {
          "output_type": "stream",
          "name": "stdout",
          "text": [
            "Digite o valor do produto: 2\n",
            "Digite o valor do produto: 3\n",
            "Digite o valor do produto: 69\n",
            "Digite o valor do produto: 47\n",
            "Digite o valor do produto: 25\n",
            "Digite o valor do produto: 3\n",
            "Índices dos produtos menores que R$23,00:\n",
            "Linha 0, coluna 0\n",
            "Linha 0, coluna 1\n",
            "Linha 2, coluna 1\n"
          ]
        }
      ]
    },
    {
      "cell_type": "markdown",
      "metadata": {
        "id": "JgYwP3n1CQ_U"
      },
      "source": [
        "### 4. Faça um programa que leia números inteiros w e p e os elementos de uma matriz A de números inteiros de dimensão w x p e conte o número de elementos que são iguais a zero. Observação w representa a quantidade de linhas e p as colunas\n"
      ]
    },
    {
      "cell_type": "code",
      "metadata": {
        "id": "fb6TwQ_yh_To",
        "colab": {
          "base_uri": "https://localhost:8080/"
        },
        "outputId": "a3a5280c-19e7-475f-e379-325cdfab79cc"
      },
      "source": [
        "w = int(input('Informe a quantidade de linhas: '))\n",
        "p = int(input('Informe a quantidade de colunas: '))\n",
        "a = []\n",
        "for lin in range(w):\n",
        "    vetor = []\n",
        "    for col in range(p):\n",
        "        vetor.append(int(input('Informe os elementos da matriz: ')))\n",
        "    a.append(vetor)\n",
        "print(a)\n",
        "cont = 0\n",
        "for lin in range(len(a)):\n",
        "    for col in range(len(a[0])):\n",
        "        if a[lin][col] == 0:\n",
        "            cont += 1\n",
        "if cont > 1:\n",
        "    print(f'Há {cont} elementos iguais a zero.')\n",
        "else:\n",
        "    print('Não há elementos igual a zero.')"
      ],
      "execution_count": null,
      "outputs": [
        {
          "output_type": "stream",
          "name": "stdout",
          "text": [
            "Informe a quantidade de linhas: 2\n",
            "Informe a quantidade de colunas: 5\n",
            "Informe os elementos da matriz: 0\n",
            "Informe os elementos da matriz: 1\n",
            "Informe os elementos da matriz: 2\n",
            "Informe os elementos da matriz: 3\n",
            "Informe os elementos da matriz: 4\n",
            "Informe os elementos da matriz: 0\n",
            "Informe os elementos da matriz: 11\n",
            "Informe os elementos da matriz: 12\n",
            "Informe os elementos da matriz: 13\n",
            "Informe os elementos da matriz: 14\n",
            "[[0, 1, 2, 3, 4], [0, 11, 12, 13, 14]]\n",
            "Há 2 elementos iguais a zero.\n"
          ]
        }
      ]
    },
    {
      "cell_type": "markdown",
      "metadata": {
        "id": "HAz_eYfhzg06"
      },
      "source": [
        "### 5. Faça um programa que leia uma matriz 3 x 2, que representa preços de produtos, crie OUTRA matriz que armazene todos os preços com 7% de aumento."
      ]
    },
    {
      "cell_type": "code",
      "source": [
        "precos = [] #3x2\n",
        "aumento = []\n",
        "for linha in range(3):\n",
        "    vetor = []\n",
        "    for coluna in range(2):\n",
        "        vetor.append(float(input(f'Digite o preço[{linha}][{coluna}] R$: ')))\n",
        "    precos.append(vetor)\n",
        "for linha in range(3):\n",
        "    vetor_a = []\n",
        "    for coluna in range(2):\n",
        "        vetor_a.append(precos[linha][coluna] * 1.07)\n",
        "    aumento.append(vetor_a)\n",
        "print('Apresentação da matriz preço........')\n",
        "for linha in range(len(precos)):\n",
        "    for coluna in range(len(precos[0])):\n",
        "        print(precos[linha][coluna], end='\\t')\n",
        "    print()\n",
        "print('Apresentação da matriz aumento........')\n",
        "for linha in range(len(aumento)):\n",
        "    for coluna in range(len(aumento[0])):\n",
        "        print(f'{aumento[linha][coluna]:.2f}', end='\\t')\n",
        "    print()"
      ],
      "metadata": {
        "colab": {
          "base_uri": "https://localhost:8080/"
        },
        "id": "tFzBe221wuOy",
        "outputId": "dd98d398-38ba-476a-d668-d4dc1da527c1"
      },
      "execution_count": null,
      "outputs": [
        {
          "output_type": "stream",
          "name": "stdout",
          "text": [
            "Digite o preço[0][0] R$: 25\n",
            "Digite o preço[0][1] R$: 30\n",
            "Digite o preço[1][0] R$: 50\n",
            "Digite o preço[1][1] R$: 2\n",
            "Digite o preço[2][0] R$: 3\n",
            "Digite o preço[2][1] R$: 6\n",
            "Apresentação da matriz preço........\n",
            "25.0\t30.0\t\n",
            "50.0\t2.0\t\n",
            "3.0\t6.0\t\n",
            "Apresentação da matriz aumento........\n",
            "26.75\t32.10\t\n",
            "53.50\t2.14\t\n",
            "3.21\t6.42\t\n"
          ]
        }
      ]
    },
    {
      "cell_type": "markdown",
      "metadata": {
        "id": "fZNXRUrrh_g9"
      },
      "source": [
        "### 6. Faça um programa que leia:\n",
        "###* um vetor com oito posições com os nomes das lojas;\n",
        "###* um outro vetor com quatro posições com os nomes dos produtos;\n",
        "###* uma matriz (8 x 4) com os preços de todos os produtos em cada loja.\n",
        "###O programa deve mostrar todas as relações/print (nome da loja - nome do produto e preço), nas quais o preço não ultrapasse R$ 120,00.\n"
      ]
    },
    {
      "cell_type": "code",
      "metadata": {
        "id": "A4-CekXy0vrz",
        "colab": {
          "base_uri": "https://localhost:8080/"
        },
        "outputId": "6da31e98-46ea-4f88-c5f5-aa926a4b4be9"
      },
      "source": [
        "lojas = []\n",
        "produtos = []\n",
        "precos = []\n",
        "# adicionando lojas\n",
        "for i in range(4):\n",
        "    lojas.append(input(f'Informe o nome da {i+1}ª loja: '))\n",
        "print(lojas)\n",
        "# adicionando produtos\n",
        "for i in range(2):\n",
        "    produtos.append(input(f'Informe o {i+1}º produto: '))\n",
        "print(produtos)\n",
        "# adicionando precos na matriz\n",
        "for linha in range(4):\n",
        "    vetor = []\n",
        "    for coluna in range(2):\n",
        "        vetor.append(float(input(f'Informe o preço do/a {produtos[coluna]} na loja {lojas[linha]}: R$ ')))\n",
        "    precos.append(vetor)\n",
        "print('\\nProdutos com custo menor que R$ 120,00: ')\n",
        "for linha in range(4):\n",
        "    for coluna in range(2):\n",
        "        if precos[linha][coluna] < 120:\n",
        "            print(lojas[linha], '-' , produtos[coluna],': R$',precos[linha][coluna], 'reais.')"
      ],
      "execution_count": null,
      "outputs": [
        {
          "output_type": "stream",
          "name": "stdout",
          "text": [
            "Informe o nome da 1ª loja: Amazon\n",
            "Informe o nome da 2ª loja: Carrefour\n",
            "Informe o nome da 3ª loja: Americanas\n",
            "Informe o nome da 4ª loja: Submarino\n",
            "['Amazon', 'Carrefour', 'Americanas', 'Submarino']\n",
            "Informe o 1º produto: Barraca\n",
            "Informe o 2º produto: Colchonete\n",
            "['Barraca', 'Colchonete']\n",
            "Informe o preço do/a Barraca na loja Amazon: R$ 130\n",
            "Informe o preço do/a Colchonete na loja Amazon: R$ 90\n",
            "Informe o preço do/a Barraca na loja Carrefour: R$ 120\n",
            "Informe o preço do/a Colchonete na loja Carrefour: R$ 60\n",
            "Informe o preço do/a Barraca na loja Americanas: R$ 200\n",
            "Informe o preço do/a Colchonete na loja Americanas: R$ 130\n",
            "Informe o preço do/a Barraca na loja Submarino: R$ 90\n",
            "Informe o preço do/a Colchonete na loja Submarino: R$ 65\n",
            "\n",
            "Produtos com custo menor que R$ 120,00: \n",
            "Amazon - Colchonete : R$ 90.0 reais.\n",
            "Carrefour - Colchonete : R$ 60.0 reais.\n",
            "Submarino - Barraca : R$ 90.0 reais.\n",
            "Submarino - Colchonete : R$ 65.0 reais.\n"
          ]
        }
      ]
    },
    {
      "cell_type": "markdown",
      "source": [
        "**Exemplo de solução do exercício 6**\n",
        "\n",
        "..............................................\n",
        "\n",
        "Informe o nome da 1ª loja: Amazon\n",
        "\n",
        "Informe o nome da 2ª loja: Submarino\n",
        "\n",
        "Informe o nome da 3ª loja: Saraiva\n",
        "\n",
        "Informe o nome da 4ª loja: Sumire\n",
        "\n",
        "Informe o nome da 5ª loja: Americana\n",
        "\n",
        "Informe o nome da 6ª loja: Moto Mario\n",
        "\n",
        "Informe o nome da 7ª loja: Torra\n",
        "\n",
        "Informe o nome da 8ª loja: Piticas\n",
        "\n",
        "\n",
        "...............................................\n",
        "\n",
        "Informe o nome do 1º produto: Livro\n",
        "\n",
        "Informe o nome do 2º produto: Copo\n",
        "\n",
        "Informe o nome do 3º produto: Capacete\n",
        "\n",
        "Informe o nome do 4º produto: Travesseiro\n",
        "\n",
        "..............................................\n",
        "\n",
        "Informe o valor do(a) Livro na loja Amazon: 42\n",
        "\n",
        "Informe o valor do(a) Copo na loja Amazon: 15\n",
        "\n",
        "Informe o valor do(a) Capacete na loja Amazon: 149\n",
        "\n",
        "Informe o valor do(a) Travesseiro na loja Amazon: 24\n",
        "\n",
        "Informe o valor do(a) Livro na loja Submarino: 32\n",
        "\n",
        "Informe o valor do(a) Copo na loja Submarino: 13\n",
        "\n",
        "...\n",
        "\n",
        "Loja: Amazon, Produto: Livro, Preço: 42.0\n",
        "\n",
        "Loja: Amazon, Produto: Copo, Preço: 15.0\n",
        "\n",
        "Loja: Amazon, Produto: Travesseiro, Preço: 24.0\n",
        "\n",
        "Loja: Submarino, Produto: Livro, Preço: 32.0\n",
        "\n",
        "Loja: Submarino, Produto: Copo, Preço: 13.0\n",
        "\n",
        "..."
      ],
      "metadata": {
        "id": "k8GIZLrr-66c"
      }
    },
    {
      "cell_type": "markdown",
      "source": [
        "###7. Faça um programa que leia uma matriz 4 x 4.\n",
        "###* Apresente os valores/elementos e seus respectivos índices (linhas e colunas) que estão na diagonal principal.\n",
        "###* Calcule e apresente a soma dos elementos acima da diagonal principal, que estão em negrito e com a cor de fundo amarela.\n",
        "\n",
        "![image.png](data:image/png;base64,iVBORw0KGgoAAAANSUhEUgAAAFEAAABMCAYAAAAVx1tzAAAIL0lEQVR4nO2cT2sbSRqHnw57XX+DBAZLHhDGEMbk0DrsZSaD7MvggyCHxSQLLchFhpBlMb4smGAIA62LwYJZE/YQECaTi1tsZi97kA7BYDDGMOk2A5Nv4C9Qe+huqf9Vd5W6JzPj6RcEiVz69a9fVVVXPf22DCGEoI5ScefXNnAbonQSvUEbwzD8V29cRolB28BoD/AWVBj3jJmX9mBRFX2dckn0BmzvrOIIgRAO1nCfxbyP6RnbsGdjlvDytuUihEC4Nuy8ZKGvdBEdUSJc2xSm7Ur/v4CgME1blFAIwhEWpihjRcfP7ZwTvQ9cml02G4t9fDacm1fsTfoUydzCJHoMtkd0XxWfvCw6RyIYzi32jXbhFHXrkjjuNRl1X9FfNIPRaPTZs6ZcufnNSiWxsdmNTLxjXu5Ad9ExVDr8q/t+y2VSJoPjHvNFxpi3Q5NWs+AzJade4VgI8F+LX1QcYTHXAYTlaBuJfX5xP3EvKj4MIeodS9m4dXPirxF1EiuIPxU1MAzjU/j4XYa4OYM/f1GcRIAqpk3DMPyDltVZWi+tU4XGTEeIejhXEXUSK4hZErWRljegnUBFugjJO3yCsbTuv/oT6XvSuH5NO2y7tI6x9GJGXLR0AJjQS2io6vhJXABpjV+O6NpW5GiaCOndC7b5J+LmDPdgDY6/Y3D4guY/wD4/Q5w/wzzu03tXdPJrfvubM8TNLp1AW0vn+jXtpf/ROlhLeVTRuQPgnY7Afu4boMNzG0anOVkc99hgj/5K5L1Gn6Nwu9VYYZVLPuR9EQ93mTy9C4D74wXQADygwcoysHyPVWB4qtKL4uF5mjrLj5jc7LK5oM4Cc6LHYB+co05OExUU9ZHBl/4w2Thewz7fZeXHC3jwGf5W9R6tByp+Lti5Hwy3L1/jEXwp2jrpUNXRTqI32GbUDXttZgtFFHWX/n/PguEMO/fX2TjWNLP8iMlNMJRPtuD9t7wsHP7Vh2YSPU5HU6Y7Tf8CsjH0/x25EC2CohpffzW/LfD+J3zy9DNX78H8/J6ayPJnmMCl97GcTjIUdO6ADtJq0J8EwFIIhGNh2i7iqIMuivIOn8wmae8/PzAFrMdbgMeHa+D6Zy6B1cZdtZO9/olp0L6zWUInEso6c5KUjZDIo2WONW9bgKIAIW7OIq/vhf0g0vbgeyFuzoTzOP1e9BXVcQ/W4seLtM/TSXk5fybMpHcFP2FuClGYYRj1ti9Pp972VRN1EiuIOokVhNKcWIc8hBCfmCf+Ri5QVV5YoB7OlUSdxAoikkT10rZcbpjBGfV0xvRCrllQwhFjfcGrffgx/TcFnjjur2e2V+eJOqVtBdwwxRm1dDwG7Q1wwq3lJHcP3nj6r4AjBgCCYFumyRO9wydsHG/hhDphex2eCB2OxIR+UbkExLkhgNli9rEszqiiE/LH8SkjbJ7nUDZZjE/fAFt881CfJ8aQ18O/YOGDjF+QJ8pKzxQ4oyxC/sgV0+kOzdlw7ikWak54ewzmwV/poM8Tm5+vRWjNPH4xngjZpWfFnFEWCf5oOTNK5FhD9pXu1XzHkDW6X+uTGoDG079h8YaNpXWMpT5Dzc+XuzrPSs+KOaMs8vhjs6VSfPyR0zcX8OArNpcjb2vxxDZH4dx6/gyTCPJS5YlakVl6lscZZZHBH5stzOHbYAj7X8zqSgGbfPdvdt6D9fdHM5Jehif6bNOfWzV5ory0jRRPVCg9i3JGGZeU8EfXNufvZYiTYIE+79sSToI7avHEk62IjzVhn2vofHKeeAu3fTVPrCjqJFYQNQorGb9fFFZSp8r7PVAP50qiTmIFMUui9hOaBaV1xUgtirzm7fWfFM1GZ3pe5MhLCakJIYRwbWGFi2PXFiaWcKKL28z1tClsO7Kojj1M6ArbjC/E0zqOsJIPH+b4yNZJH0fZS2KxHb9ZHyy4T7bm/w5u8Fsn6cW23xN1y+KUkJfCk0jJ0PXhqaKzAi+RMj9/q3fB1XWZ0rrCsjgJ8mr0edUdBRirydVePlAFIIK90oRcoTzPlaCzRbwEEeWSC6Kw4rK4POTlXk3BcnAsGO4XzUMdjkJgIRxWd7YjtwI0nhSVoDM9L0G8e8HGMVgnu3pILz7PpZ+HI2MOIgEOsJzCB8iRzK3RY4fzVpaPTB3HikGK8JhKXhLAIpzz0kVRIdwYCCvxd2JzonJZXD7ymkaeaXWvpurfpDdgf2jSamo+KZqDzvS8TOjd/5bp48FsbgRdFJZTFkdeD4ohr0QvTVx5kzox5BUiNYUnRXN1Zr1SwUukFyZL9ADB48EtR2G/oW2fqFFYNVEnsYKoUVjJEH9oFFaRF6iHcyVRJ7GC0EZhsadRE+118ZP0mKUry0CnuixfR8FPsGLVRmHzRW3wm1y6KCznmCnMJltsSzUkiEzmxbEiC/L074zJ/IQ6aRQG8UqvvPBOGSEjLQX4SYa9Fq0si/pWRmTBaXy4xOxuBrCjwzfRX2VS8TPPdri9iYNQcnpiFBr4nWG+BUv2gjydeS92hW0Gx8+oosjSyfSd2j7mn5NrmzGQMQcg+X5CnfSZubYwI91ZfvKOsBLmHMvfvzpW8d45csDZlBCjLYpJzPSdoDtJKpTWSNMpyyn2I0+iiPcwmeki3KSKwuLfejZmyzKe61uCyFQ0fB1T2G6xn3gSHSsy/OITa/YB05OvfEjIdHyT0t/zUumJMt8FF5ncJMYuMvl+Ej1RXumVecDMA+mhsELspTSc5b7zqstSXlw78pRp+uaYzE+o88dFYRV6qXcsFUSdxAqiRmElQ6igsCrmjtse/wcdYfLLT6OlVgAAAABJRU5ErkJggg==)\n"
      ],
      "metadata": {
        "id": "B1SbuClb3Vm4"
      }
    },
    {
      "cell_type": "code",
      "source": [
        "matriz = []\n",
        "for linha in range(4):\n",
        "    vetor = []\n",
        "    for coluna in range(4):\n",
        "        vetor.append(int(input(f'Informe o valor [{linha}],[{coluna}]: ')))\n",
        "    matriz.append(vetor)\n",
        "\n",
        "print('\\nDiagonal principal: ')\n",
        "for linha in range(len(matriz)):\n",
        "    for coluna in range(len(matriz[0])):\n",
        "        if [linha] == [coluna]:\n",
        "            print(f'{[linha,coluna]} - {matriz[linha][coluna]}', end='\\t')\n",
        "\n",
        "print('\\n\\nSoma elementos acima da diagonal principal: ')\n",
        "soma = 0\n",
        "for linha in range(len(matriz)):\n",
        "    for coluna in range(len(matriz[0])):\n",
        "        if coluna > linha:\n",
        "            soma = cont + matriz[linha][coluna]\n",
        "print(soma, 'é a soma dos elementos acima da diagonal principal.')\n",
        "#print(matriz.sum()) para somar todos os elementos da matriz"
      ],
      "metadata": {
        "id": "Q20QrkAW9CLu",
        "colab": {
          "base_uri": "https://localhost:8080/"
        },
        "outputId": "2f1fb1e3-423f-4881-f790-e3569c9423e6"
      },
      "execution_count": null,
      "outputs": [
        {
          "output_type": "stream",
          "name": "stdout",
          "text": [
            "Informe o valor [0],[0]: 42\n",
            "Informe o valor [0],[1]: 30\n",
            "Informe o valor [0],[2]: 50\n",
            "Informe o valor [0],[3]: 10\n",
            "Informe o valor [1],[0]: 34\n",
            "Informe o valor [1],[1]: 26\n",
            "Informe o valor [1],[2]: 70\n",
            "Informe o valor [1],[3]: 90\n",
            "Informe o valor [2],[0]: 48\n",
            "Informe o valor [2],[1]: 52\n",
            "Informe o valor [2],[2]: 68\n",
            "Informe o valor [2],[3]: 20\n",
            "Informe o valor [3],[0]: 78\n",
            "Informe o valor [3],[1]: 24\n",
            "Informe o valor [3],[2]: 36\n",
            "Informe o valor [3],[3]: 94\n",
            "\n",
            "Diagonal principal: \n",
            "[0, 0] - 42\t[1, 1] - 26\t[2, 2] - 68\t[3, 3] - 94\t\n",
            "\n",
            "Soma elementos acima da diagonal principal: \n",
            "270 é a soma dos elementos acima da diagonal principal.\n"
          ]
        }
      ]
    }
  ]
}