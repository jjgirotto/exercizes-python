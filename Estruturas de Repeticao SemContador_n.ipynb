{
  "nbformat": 4,
  "nbformat_minor": 0,
  "metadata": {
    "colab": {
      "provenance": [],
      "include_colab_link": true
    },
    "kernelspec": {
      "name": "python3",
      "display_name": "Python 3"
    }
  },
  "cells": [
    {
      "cell_type": "markdown",
      "metadata": {
        "id": "view-in-github",
        "colab_type": "text"
      },
      "source": [
        "<a href=\"https://colab.research.google.com/github/jjgirotto/exercizes-python/blob/main/Estruturas%20de%20Repeticao%20SemContador_n.ipynb\" target=\"_parent\"><img src=\"https://colab.research.google.com/assets/colab-badge.svg\" alt=\"Open In Colab\"/></a>"
      ]
    },
    {
      "cell_type": "markdown",
      "metadata": {
        "id": "E64RcqHIMXAS"
      },
      "source": [
        "### **EXERCÍCIOS DE ESTRUTURA DE REPETIÇÃO SEM CONTADOR**\n"
      ]
    },
    {
      "cell_type": "markdown",
      "metadata": {
        "id": "_q0kBpMGMbRF"
      },
      "source": [
        "###1. Construir um algoritmo para calcular e apresentar o total de salários pagos de funcionários, mas não é informado a quantidade de pessoas, então use como critério de parada (condição da estrutura de repetição, digitar zero no salário para sair.\n"
      ]
    },
    {
      "cell_type": "code",
      "metadata": {
        "id": "uLE2w6-aMadI",
        "colab": {
          "base_uri": "https://localhost:8080/"
        },
        "outputId": "72556241-ca17-4fba-cb06-4e4e9047683a"
      },
      "source": [
        "total = 0\n",
        "salario = float(input('Informe o salário: '))\n",
        "while salario > 0:\n",
        "    total = total + salario\n",
        "    salario = float(input('Informe o salário: '))\n",
        "print(f'Total de salário R$ {total:.2f}')"
      ],
      "execution_count": null,
      "outputs": [
        {
          "output_type": "stream",
          "name": "stdout",
          "text": [
            "Informe o salário: 1000\n",
            "Informe o salário: 5000\n",
            "Informe o salário: 3000\n",
            "Informe o salário: 4000\n",
            "Informe o salário: 5000\n",
            "Informe o salário: 0\n",
            "Total de salário R$ 18000.00\n"
          ]
        }
      ]
    },
    {
      "cell_type": "code",
      "source": [
        "total = 0         #GAMBIARRA\n",
        "salario = 1\n",
        "while salario > 0:\n",
        "    salario = float(input('Informe o salário: '))\n",
        "    if salario > 0:       #condição faz com que não some com um valor de entrada negativo\n",
        "        total = total + salario\n",
        "print(f'Total de salário R$ {total:.2f}')"
      ],
      "metadata": {
        "colab": {
          "base_uri": "https://localhost:8080/"
        },
        "id": "ImgBdf_ObB0E",
        "outputId": "5f026b93-11b8-42b9-bfd2-fee78ea670dd"
      },
      "execution_count": null,
      "outputs": [
        {
          "output_type": "stream",
          "name": "stdout",
          "text": [
            "Informe o salário: 3000\n",
            "Informe o salário: 1000\n",
            "Informe o salário: 5000\n",
            "Informe o salário: -5\n",
            "Total de salário R$ 9000.00\n"
          ]
        }
      ]
    },
    {
      "cell_type": "markdown",
      "metadata": {
        "id": "y7gc7ImtKBee"
      },
      "source": [
        "###2. Faça um programa que receba a altura de 5 pessoas. Encontre e apresente a altura da pessoa mais alta e da mais baixa e seus respectivos nomes."
      ]
    },
    {
      "cell_type": "code",
      "metadata": {
        "id": "r3DxVv2mKIcR",
        "colab": {
          "base_uri": "https://localhost:8080/"
        },
        "outputId": "757ac48a-df7f-4e78-bacf-6c867fba3ff8"
      },
      "source": [
        "for pessoas in range(5):\n",
        "    altura = float(input('Informe a altura: '))\n",
        "    nome = input('Informe o nome: ')\n",
        "    # dica de implementação, inicializar as variáveis de menor e maior\n",
        "    # valor dentro do laço de repetição, quando você souber, quantas\n",
        "    # vezes repete\n",
        "    if pessoas == 0:\n",
        "        alto = altura\n",
        "        nomea = nome\n",
        "        baixo = altura\n",
        "        nomeb = nome\n",
        "    if altura >= alto:\n",
        "        alto = altura\n",
        "        nomea = nome\n",
        "    elif altura <= baixo:\n",
        "        baixo = altura\n",
        "        nomeb = nome\n",
        "print(nomea,'é mais alto, com',alto,'metros')\n",
        "print(nomeb,'é mais baixo, com',baixo,'metros')"
      ],
      "execution_count": null,
      "outputs": [
        {
          "output_type": "stream",
          "name": "stdout",
          "text": [
            "Informe a altura: 1.78\n",
            "Informe o nome: Lucas\n",
            "Informe a altura: 1.8\n",
            "Informe o nome: Andres\n",
            "Informe a altura: 1.75\n",
            "Informe o nome: Felipe\n",
            "Informe a altura: 1.8\n",
            "Informe o nome: Edivaldo\n",
            "Informe a altura: 1.65\n",
            "Informe o nome: Patricia\n",
            "Edivaldo é mais alto, com 1.8 metros\n",
            "Patricia é mais baixo, com 1.65 metros\n"
          ]
        }
      ]
    },
    {
      "cell_type": "markdown",
      "metadata": {
        "id": "Dk1zCWGbJezq"
      },
      "source": [
        "###3. Faça um programa que receba a altura de várias pessoas. Encontre e apresente a altura da pessoa mais alta e da mais baixa e seus respectivos nomes. Para encerrar a entrada de dados, zero na altura, mas esta não poderá ser considerada como resposta da altura da pessoa mais baixa.\n"
      ]
    },
    {
      "cell_type": "code",
      "source": [
        "altura = float(input('Informe sua altura em metros: '))\n",
        "altura_maior = 0\n",
        "altura_menor = 10\n",
        "\n",
        "while altura > 0:\n",
        "    nome = input('Informe seu nome: ')\n",
        "    if altura >= altura_maior:\n",
        "        altura_maior = altura\n",
        "        nome_maior = nome\n",
        "    if altura <= altura_menor:\n",
        "        altura_menor = altura\n",
        "        nome_menor = nome\n",
        "    altura = float(input('Informe sua altura em metros: '))\n",
        "\n",
        "print(f'O(a) {nome_maior} é mais alto(a), com {altura_maior} e {nome_menor} mais baixo(a), com {altura_menor}.')"
      ],
      "metadata": {
        "id": "UIb_tZaierh0",
        "colab": {
          "base_uri": "https://localhost:8080/"
        },
        "outputId": "fd2ffbf1-ebbe-4d8f-e2c4-9d99228b39d9"
      },
      "execution_count": null,
      "outputs": [
        {
          "output_type": "stream",
          "name": "stdout",
          "text": [
            "Informe sua altura em metros: 1.58\n",
            "Informe seu nome: ju\n",
            "Informe sua altura em metros: 1.8\n",
            "Informe seu nome: raul\n",
            "Informe sua altura em metros: 1.57\n",
            "Informe seu nome: ana\n",
            "Informe sua altura em metros: 1.75\n",
            "Informe seu nome: vi\n",
            "Informe sua altura em metros: 0\n",
            "O(a) raul é mais alto(a), com 1.8 e ana mais baixo(a), com 1.57.\n"
          ]
        }
      ]
    },
    {
      "cell_type": "markdown",
      "metadata": {
        "id": "mWl0IWlJNEtA"
      },
      "source": [
        "###4. Faça um programa que receba a idade e a altura de várias pessoas. Calcule e exiba a média das alturas das pessoas com mais de 20 anos. Para encerrar a entrada de dados, digite uma idade negativa ou igual a zero.\n",
        "\n",
        "\n"
      ]
    },
    {
      "cell_type": "code",
      "metadata": {
        "id": "IcSBSaDV8sO_",
        "colab": {
          "base_uri": "https://localhost:8080/"
        },
        "outputId": "19e45528-6a62-4597-efec-36c160f66d80"
      },
      "source": [
        "qtde = 0\n",
        "soma = 0\n",
        "idade = int(input('Informe a idade: '))\n",
        "while idade > 0:\n",
        "    altura = float(input('Informe a altura: '))\n",
        "    if idade > 20:\n",
        "        soma = soma + altura\n",
        "        qtde = qtde + 1\n",
        "    idade = int(input('Informe a idade: '))\n",
        "if qtde > 0:\n",
        "    media = soma / qtde\n",
        "    print(f'Média das alturas das pessoas com mais de 20 anos é de {media:.2f}m.')\n",
        "else:\n",
        "    print('Não há pessoas com mais de 20 anos.')"
      ],
      "execution_count": null,
      "outputs": [
        {
          "output_type": "stream",
          "name": "stdout",
          "text": [
            "Informe a idade: 26\n",
            "Informe a altura: 1.58\n",
            "Informe a idade: 30\n",
            "Informe a altura: 1.8\n",
            "Informe a idade: 18\n",
            "Informe a altura: 1.6\n",
            "Informe a idade: 25\n",
            "Informe a altura: 1.75\n",
            "Informe a idade: 0\n",
            "Média das alturas das pessoas com mais de 20 anos é de 1.71m.\n"
          ]
        }
      ]
    },
    {
      "cell_type": "markdown",
      "metadata": {
        "id": "14hzaqH38V53"
      },
      "source": [
        "###5. Construir um algoritmo para calcular e apresentar a idade atual de algumas pessoas em relação ao ano atual, mas não é informado a quantidade de pessoas, então use como critério de parada (condição da estrutura de repetição, digitar zero no ano de nascimento para sair."
      ]
    },
    {
      "cell_type": "code",
      "metadata": {
        "id": "XxrUc9yWND8a",
        "colab": {
          "base_uri": "https://localhost:8080/"
        },
        "outputId": "54458566-afa7-4291-fa55-4c1e9f96c5f7"
      },
      "source": [
        "nasc = int(input('Informe o ano de nascimento: '))\n",
        "while nasc > 0:\n",
        "    idade = 2023 - nasc\n",
        "    print(f'Idade: {idade} anos.')\n",
        "    nasc = int(input('Informe o ano de nascimento: '))"
      ],
      "execution_count": null,
      "outputs": [
        {
          "name": "stdout",
          "output_type": "stream",
          "text": [
            "Informe o ano de nascimento: 1996\n",
            "Idade: 27 anos.\n",
            "Informe o ano de nascimento: 1990\n",
            "Idade: 33 anos.\n",
            "Informe o ano de nascimento: 1967\n",
            "Idade: 56 anos.\n",
            "Informe o ano de nascimento: 1971\n",
            "Idade: 52 anos.\n",
            "Informe o ano de nascimento: 0\n"
          ]
        }
      ]
    },
    {
      "cell_type": "markdown",
      "metadata": {
        "id": "inPGbmBaMe3R"
      },
      "source": [
        "###6. Faça um programa que receba um conjunto de valores inteiros, calcule e exiba o maior e o menor valor do conjunto.\n",
        "\n",
        "\n",
        "*   Para encerrar a entrada de dados, deve ser digitado o valor zero;\n",
        "*   Para valores negativos, deve ser enviada uma mensagem;\n",
        "*   Esses valores (zero e negativos) não entrarão na lógica de encontrar o maior e o menor valor.\n",
        "\n"
      ]
    },
    {
      "cell_type": "code",
      "metadata": {
        "id": "Q8ZKZyGLNxFf",
        "colab": {
          "base_uri": "https://localhost:8080/"
        },
        "outputId": "857fd82d-f14b-48f0-e765-2df7bd2420ee"
      },
      "source": [
        "n = int(input('Informe um número inteiro positivo: '))\n",
        "maior = 0\n",
        "menor = 999999999999999999999999999999999999999999\n",
        "while n != 0:\n",
        "    if n < 0:\n",
        "        print('O valor é negativo!')\n",
        "    if n > 0:\n",
        "        if n > maior:\n",
        "            maior = n\n",
        "        if n < menor:\n",
        "            menor = n\n",
        "    n = int(input('Informe um número inteiro positivo: '))\n",
        "print(f'O maior valor é {maior} e o menor, {menor}.')"
      ],
      "execution_count": null,
      "outputs": [
        {
          "output_type": "stream",
          "name": "stdout",
          "text": [
            "Informe um número inteiro positivo: 5\n",
            "Informe um número inteiro positivo: 25\n",
            "Informe um número inteiro positivo: 3\n",
            "Informe um número inteiro positivo: -2\n",
            "O número deve ser maior que zero!\n",
            "Informe um número inteiro positivo: 0\n",
            "O maior valor é 25 e o menor, 3.\n"
          ]
        }
      ]
    },
    {
      "cell_type": "markdown",
      "metadata": {
        "id": "ZG-AZwwLN4Vf"
      },
      "source": [
        "###7. No final do ano muitas pessoas compram presentes. Faça um programa que registre alguns dados das pessoas, usando como critério de parada a letra ‘n’, para a pergunta “Deseja cadastrar outro (‘s’/’n’)?”, para identificar o perfil dos compradores numa loja de roupas e apresente como resultado a:\n",
        "a)   Quantidade de mulheres e de homens;\n",
        "\n",
        "b)   Quantidade de mulheres e de homens abaixo e acima de 18 anos."
      ]
    },
    {
      "cell_type": "code",
      "metadata": {
        "id": "t4jNff-_N9xR"
      },
      "source": [
        "qtde_f = 0\n",
        "qtde_m = 0\n",
        "qtde_f18 = 0\n",
        "qtde_f17 = 0\n",
        "qtde_m18 = 0\n",
        "qtde_m17 = 0\n",
        "resposta = input('Deseja cadastrar um produto (s-sim ou n-não)? ')\n",
        "while resposta == 's':\n",
        "    sexo = input('Qual o sexo? (f-feminino ou m-masculino) ')\n",
        "    idade = int(input('Qual a idade? '))\n",
        "    if sexo == 'f':\n",
        "        qtde_f = qtde_f + 1\n",
        "        if idade > 18:\n",
        "            qtde_f18 = qtde_f18 + 1\n",
        "        else:\n",
        "            qtde_f17 = qtde_f17 + 1\n",
        "    elif sexo == 'm':\n",
        "        qtde_m = qtde_m + 1\n",
        "        if idade > 18:\n",
        "            qtde_m18 = qtde_m18 + 1\n",
        "        else:\n",
        "            qtde_m17 = qtde_m17 + 1\n",
        "    resposta = input('Deseja cadastrar outro produto (s-sim ou n-não)? ')\n",
        "print(f'São {qtde_f} mulher(es), {qtde_f18} maior(es) de 18 anos e {qtde_f17} menor(es) de 18 anos.')\n",
        "print(f'São {qtde_m} homen(s), {qtde_m18} maior(es) de 18 anos e {qtde_m17} menor(es) de 18 anos.')"
      ],
      "execution_count": null,
      "outputs": []
    }
  ]
}