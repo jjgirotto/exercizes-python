{
  "nbformat": 4,
  "nbformat_minor": 0,
  "metadata": {
    "colab": {
      "provenance": [],
      "include_colab_link": true
    },
    "kernelspec": {
      "name": "python3",
      "display_name": "Python 3"
    }
  },
  "cells": [
    {
      "cell_type": "markdown",
      "metadata": {
        "id": "view-in-github",
        "colab_type": "text"
      },
      "source": [
        "<a href=\"https://colab.research.google.com/github/jjgirotto/exercizes-python/blob/main/Estrutura%20de%20Repeticao.ipynb\" target=\"_parent\"><img src=\"https://colab.research.google.com/assets/colab-badge.svg\" alt=\"Open In Colab\"/></a>"
      ]
    },
    {
      "cell_type": "markdown",
      "metadata": {
        "id": "TWJjhvldsGq1"
      },
      "source": [
        "#ESTRUTURA DE REPETIÇÃO\n",
        "##Todos estes algoritmos/programas podem ser implementados com o comando **while** ou **for**. Para estudar, implemente cada exercício com as **duas** estruturas de repetição."
      ]
    },
    {
      "cell_type": "markdown",
      "metadata": {
        "id": "ra2ortoj88ct"
      },
      "source": [
        "###1. Faça um algoritmo  que mostre 10 vezes a frase “Bem vindo a Fatec!”. Pode implementar com o comando while ou for."
      ]
    },
    {
      "cell_type": "code",
      "metadata": {
        "id": "w87cAtUi9P5j"
      },
      "source": [
        "print('Exemplo do while.............\\n\\n')\n",
        "# 1º passo - inicialização\n",
        "contador = 1\n",
        "# 2º passo - condição/critério de parada\n",
        "while contador <= 10:\n",
        "    print(contador, 'Bem vindo a Fatec!')\n",
        "    contador = contador + 1 # 3º passo - incremento\n",
        "print('\\n\\nFim\\t.............')"
      ],
      "execution_count": null,
      "outputs": []
    },
    {
      "cell_type": "code",
      "source": [
        "print('\\n\\nExemplo do for.............\\n')\n",
        "# 1º passo - inicialização, 2º passo - condição/critério de parada\n",
        "# e 3º passo - incremento, numa única linha no for\n",
        "for contador in range(1,11):\n",
        "    print(contador,'Bem vindo a Fatec!'),\n",
        "print('\\n\\nFim\\t.............')"
      ],
      "metadata": {
        "id": "AfLjZS3G1d3l"
      },
      "execution_count": null,
      "outputs": []
    },
    {
      "cell_type": "markdown",
      "metadata": {
        "id": "Tz26_Q_09QzZ"
      },
      "source": [
        "###2. Faça um algoritmo que mostre o cumprimento ‘Olá ‘ para o nome de alguém (4 pessoas). Exemplo ‘Olá Mariana’. Pode implementar com o comando while ou for.\n",
        ""
      ]
    },
    {
      "cell_type": "code",
      "metadata": {
        "id": "EK8e5Oxn9eFX"
      },
      "source": [
        "# Digite seu código aqui\n",
        "print('WHILE\\n')\n",
        "\n",
        "pessoas = 1\n",
        "while pessoas <= 4:\n",
        "    nome = input('Informe seu nome: ')\n",
        "    print('Olá' ,nome)\n",
        "    pessoas = pessoas + 1\n",
        "print('\\nFim.')"
      ],
      "execution_count": null,
      "outputs": []
    },
    {
      "cell_type": "code",
      "source": [
        "print('FOR\\n')\n",
        "for pessoas in range (4):\n",
        "    nome = input('Informe seu nome: ')\n",
        "    print('Olá' ,nome)\n",
        "print('\\nFim.')"
      ],
      "metadata": {
        "id": "2N1FLigxi_Fv"
      },
      "execution_count": null,
      "outputs": []
    },
    {
      "cell_type": "markdown",
      "metadata": {
        "id": "-tIGmOam9eaB"
      },
      "source": [
        "###3. Faça um algoritmo que mostre os valores de 0 a 15. Pode implementar com o comando while ou for.\n"
      ]
    },
    {
      "cell_type": "code",
      "metadata": {
        "id": "PVFy9VEE9jy9"
      },
      "source": [
        "# Digite seu código aqui\n",
        "print('WHILE\\n')\n",
        "valor = 0\n",
        "while valor <= 15:\n",
        "    print(valor)\n",
        "    valor = valor + 1\n",
        "print('\\nFim.')"
      ],
      "execution_count": null,
      "outputs": []
    },
    {
      "cell_type": "code",
      "source": [
        "print('FOR\\n')\n",
        "for valor in range (16):\n",
        "    print(valor)\n",
        "print('\\nFim.')"
      ],
      "metadata": {
        "id": "P0GaDZwpkMHT"
      },
      "execution_count": null,
      "outputs": []
    },
    {
      "cell_type": "markdown",
      "metadata": {
        "id": "n2GgpaGP9j-A"
      },
      "source": [
        "###4. Faça um algoritmo que mostre os valores de 3 a 20. Pode implementar com o comando while ou for.\n"
      ]
    },
    {
      "cell_type": "code",
      "metadata": {
        "id": "lqitidIO9rOm"
      },
      "source": [
        "# Digite seu código aqui\n",
        "print('WHILE\\n')\n",
        "valor = 3\n",
        "while valor <= 20:\n",
        "    print(valor)\n",
        "    valor = valor + 1\n",
        "print('\\nFim.')"
      ],
      "execution_count": null,
      "outputs": []
    },
    {
      "cell_type": "code",
      "source": [
        "print('FOR\\n')\n",
        "for valor in range (3,21):\n",
        "    print(valor)\n",
        "print('\\nFim.')"
      ],
      "metadata": {
        "id": "duqYRbvPkibl"
      },
      "execution_count": null,
      "outputs": []
    },
    {
      "cell_type": "markdown",
      "metadata": {
        "id": "C8RRCFc_9sTL"
      },
      "source": [
        "###5. Faça um algoritmo que calcule e mostre a tabuada do 5. Pode implementar com o comando while ou for.\n"
      ]
    },
    {
      "cell_type": "code",
      "metadata": {
        "id": "4QBLg1ka91dV"
      },
      "source": [
        "# Digite seu código aqui\n",
        "print('WHILE\\n')\n",
        "valor = 1\n",
        "while valor <= 10:\n",
        "    tabuada = valor * 5\n",
        "    valor = valor + 1\n",
        "    print(tabuada)\n",
        "print('\\nFim.')"
      ],
      "execution_count": null,
      "outputs": []
    },
    {
      "cell_type": "code",
      "source": [
        "print('FOR\\n')\n",
        "for valor in range (1,11):\n",
        "    tabuada = valor * 5\n",
        "    print(tabuada)\n",
        "print('\\nFim.')"
      ],
      "metadata": {
        "id": "k_GBSsb3k3w5"
      },
      "execution_count": null,
      "outputs": []
    },
    {
      "cell_type": "markdown",
      "metadata": {
        "id": "nJv5jBoq91tW"
      },
      "source": [
        "###6. Faça um algoritmo que receba a idade de 10 pessoas, calcule e exiba a quantidade de pessoas maiores de idade, sendo que a maioridade é obtida após completar 18 anos. Pode implementar com o comando while ou for.\n"
      ]
    },
    {
      "cell_type": "code",
      "metadata": {
        "id": "FXOsNMt_96QH"
      },
      "source": [
        "# Digite seu código aqui\n",
        "print('WHILE\\n')\n",
        "\n",
        "pessoas = 1\n",
        "contador = 0\n",
        "while pessoas <= 10:\n",
        "    idade = int(input('Informe sua idade: '))\n",
        "    if idade >= 18:\n",
        "        contador = contador + 1\n",
        "    pessoas = pessoas + 1\n",
        "print(contador, 'maiores de idade.')\n",
        "\n",
        "print('\\nFim.')"
      ],
      "execution_count": null,
      "outputs": []
    },
    {
      "cell_type": "code",
      "source": [
        "print('FOR\\n')\n",
        "\n",
        "maiores = 0\n",
        "for pessoas in range (10):\n",
        "    idade = int(input('Informe sua idade: '))\n",
        "    if idade >= 18:\n",
        "        maiores = maiores + 1\n",
        "print('Maiores de idade: ',maiores)\n",
        "print('\\nFim.')"
      ],
      "metadata": {
        "id": "m58GqMWKoJwT"
      },
      "execution_count": null,
      "outputs": []
    },
    {
      "cell_type": "markdown",
      "metadata": {
        "id": "g5RA7KN896ep"
      },
      "source": [
        "###7. Escreva um algoritmo que receba 23 números, calcule e exiba a quantidade de números pares e impares. Pode implementar com o comando while ou for.\n"
      ]
    },
    {
      "cell_type": "code",
      "metadata": {
        "id": "JBnJiugI9_Q1"
      },
      "source": [
        "# Digite seu código aqui\n",
        "print('WHILE\\n')\n",
        "\n",
        "n_par = 0\n",
        "n_impar = 0\n",
        "cont = 1\n",
        "while cont <=23:\n",
        "    numero = int(input('Informe um número inteiro: '))\n",
        "    if numero % 2 == 0:\n",
        "        n_par = n_par + 1\n",
        "    else:\n",
        "        n_impar = n_impar + 1\n",
        "    cont = cont + 1\n",
        "print('\\nSão ',n_par,'números pares e ',n_impar, 'números ímpares.')"
      ],
      "execution_count": null,
      "outputs": []
    },
    {
      "cell_type": "code",
      "source": [
        "\n",
        "print('FOR\\n')\n",
        "\n",
        "n_par = 0\n",
        "n_impar = 0\n",
        "for cont in range (23):\n",
        "    numero = int(input('Informe um número inteiro: '))\n",
        "    if numero % 2 == 0:\n",
        "        n_par = n_par + 1\n",
        "    else:\n",
        "        n_impar = n_impar + 1\n",
        "print('\\nSão ',n_par,'números pares e ',n_impar, 'números ímpares.')"
      ],
      "metadata": {
        "id": "wUn78B4rAYwv"
      },
      "execution_count": null,
      "outputs": []
    },
    {
      "cell_type": "markdown",
      "metadata": {
        "id": "DVuRwa6J9_in"
      },
      "source": [
        "###8. Faça um algoritmo que calcule e exiba o salário reajustado de dez funcionários de acordo com a seguinte regra (pode implementar com o comando while ou for):\n",
        "## Salário até 300, reajuste de 50%;\n",
        "\n",
        "##Salários maiores que 300, reajuste de 30%.\n",
        "\n",
        "\n"
      ]
    },
    {
      "cell_type": "code",
      "metadata": {
        "id": "GnYXpwwH-Drd"
      },
      "source": [
        "# Digite seu código aqui\n",
        "print('WHILE\\n')\n",
        "\n",
        "cont = 1\n",
        "\n",
        "while cont <= 10:\n",
        "    salario = float(input('Informe o valor do seu salário: '))\n",
        "    if salario <= 300:\n",
        "        salario_reaj = salario * 1.5\n",
        "        print(f'O salário reajustado é de R$ {salario_reaj:.2f} reais.')\n",
        "    else:\n",
        "        salario_reaj = salario * 1.3\n",
        "        print(f'O salário reajustado é de R$ {salario_reaj:.2f} reais.')\n",
        "    cont = cont + 1"
      ],
      "execution_count": null,
      "outputs": []
    },
    {
      "cell_type": "code",
      "source": [
        "# Digite seu código aqui\n",
        "print('FOR\\n')\n",
        "\n",
        "for cont in range (10):\n",
        "    salario = float(input('Informe o valor do seu salário: '))\n",
        "    if salario <= 300:\n",
        "        salario_reaj = salario * 1.5\n",
        "        print(f'O salário reajustado é de R$ {salario_reaj:.2f} reais.')\n",
        "    else:\n",
        "        salario_reaj = salario * 1.3\n",
        "        print(f'O salário reajustado é de R$ {salario_reaj:.2f} reais.')"
      ],
      "metadata": {
        "id": "Y4xlV37mC3Bs"
      },
      "execution_count": null,
      "outputs": []
    },
    {
      "cell_type": "markdown",
      "metadata": {
        "id": "WWEunLW8-D2h"
      },
      "source": [
        "\n",
        "###9. Faça um algoritmo que conheça 4 preços de produtos, some-os e mostre o resultado. Pode implementar com o comando while ou for.\n"
      ]
    },
    {
      "cell_type": "code",
      "source": [
        "# Digite seu código aqui\n",
        "print('WHILE\\n')\n",
        "\n",
        "cont = 1\n",
        "somapreco = 0\n",
        "while cont <= 4:\n",
        "    preco = float(input('Informe o preço do produto: '))\n",
        "    somapreco = somapreco + preco\n",
        "    cont += 1\n",
        "print(f'A soma dos preços dos produtos é de R${somapreco:.2f} reais.')"
      ],
      "metadata": {
        "colab": {
          "base_uri": "https://localhost:8080/"
        },
        "id": "j_Q6ioe6C7g7",
        "outputId": "f0398a9a-a0cd-4d1c-d36e-564bd92fad92"
      },
      "execution_count": null,
      "outputs": [
        {
          "output_type": "stream",
          "name": "stdout",
          "text": [
            "WHILE\n",
            "\n",
            "Informe o preço do produto: 1\n",
            "Informe o preço do produto: 2\n",
            "Informe o preço do produto: 3\n",
            "Informe o preço do produto: 4\n",
            "A soma dos preços dos produtos é de R$10.00 reais.\n"
          ]
        }
      ]
    },
    {
      "cell_type": "code",
      "metadata": {
        "id": "N9cUIxJk-HLg",
        "colab": {
          "base_uri": "https://localhost:8080/"
        },
        "outputId": "fbcbc7d0-3035-4056-fb49-fc85a81a6c56"
      },
      "source": [
        "# Digite seu código aqui\n",
        "print('FOR\\n')\n",
        "\n",
        "somapreco = 0\n",
        "\n",
        "for cont in range (4):\n",
        "    preco = float(input('Informe o preço do produto: '))\n",
        "    somapreco = somapreco + preco\n",
        "print(f'A soma dos preços dos produtos é de R${somapreco:.2f} reais.')"
      ],
      "execution_count": null,
      "outputs": [
        {
          "output_type": "stream",
          "name": "stdout",
          "text": [
            "FOR\n",
            "\n",
            "Informe o preço do produto: 20\n",
            "Informe o preço do produto: 5\n",
            "Informe o preço do produto: 5\n",
            "Informe o preço do produto: 6.8\n",
            "A soma dos preços dos produtos é de R$36.80 reais.\n"
          ]
        }
      ]
    },
    {
      "cell_type": "markdown",
      "metadata": {
        "id": "rf_lUW8J-HbR"
      },
      "source": [
        "###10. Faça um algoritmo que calcule e informe a média de idades de 5 alunos. Pode implementar com o comando while ou for."
      ]
    },
    {
      "cell_type": "code",
      "metadata": {
        "id": "kIGzHgii-Teb",
        "colab": {
          "base_uri": "https://localhost:8080/"
        },
        "outputId": "2589fcce-cbca-4631-94ae-dfda3dda5804"
      },
      "source": [
        "# Digite seu código aqui\n",
        "print('WHILE\\n')\n",
        "\n",
        "cont = 1\n",
        "somaid = 0\n",
        "while cont <=5:\n",
        "    idade = int(input('Informe sua idade: '))\n",
        "    somaid = somaid + idade\n",
        "    media = somaid / cont\n",
        "    cont += 1\n",
        "print(f'A média das idades é de {media} anos.')"
      ],
      "execution_count": null,
      "outputs": [
        {
          "output_type": "stream",
          "name": "stdout",
          "text": [
            "WHILE\n",
            "\n",
            "Informe sua idade: 10\n",
            "Informe sua idade: 20\n",
            "Informe sua idade: 15\n",
            "Informe sua idade: 20\n",
            "Informe sua idade: 10\n",
            "A média das idades é de 15.0 anos.\n"
          ]
        }
      ]
    },
    {
      "cell_type": "code",
      "source": [
        "# Digite seu código aqui\n",
        "print('FOR\\n')\n",
        "\n",
        "somaid = 0\n",
        "for cont in range (5):\n",
        "    idade = int(input('Informe sua idade: '))\n",
        "    somaid = somaid + idade\n",
        "    media = somaid / 5\n",
        "print(f'A média das idades é de {media} anos.')"
      ],
      "metadata": {
        "colab": {
          "base_uri": "https://localhost:8080/"
        },
        "id": "OfptRrnkEbY-",
        "outputId": "c353e5a8-2d3b-459e-c37d-4349610538b7"
      },
      "execution_count": null,
      "outputs": [
        {
          "output_type": "stream",
          "name": "stdout",
          "text": [
            "FOR\n",
            "\n",
            "Informe sua idade: 10\n",
            "Informe sua idade: 5\n",
            "Informe sua idade: 10\n",
            "Informe sua idade: 5\n",
            "Informe sua idade: 7\n",
            "A média das idades é de 7.4 anos.\n"
          ]
        }
      ]
    },
    {
      "cell_type": "markdown",
      "metadata": {
        "id": "cTQOtgv8-TqZ"
      },
      "source": [
        "###11. Faça um algoritmo que conheça 4 preços de produtos, calcule e mostre a média aritmética dos preços. Pode implementar com o comando while ou for.\n"
      ]
    },
    {
      "cell_type": "code",
      "metadata": {
        "id": "1jGiDIq--XfE",
        "colab": {
          "base_uri": "https://localhost:8080/"
        },
        "outputId": "e4e19dd0-c079-4b7f-8a70-466d0b04e0b8"
      },
      "source": [
        "# Digite seu código aqui\n",
        "print('WHILE\\n')\n",
        "cont = 1\n",
        "somapr = 0\n",
        "while cont <=4:\n",
        "    preco = float(input('Informe o preço do produto: '))\n",
        "    somapr = somapr + preco\n",
        "    media = somapr / cont\n",
        "    cont += 1\n",
        "print(f'A média aritmética dos preços é de R${media:.2f} reais.')"
      ],
      "execution_count": null,
      "outputs": [
        {
          "output_type": "stream",
          "name": "stdout",
          "text": [
            "WHILE\n",
            "\n",
            "Informe o preço do produto: 1\n",
            "Informe o preço do produto: 2\n",
            "Informe o preço do produto: 3\n",
            "Informe o preço do produto: 4\n",
            "A média aritmética dos preços é de R$2.5 reais.\n"
          ]
        }
      ]
    },
    {
      "cell_type": "code",
      "source": [
        "print('FOR\\n')\n",
        "somapr = 0\n",
        "for cont in range (4):\n",
        "    preco = float(input('Informe o preço do produto: '))\n",
        "    somapr = somapr + preco\n",
        "    media = somapr / 4\n",
        "print(f'A média aritmética dos preços é de R${media:.2f} reais.')"
      ],
      "metadata": {
        "colab": {
          "base_uri": "https://localhost:8080/"
        },
        "id": "DhN6fC9KGAKU",
        "outputId": "59b435e3-91dc-4483-9eae-d0bfce8c3e7e"
      },
      "execution_count": null,
      "outputs": [
        {
          "output_type": "stream",
          "name": "stdout",
          "text": [
            "FOR\n",
            "\n",
            "Informe o preço do produto: 12.5\n",
            "Informe o preço do produto: 2.5\n",
            "Informe o preço do produto: 6.5\n",
            "Informe o preço do produto: 3.5\n",
            "A média aritmética dos preços é de R$6.25 reais.\n"
          ]
        }
      ]
    },
    {
      "cell_type": "markdown",
      "source": [
        "###12. Faça um programa que receba a idade e a altura de 20 pessoas. Calcule e exiba a média das alturas das pessoas com mais de 20 anos.\n",
        "\n",
        "\n"
      ],
      "metadata": {
        "id": "q2aJm6ktRIKX"
      }
    },
    {
      "cell_type": "code",
      "source": [
        "# Digite seu código aqui\n",
        "print('WHILE\\n')\n",
        "cont = 1\n",
        "soma_alt = 0\n",
        "q_mais20 = 0\n",
        "while cont <=20:\n",
        "    idade = int(input('Informe sua idade: '))\n",
        "    altura = float(input('Informe sua altura em metros: '))\n",
        "    if idade > 20:\n",
        "        soma_alt = soma_alt + altura\n",
        "        q_mais20 = q_mais20 + 1\n",
        "        media = soma_alt / q_mais20\n",
        "    cont += 1\n",
        "print(f'A média das alturas das pessoas com mais de 20 anos é de {media:.2f} metro(s).')"
      ],
      "metadata": {
        "id": "BrL7c0SiReMX"
      },
      "execution_count": null,
      "outputs": []
    },
    {
      "cell_type": "code",
      "source": [
        "print('FOR\\n')\n",
        "soma_alt = 0\n",
        "q_mais20 = 0\n",
        "for cont in range (20):\n",
        "    idade = int(input('Informe sua idade: '))\n",
        "    altura = float(input('Informe sua altura em metros: '))\n",
        "    if idade > 20:\n",
        "        soma_alt = soma_alt + altura\n",
        "        q_mais20 = q_mais20 + 1\n",
        "        media = soma_alt / q_mais20\n",
        "print(f'A média das alturas das pessoas com mais de 20 anos é de {media:.2f} metro(s).')"
      ],
      "metadata": {
        "id": "5hqOJinDG6x3"
      },
      "execution_count": null,
      "outputs": []
    },
    {
      "cell_type": "markdown",
      "metadata": {
        "id": "aI4IjOYw-XwG"
      },
      "source": [
        "###13. Faça um algoritmo que leia o preço de 20 TV, determine e apresente a média dos preços que possuem valor maior que R$ 1000. Pode implementar com o comando while ou for."
      ]
    },
    {
      "cell_type": "code",
      "source": [
        "# Digite seu código aqui\n",
        "print('WHILE\\n')\n",
        "cont = 1\n",
        "soma_preco = 0\n",
        "q_mais1000 = 0\n",
        "while cont <=20:\n",
        "    preco = float(input('Informe o preço da TV: '))\n",
        "    if preco > 1000:\n",
        "        soma_preco = soma_preco + preco\n",
        "        q_mais1000 = q_mais1000 + 1\n",
        "        media = soma_preco / q_mais1000\n",
        "    cont += 1\n",
        "print(f'A média dos preços das TVs com preços maiores de R$1000,00 é de {media} reais.')"
      ],
      "metadata": {
        "id": "0YxUWj8KQriq"
      },
      "execution_count": null,
      "outputs": []
    },
    {
      "cell_type": "code",
      "source": [
        "print('FOR\\n')\n",
        "soma_preco = 0\n",
        "q_mais1000 = 0\n",
        "for cont in range (20):\n",
        "    preco = float(input('Informe o preço da TV: '))\n",
        "    if preco > 1000:\n",
        "        soma_preco = soma_preco + preco\n",
        "        q_mais1000 = q_mais1000 + 1\n",
        "        media = soma_preco / q_mais1000\n",
        "print(f'A média dos preços das TVs com preços maiores de R$1000,00 é de {media} reais.')"
      ],
      "metadata": {
        "id": "oHRVzANxNet1"
      },
      "execution_count": null,
      "outputs": []
    },
    {
      "cell_type": "markdown",
      "source": [
        "###14. Faça um programa que receba a altura e nome  de 5 pessoas. Encontre e apresente a altura da pessoa mais alta e da mais baixa e seus respectivos nomes."
      ],
      "metadata": {
        "id": "AvMp2ZGF5sBk"
      }
    },
    {
      "cell_type": "code",
      "source": [
        "# Digite seu código aqui\n",
        "print('WHILE\\n')\n",
        "cont = 1\n",
        "while cont <= 5:\n",
        "    nome = input('Informe seu nome: ')\n",
        "    altura = float(input('Informe sua altura em metros: '))\n",
        "    if cont == 1:\n",
        "        alto = altura\n",
        "        nome_alto = nome\n",
        "        baixo = altura\n",
        "        nome_baixo = altura\n",
        "    if altura > alto:\n",
        "        alto = altura\n",
        "        nome_alto = nome\n",
        "    if altura < baixo:\n",
        "        baixo = altura\n",
        "        nome_baixo = nome\n",
        "    cont += 1\n",
        "print(f'O nome da pessoa mais alta é {nome_alto}, com {alto} metro(s).')\n",
        "print(f'O nome da pessoa mais baixa é {nome_baixo}, com {baixo} metro(s).')"
      ],
      "metadata": {
        "id": "HUkicD3g6CX4"
      },
      "execution_count": null,
      "outputs": []
    },
    {
      "cell_type": "code",
      "source": [
        "print('FOR\\n')\n",
        "for cont in range (5):\n",
        "    nome = input('Informe seu nome: ')\n",
        "    altura = float(input('Informe sua altura em metros: '))\n",
        "    if cont == 0:\n",
        "        maior = altura\n",
        "        nome_maior = nome\n",
        "        menor = altura\n",
        "        nome_menor = altura\n",
        "    if altura > maior:\n",
        "        maior = altura\n",
        "        nome_maior = nome\n",
        "    if altura < menor:\n",
        "        menor = altura\n",
        "        nome_menor = nome\n",
        "print(f'O nome da pessoa mais alta é {nome_maior}, com {maior} metro(s).')\n",
        "print(f'O nome da pessoa mais baixa é {nome_menor}, com {menor} metro(s).')"
      ],
      "metadata": {
        "id": "Pw5EeNf1fTmZ",
        "colab": {
          "base_uri": "https://localhost:8080/"
        },
        "outputId": "146ebf40-9f4e-41ba-ec87-21efc1d3c433"
      },
      "execution_count": null,
      "outputs": [
        {
          "output_type": "stream",
          "name": "stdout",
          "text": [
            "FOR\n",
            "\n",
            "Informe seu nome: ju\n",
            "Informe sua altura em metros: 1.58\n",
            "Informe seu nome: ki\n",
            "Informe sua altura em metros: 1.5\n",
            "Informe seu nome: li\n",
            "Informe sua altura em metros: 1.2\n",
            "Informe seu nome: li\n",
            "Informe sua altura em metros: 1.2\n",
            "Informe seu nome: juy\n",
            "Informe sua altura em metros: 1.6\n",
            "O nome da pessoa mais alta é juy, com 1.6 metro(s).\n",
            "O nome da pessoa mais baixa é li, com 1.2 metro(s).\n"
          ]
        }
      ]
    },
    {
      "cell_type": "markdown",
      "source": [
        "###15. Faça um programa que receba dez valores inteiros, encontre e apresente o maior e o menor valor.\n",
        "\n"
      ],
      "metadata": {
        "id": "8KWL51p-6Ckk"
      }
    },
    {
      "cell_type": "code",
      "source": [
        "# Digite seu código aqui\n",
        "print('WHILE\\n')\n",
        "cont = 1\n",
        "while cont <= 10:\n",
        "    valor = int(input('Informe um número inteiro: '))\n",
        "    if cont == 1:\n",
        "        maior = valor\n",
        "        menor = valor\n",
        "    if valor > maior:\n",
        "        maior = valor\n",
        "    if valor < menor:\n",
        "        menor = valor\n",
        "    cont += 1\n",
        "print('O valor maior é: ',maior)\n",
        "print('O valor menor é: ',menor)"
      ],
      "metadata": {
        "id": "D48xIbyn6aDH"
      },
      "execution_count": null,
      "outputs": []
    },
    {
      "cell_type": "code",
      "source": [
        "print('FOR\\n')\n",
        "for cont in range (10):\n",
        "    valor = int(input('Informe um número inteiro: '))\n",
        "    if cont == 0:\n",
        "        maior = valor\n",
        "        menor = valor\n",
        "    if valor > maior:\n",
        "        maior = valor\n",
        "    if valor < menor:\n",
        "        menor = valor\n",
        "print('O valor maior é: ',maior)\n",
        "print('O valor menor é: ',menor)"
      ],
      "metadata": {
        "id": "YWkaoiTe_msz"
      },
      "execution_count": null,
      "outputs": []
    },
    {
      "cell_type": "markdown",
      "source": [
        "###16. Os alunos do primeiro módulo farão a P1 da disciplina de Algoritmo. Crie um algoritmo que leia as 40 notas e RAs, encontre e apresente a maior, a menor e os respectivos RAs desses alunos."
      ],
      "metadata": {
        "id": "7ykHS3fC6e1z"
      }
    },
    {
      "cell_type": "code",
      "source": [
        "print('WHILE\\n')\n",
        "cont = 1\n",
        "while cont <= 40:\n",
        "    ra = int(input('Digite o RA do aluno: '))\n",
        "    nota = float(input('Digite a nota do aluno: '))\n",
        "    if cont == 1:\n",
        "        maior_nota = nota\n",
        "        ra_maior = ra\n",
        "        menor_nota = nota\n",
        "        ra_menor = ra\n",
        "    if nota > maior_nota:\n",
        "        maior_nota = nota\n",
        "        ra_maior = ra\n",
        "    if nota < menor_nota:\n",
        "        menor_nota = nota\n",
        "        ra_menor = ra\n",
        "    cont += 1\n",
        "\n",
        "print(f\"A maior nota é {maior_nota}, RA do aluno: {ra_maior}\")\n",
        "print(f\"A menor nota é {menor_nota}, RA do aluno: {ra_menor}\")"
      ],
      "metadata": {
        "id": "ixbDe69DPZbZ"
      },
      "execution_count": null,
      "outputs": []
    },
    {
      "cell_type": "code",
      "source": [
        "# Digite seu código aqui\n",
        "print('FOR\\n')\n",
        "for cont in range (40):\n",
        "    ra = int(input('Digite o RA do aluno: '))\n",
        "    nota = float(input('Digite a nota do aluno: '))\n",
        "    if cont == 0:\n",
        "        maior_nota = nota\n",
        "        ra_maior = ra\n",
        "        menor_nota = nota\n",
        "        ra_menor = ra\n",
        "    if nota > maior_nota:\n",
        "        maior_nota = nota\n",
        "        ra_maior = ra\n",
        "    if nota < menor_nota:\n",
        "        menor_nota = nota\n",
        "        ra_menor = ra\n",
        "\n",
        "print(f\"A maior nota é {maior_nota}, RA do aluno: {ra_maior}\")\n",
        "print(f\"A menor nota é {menor_nota}, RA do aluno: {ra_menor}\")"
      ],
      "metadata": {
        "id": "yU4vMIRs7BPK"
      },
      "execution_count": null,
      "outputs": []
    },
    {
      "cell_type": "markdown",
      "source": [
        "###17. Faça um programa que calcule e apresente as tabuadas do 3 ao 7. Este exercício utiliza DUAS estruturas de repetição."
      ],
      "metadata": {
        "id": "wJ0MVHDlQrNb"
      }
    },
    {
      "cell_type": "code",
      "source": [
        "# Digite seu código aqui\n",
        "print('WHILE\\n')\n",
        "tabuada = 3\n",
        "while tabuada <= 7:\n",
        "    print(f'Tabuada do {tabuada}:')\n",
        "    valor = 1\n",
        "    while valor <= 10:\n",
        "        resultado = tabuada * valor\n",
        "        print(f'{tabuada} x {valor} = {resultado}')\n",
        "        valor = valor + 1\n",
        "    tabuada = tabuada + 1\n",
        "    print() #uma linha em branco será apresentada\n",
        "print('\\nFim.')"
      ],
      "metadata": {
        "id": "0ZBwoW881MU7"
      },
      "execution_count": null,
      "outputs": []
    },
    {
      "cell_type": "code",
      "source": [
        "print('FOR\\n')\n",
        "\n",
        "for valor_tabuada in range (3,8):\n",
        "    print(f'Tabuada do {valor_tabuada}:')\n",
        "    for valor in range (1,11):\n",
        "        resultado = valor_tabuada * valor\n",
        "        print(f'{valor_tabuada} x {valor} = {resultado}')\n",
        "    print() #uma linha em branco será apresentada"
      ],
      "metadata": {
        "id": "aEXU13MGJ8Yz"
      },
      "execution_count": null,
      "outputs": []
    },
    {
      "cell_type": "markdown",
      "source": [
        "###18. Faça um programa para o curso de ADS (6 módulos), cada sala tem 30 alunos, calcule e apresente os seguintes itens:\n",
        "*  Quantidade de homens e mulheres de cada módulo;\n",
        "*  Média de idades de cada módulo;\n",
        "*  Quantidade de homens e mulheres do curso todo;\n",
        "*  Média de idades do curso todo.\n",
        "\n",
        "Observação: este exercício utiliza DUAS estruturas de repetição."
      ],
      "metadata": {
        "id": "wu3gKhw_P-t2"
      }
    },
    {
      "cell_type": "code",
      "source": [
        "print('WHILE\\n')\n",
        "\n",
        "modulo = 1\n",
        "total_masc = 0\n",
        "total_fem = 0\n",
        "total_media = 0\n",
        "\n",
        "while modulo <= 6:\n",
        "    print(modulo,'º módulo','.'*50)\n",
        "    aluno = 1\n",
        "    q_fem = 0\n",
        "    q_masc = 0\n",
        "    somaid = 0\n",
        "    while aluno <= 30:\n",
        "        genero = input('Cadastre o gênero M/F: ')\n",
        "        idade = int(input('Cadastre sua idade: '))\n",
        "        if genero == 'F' or genero == 'f':\n",
        "            q_fem = q_fem + 1\n",
        "            total_fem = total_fem + 1\n",
        "        elif genero == 'M' or genero == 'm':\n",
        "            q_masc = q_masc + 1\n",
        "            total_masc = total_masc + 1\n",
        "        somaid = somaid + idade\n",
        "        media = somaid / aluno\n",
        "        aluno = aluno + 1\n",
        "    total_media = (total_media + media) / modulo\n",
        "    print(f'Há {q_fem} mulher(es) e {q_masc} homem(ns).')\n",
        "    print(f'A média de idade é de: {media:.2f} anos.')\n",
        "    modulo = modulo + 1\n",
        "print(f'No total em 6 módulos, tem-se {total_masc} homens e {total_fem} mulheres.')\n",
        "print(f'No total em 6 módulos, tem-se uma média de idade de {total_media} anos.')"
      ],
      "metadata": {
        "colab": {
          "base_uri": "https://localhost:8080/"
        },
        "id": "6xpWHcy6laYk",
        "outputId": "21b21fba-c844-4e88-a8ba-c0d96867b2f8"
      },
      "execution_count": null,
      "outputs": [
        {
          "output_type": "stream",
          "name": "stdout",
          "text": [
            "WHILE\n",
            "\n",
            "1 º módulo ..................................................\n",
            "Cadastre o gênero M/F: m\n",
            "Cadastre sua idade: 25\n",
            "Cadastre o gênero M/F: f\n",
            "Cadastre sua idade: 26\n",
            "Há 1 mulher(es) e 1 homem(ns).\n",
            "A média de idade é de: 25.50 anos.\n",
            "2 º módulo ..................................................\n",
            "Cadastre o gênero M/F: m\n",
            "Cadastre sua idade: 14\n",
            "Cadastre o gênero M/F: m\n",
            "Cadastre sua idade: 25\n",
            "Há 0 mulher(es) e 2 homem(ns).\n",
            "A média de idade é de: 19.50 anos.\n",
            "No total em 6 módulos, tem-se 3 homens e 1 mulheres.\n",
            "No total em 6 módulos, tem-se uma média de idade de 22.5 anos.\n"
          ]
        }
      ]
    },
    {
      "cell_type": "code",
      "source": [
        "print('FOR\\n')\n",
        "\n",
        "total_masc = 0\n",
        "total_fem = 0\n",
        "total_media = 0\n",
        "\n",
        "for modulo in range (6):\n",
        "    print(modulo,'º módulo','.'*50)\n",
        "    q_fem = 0\n",
        "    q_masc = 0\n",
        "    somaid = 0\n",
        "    for aluno in range (30):\n",
        "        genero = input('Cadastre o gênero M/F: ')\n",
        "        idade = int(input('Cadastre sua idade: '))\n",
        "        if genero == 'F' or genero == 'f':\n",
        "            q_fem = q_fem + 1\n",
        "            total_fem = total_fem + 1\n",
        "        elif genero == 'M' or genero == 'm':\n",
        "            q_masc = q_masc + 1\n",
        "            total_masc = total_masc + 1\n",
        "        somaid = somaid + idade\n",
        "        media = somaid / aluno\n",
        "    total_media = (total_media + media) / modulo\n",
        "    print(f'Há {q_fem} mulher(es) e {q_masc} homem(ns).')\n",
        "    print(f'A média de idade é de: {media:.2f} anos.')\n",
        "print(f'No total em 6 módulos, tem-se {total_masc} homens e {total_fem} mulheres.')\n",
        "print(f'No total em 6 módulos, tem-se uma média de idade de {total_media} anos.')"
      ],
      "metadata": {
        "id": "eGV7Q4dWIl5f"
      },
      "execution_count": null,
      "outputs": []
    }
  ]
}