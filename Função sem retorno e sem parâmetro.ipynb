{
  "nbformat": 4,
  "nbformat_minor": 0,
  "metadata": {
    "colab": {
      "provenance": [],
      "include_colab_link": true
    },
    "kernelspec": {
      "name": "python3",
      "display_name": "Python 3"
    }
  },
  "cells": [
    {
      "cell_type": "markdown",
      "metadata": {
        "id": "view-in-github",
        "colab_type": "text"
      },
      "source": [
        "<a href=\"https://colab.research.google.com/github/jjgirotto/exercizes-python/blob/main/Funcao%20sem%20parametro%20e%20sem%20retorno.ipynb\" target=\"_parent\"><img src=\"https://colab.research.google.com/assets/colab-badge.svg\" alt=\"Open In Colab\"/></a>"
      ]
    },
    {
      "cell_type": "markdown",
      "source": [
        "### 1.0 (Função sem retorno sem parâmetro) Faça um programa contendo uma função/método que leia um número e o multiplique por 2. Apresente o resultado. EXEMPLO."
      ],
      "metadata": {
        "id": "M5n5-Zgkjfq_"
      }
    },
    {
      "cell_type": "code",
      "source": [
        "def multiplicar(): # definição da função\n",
        "    numero = int(input('Digite um número: '))\n",
        "    resultado = numero * 2\n",
        "    print('O resultado é', resultado)\n",
        "\n",
        "multiplicar()"
      ],
      "metadata": {
        "id": "xPwnHKnifEU5",
        "colab": {
          "base_uri": "https://localhost:8080/"
        },
        "outputId": "8b332e23-6a93-415d-8338-9dda4cda44d1"
      },
      "execution_count": null,
      "outputs": [
        {
          "output_type": "stream",
          "name": "stdout",
          "text": [
            "Digite um número: 2\n",
            "O resultado é 4\n"
          ]
        }
      ]
    },
    {
      "cell_type": "code",
      "source": [
        "def multiplicar(): # definição da função\n",
        "    numero = int(input('Digite um número: '))\n",
        "    resultado = numero * 2\n",
        "    print('O resultado é', resultado)\n",
        "\n",
        "def main(): # chamar a função multiplicar, ou seja, é o executável\n",
        "    multiplicar()\n",
        "\n",
        "main() # É uma boa prática implementar a função main"
      ],
      "metadata": {
        "id": "RrpM-SW6fluC",
        "colab": {
          "base_uri": "https://localhost:8080/"
        },
        "outputId": "f8f83cd9-4244-45a9-f28a-ff1234ab99f7"
      },
      "execution_count": null,
      "outputs": [
        {
          "output_type": "stream",
          "name": "stdout",
          "text": [
            "Digite um número: 4\n",
            "O resultado é 8\n"
          ]
        }
      ]
    },
    {
      "cell_type": "markdown",
      "metadata": {
        "id": "skN-Wz61xZzi"
      },
      "source": [
        "### 1.1 (Função sem retorno sem parâmetro) Faça um programa contendo uma função/método que apresente o valor 1 se o número digitado for positivo e 0 se for negativo."
      ]
    },
    {
      "cell_type": "code",
      "source": [
        "def positivo_ou_negativo():\n",
        "    numero = int(input('Digite um número: '))\n",
        "    if numero > 0:\n",
        "        print(1)\n",
        "    elif numero < 0:\n",
        "        print(0)\n",
        "    else:\n",
        "        print('O número digitado é neutro, ou seja, zero.')\n",
        "\n",
        "def main():\n",
        "    positivo_ou_negativo()\n",
        "\n",
        "main()"
      ],
      "metadata": {
        "id": "MDtE7mKPyXqE",
        "colab": {
          "base_uri": "https://localhost:8080/"
        },
        "outputId": "81019a1c-f6f9-40fb-e053-fb14593c4967"
      },
      "execution_count": null,
      "outputs": [
        {
          "name": "stdout",
          "output_type": "stream",
          "text": [
            "Digite um número: 0\n"
          ]
        }
      ]
    },
    {
      "cell_type": "markdown",
      "metadata": {
        "id": "0jPoba3-yLnG"
      },
      "source": [
        "### 2. (Função sem retorno sem parâmetro) Faça uma função/método que leia dois valores positivos e apresente a soma dos N números existentes entre eles (inclusive).\n",
        "    Exemplo:\n",
        "        a = 2\n",
        "        b = 8\n",
        "        2 + 3 + 4 + 5 + 6 + 7 + 8\n",
        "        soma = 35"
      ]
    },
    {
      "cell_type": "code",
      "metadata": {
        "id": "UHD2oMlJyLzc",
        "colab": {
          "base_uri": "https://localhost:8080/"
        },
        "outputId": "0704362b-1745-4a80-b307-69f0dbeced1c"
      },
      "source": [
        "def somar():\n",
        "    a = int(input('Digite o primeiro número: '))\n",
        "    b = int(input('Digite o segundo número: '))\n",
        "    if a > b:\n",
        "        auxiliar = a\n",
        "        a = b\n",
        "        b = auxiliar\n",
        "    soma = 0\n",
        "    for i in range(a, b+1):\n",
        "        soma += i\n",
        "    print('A soma é de', soma)\n",
        "\n",
        "def main():\n",
        "    somar()\n",
        "\n",
        "main()"
      ],
      "execution_count": null,
      "outputs": [
        {
          "output_type": "stream",
          "name": "stdout",
          "text": [
            "Digite o primeiro número: 0\n",
            "Digite o segundo número: 5\n",
            "A soma é de 15\n"
          ]
        }
      ]
    },
    {
      "cell_type": "markdown",
      "metadata": {
        "id": "HAz_eYfhzg06"
      },
      "source": [
        "### 3. (Função sem retorno sem parâmetro) Faça uma função/método que receba três números inteiros *a*, *b*, *c* que sejam divisíveis por ***a***. Os valores *b* e *c* representam o intervalo da estrutura de repetição. Apresente a quantidade e os números divisíveis. Não pode usar vetor e função pronta da linguagem Python.\n",
        "    Exemplo:\n",
        "        a = 5\n",
        "        b = 1\n",
        "        c = 10\n",
        "        1 % a\n",
        "        2 % a\n",
        "        3 % a\n",
        "        4 % a\n",
        "        5 % a este valor é divisível\n",
        "        6 % a\n",
        "        7\n",
        "        8\n",
        "        9\n",
        "        10 % a este valor é divisível\n",
        "        qtde = 2\n"
      ]
    },
    {
      "cell_type": "code",
      "metadata": {
        "id": "Cg-NIjInzfmU",
        "colab": {
          "base_uri": "https://localhost:8080/"
        },
        "outputId": "84bf91c9-0ea9-4288-9f3d-d1bb29ce7a51"
      },
      "source": [
        "def e_divisivel():\n",
        "    a = int(input('Digite o primeiro número: '))\n",
        "    b = int(input('Digite o segundo número: '))\n",
        "    c = int(input('Digite o terceiro número: '))\n",
        "    if b > c:\n",
        "        auxiliar = b\n",
        "        b = c\n",
        "        c = auxiliar\n",
        "    qtde = 0\n",
        "    if a == 0:\n",
        "        print('O primeiro número não pode ser zero.')\n",
        "    else:\n",
        "        for i in range(b,c+1):\n",
        "            if i % a == 0:\n",
        "                qtde += 1\n",
        "                print(f'O número {i} é divisível.')\n",
        "        print(f'A quantidade de números divisíveis por {a} é igual a {qtde}.')\n",
        "\n",
        "def main():\n",
        "    e_divisivel()\n",
        "\n",
        "main()"
      ],
      "execution_count": null,
      "outputs": [
        {
          "output_type": "stream",
          "name": "stdout",
          "text": [
            "Digite o primeiro número: 2\n",
            "Digite o segundo número: 0\n",
            "Digite o terceiro número: 10\n",
            "O número 0 é divisível.\n",
            "O número 2 é divisível.\n",
            "O número 4 é divisível.\n",
            "O número 6 é divisível.\n",
            "O número 8 é divisível.\n",
            "O número 10 é divisível.\n",
            "A quantidade de números divisíveis por 2 é igual a 6.\n"
          ]
        }
      ]
    },
    {
      "cell_type": "markdown",
      "metadata": {
        "id": "_aPd4c1b3OjS"
      },
      "source": [
        "### 4. (Função sem retorno sem parâmetro) Faça uma função/método que leia um único valor representado em segundos, converta-o e apresente o resultado em horas, minutos e segundos.\n",
        "    h = segundos / 3600\n",
        "    r = resto(segundos / 3600)\n",
        "    m = r / 60\n",
        "    s = resto(r / 60)\n",
        "    Observação 1: resto de uma divisão em Python %.\n",
        "    Observação 2: a hora, o minuto e o segundo devem ser apresentados como números inteiros."
      ]
    },
    {
      "cell_type": "code",
      "metadata": {
        "id": "Q6LPIy_LCQuO",
        "colab": {
          "base_uri": "https://localhost:8080/"
        },
        "outputId": "9d78669a-5ce6-4d9b-e81b-ce2adfd872ce"
      },
      "source": [
        "def converter():\n",
        "    tempo_s = int(input('Digite o tempo em segundos: '))\n",
        "    tempo_hora = tempo_s // 3600\n",
        "    r = tempo_s % 3600\n",
        "    tempo_min = r // 60\n",
        "    tempo_segundos = r % 60\n",
        "    print(f'São {tempo_hora} hora(s), {tempo_min} minuto(s) e {tempo_segundos} segundos.')\n",
        "\n",
        "def main():\n",
        "    converter()\n",
        "\n",
        "main()"
      ],
      "execution_count": null,
      "outputs": [
        {
          "output_type": "stream",
          "name": "stdout",
          "text": [
            "Digite o tempo em segundos: 985\n",
            "São 0 hora(s), 16 minuto(s) e 25 segundos.\n"
          ]
        }
      ]
    },
    {
      "cell_type": "markdown",
      "metadata": {
        "id": "JgYwP3n1CQ_U"
      },
      "source": [
        "### 5. (Função sem retorno sem parâmetro) Faça uma função/método que receba o preço antigo e atual de um produto, determine o percentual de acréscimo entre esses valores e apresente-o.\n",
        "    r = (100 * preco_novo - 100 * preco_antigo) / preco_antigo"
      ]
    },
    {
      "cell_type": "code",
      "metadata": {
        "id": "fb6TwQ_yh_To",
        "colab": {
          "base_uri": "https://localhost:8080/"
        },
        "outputId": "29d05535-cbf1-4e87-f791-4ce3cc84b1d3"
      },
      "source": [
        "def calcular_acrescimo():\n",
        "    preco_antigo = float(input('Digite o preço antigo do produto: '))\n",
        "    preco_atual = float(input('Digite o preço atual do produto: '))\n",
        "    acrescimo = (preco_atual - preco_antigo) * 100 / preco_antigo\n",
        "    print(f'O percentual de acréscimo entre os valores é de {acrescimo}%.')\n",
        "\n",
        "def main():\n",
        "    calcular_acrescimo()\n",
        "\n",
        "main()"
      ],
      "execution_count": null,
      "outputs": [
        {
          "output_type": "stream",
          "name": "stdout",
          "text": [
            "Digite o preço antigo do produto: 3\n",
            "Digite o preço atual do produto: 4.5\n",
            "O percentual de acréscimo entre os valores é de 50.0%.\n"
          ]
        }
      ]
    },
    {
      "cell_type": "markdown",
      "metadata": {
        "id": "fZNXRUrrh_g9"
      },
      "source": [
        "### 6. (Função sem retorno sem parâmetro) Faça uma função/método que leia um valor inteiro entre 1 e 9 e mostre a seguinte tabela de **multiplicação**\n",
        "Neste exemplo foi escolhido o número 9.\n",
        "\n",
        "    1    \n",
        "    2     4\n",
        "    3     6     9\n",
        "    4     8    12    16\n",
        "    5    10    15    20    25\n",
        "    6    12    18    24    30    36\n",
        "    7    14    21    28    35    42    49\n",
        "    8    16    24    32    40    48    56    64   \n",
        "    9    18    27    36    45    54    63    72    81\n",
        "    for i = 1 até n\n",
        "       for j = 1 até i\n",
        "       \n",
        "    Observação: configure o print para não pular linha, use o parâmetro end."
      ]
    },
    {
      "cell_type": "code",
      "metadata": {
        "id": "qA3MK3i1lJ-B",
        "colab": {
          "base_uri": "https://localhost:8080/"
        },
        "outputId": "43753514-52bd-40ba-9194-d5243c886fe3"
      },
      "source": [
        "def tabela_multiplicacao():\n",
        "    n = int(input('Digite um valor de 1 a 9: '))\n",
        "    if n >= 1 and n <= 9:\n",
        "        for i in range(1, n+1):\n",
        "            print()\n",
        "            for j in range(1, i+1):\n",
        "                print(i * j, end = '\\t')\n",
        "    else:\n",
        "        print('O valor digitado deve estar entre 1 e 9.')\n",
        "\n",
        "def main():\n",
        "    tabela_multiplicacao()\n",
        "\n",
        "main()"
      ],
      "execution_count": null,
      "outputs": [
        {
          "output_type": "stream",
          "name": "stdout",
          "text": [
            "Digite um valor de 1 a 9: 9\n",
            "\n",
            "1\t\n",
            "2\t4\t\n",
            "3\t6\t9\t\n",
            "4\t8\t12\t16\t\n",
            "5\t10\t15\t20\t25\t\n",
            "6\t12\t18\t24\t30\t36\t\n",
            "7\t14\t21\t28\t35\t42\t49\t\n",
            "8\t16\t24\t32\t40\t48\t56\t64\t\n",
            "9\t18\t27\t36\t45\t54\t63\t72\t81\t"
          ]
        }
      ]
    },
    {
      "cell_type": "markdown",
      "metadata": {
        "id": "qC3ghcOalLBi"
      },
      "source": [
        "### 7. (Função sem retorno sem parâmetro) Faça uma função/método que leia três notas de um aluno e uma letra, se a letra for igual a *A*, deverá calcular a média aritimética das notas dos alunos, se for *P*, deverá calcular a média ponderada, com pesos 5, 3 e 2. A média deve ser mostrada ao final.\n",
        "N1, N2 e N3 são notas.\n",
        "\n",
        "P1, P2 e P3 são pesos.\n",
        "\n",
        "Média ponderada = (N1 * P1 + N2 * P2 + N3 * P3 ) / (P1 + P2 + P3)"
      ]
    },
    {
      "cell_type": "code",
      "metadata": {
        "id": "73QPAAO0q2Wo",
        "colab": {
          "base_uri": "https://localhost:8080/"
        },
        "outputId": "8479f07c-007e-4d8c-b33b-a6f544e6300d"
      },
      "source": [
        "def calcular_media():\n",
        "    nota1 = float(input('Digite a primeira nota: '))\n",
        "    nota2 = float(input('Digite a segunda nota: '))\n",
        "    nota3 = float(input('Digite a terceira nota: '))\n",
        "    letra = input('Digite A para média aritmética e P para média ponderada: ')\n",
        "    if len(letra) != 1:\n",
        "        print('Deve ser digitada apenas uma letra, \"A\" ou \"P\".')\n",
        "    else:\n",
        "        if letra == 'A' or letra == 'a':\n",
        "            media = (nota1 + nota2 + nota3) / 3\n",
        "            print(f'A média é {media:.2f}.')\n",
        "        elif letra == 'P' or letra == 'p':\n",
        "            media = (nota1 * 5 + nota2 * 3 + nota3 * 2) / (5 + 3 + 2)\n",
        "            print(f'A média é {media:.2f}.')\n",
        "        else:\n",
        "            print('Digite uma letra válida.')\n",
        "\n",
        "def main():\n",
        "    calcular_media()\n",
        "\n",
        "main()"
      ],
      "execution_count": null,
      "outputs": [
        {
          "output_type": "stream",
          "name": "stdout",
          "text": [
            "Digite a primeira nota: 3\n",
            "Digite a segunda nota: 6\n",
            "Digite a terceira nota: 9\n",
            "Digite A para média aritmética e P para média ponderada: ab\n",
            "Deve ser digitada apenas uma letra, \"A\" ou \"P\".\n"
          ]
        }
      ]
    },
    {
      "cell_type": "markdown",
      "metadata": {
        "id": "Go_7xqNQq2oY"
      },
      "source": [
        "### 8. (Função sem retorno sem parâmetro) Faça uma função/método que leia uma hora de início e de término de um jogo, ambas divididas em dois valores distintos: hora e minuto. Deverá ser apresentado a duração expressa em minutos, considerando que o tempo máximo de duração de um jogo é de 24 horas e que ele pode começar em um dia e terminar no outro.\n",
        "    se m_f < m_i\n",
        "        m_f = m_f + 60\n",
        "        h_f = h_f - 1\n",
        "    se h_f < h_i\n",
        "        h_f = h_f + 24\n",
        "    tot_m = m_f - m_i\n",
        "    tot_h = h_f - h_i\n",
        "    total = tot_h * 60 + tot_m"
      ]
    },
    {
      "cell_type": "code",
      "metadata": {
        "id": "BgfVTL9-0WQi",
        "colab": {
          "base_uri": "https://localhost:8080/"
        },
        "outputId": "b9c2bbcb-4b60-4212-9502-1d63813f5637"
      },
      "source": [
        "def calcular_tempo():\n",
        "    hora_inicio = int(input('Digite a hora de início: '))\n",
        "    min_inicio = int(input('Digite o minuto de início: '))\n",
        "    hora_final = int(input('Digite a hora de término: '))\n",
        "    min_final = int(input('Digite o minuto de término: '))\n",
        "    if min_final < min_inicio:\n",
        "        min_final += 60\n",
        "        hora_final -= 1\n",
        "    elif hora_final < hora_inicio:\n",
        "        hora_final += 24\n",
        "    total_min = min_final - min_inicio\n",
        "    total_hora = hora_final - hora_inicio\n",
        "    total = total_hora * 60 + total_min\n",
        "    print(f'Duração: {total} minutos.')\n",
        "\n",
        "def main():\n",
        "    calcular_tempo()\n",
        "\n",
        "main()"
      ],
      "execution_count": null,
      "outputs": [
        {
          "output_type": "stream",
          "name": "stdout",
          "text": [
            "Digite a hora de início: 23\n",
            "Digite o minuto de início: 50\n",
            "Digite a hora de término: 2\n",
            "Digite o minuto de término: 50\n",
            "Duração: 180 minutos.\n"
          ]
        }
      ]
    },
    {
      "cell_type": "markdown",
      "metadata": {
        "id": "IGOQmdAe0myM"
      },
      "source": [
        "### 9. (Função sem retorno sem parâmetro) Faça uma função/método que leia cinco valores inteiros, determine e mostre o maior e o menor deles. Não pode usar vetor e função pronta da linguagem Python."
      ]
    },
    {
      "cell_type": "code",
      "metadata": {
        "id": "A4-CekXy0vrz",
        "colab": {
          "base_uri": "https://localhost:8080/"
        },
        "outputId": "b111356a-7a35-4b9b-d4f4-0b2bfa73079e"
      },
      "source": [
        "def definir_maior_menor():\n",
        "    for i in range(5):\n",
        "        valor = int(input('Digite um número inteiro: '))\n",
        "        if i == 0:\n",
        "            maior = valor\n",
        "            menor = valor\n",
        "        if valor > maior:\n",
        "            maior = valor\n",
        "        if valor < menor:\n",
        "            menor = valor\n",
        "    print(f'O maior valor é {maior} e o menor, é {menor}.')\n",
        "\n",
        "def main():\n",
        "    definir_maior_menor()\n",
        "\n",
        "main()"
      ],
      "execution_count": null,
      "outputs": [
        {
          "output_type": "stream",
          "name": "stdout",
          "text": [
            "Digite um número inteiro: 5\n",
            "Digite um número inteiro: 3\n",
            "Digite um número inteiro: 6\n",
            "Digite um número inteiro: 9\n",
            "Digite um número inteiro: 1\n",
            "O maior valor é 9 e o menor, é 1.\n"
          ]
        }
      ]
    },
    {
      "cell_type": "markdown",
      "metadata": {
        "id": "W2PqWZm20v6M"
      },
      "source": [
        "### 10. (Função sem retorno sem parâmetro) Faça uma função/método que leia um valor inteiro e positivo N e mostre o valor de S, obtido pelo seguinte cálculo:\n",
        "###S = 1  +  1/1!  +  1/2!  +  1/3!  + ... +  1/N!\n",
        "\n",
        "Observvação: Não pode usar vetor e função pronta da linguagem Python."
      ]
    },
    {
      "cell_type": "code",
      "metadata": {
        "id": "U9eTKxuz1c7S",
        "colab": {
          "base_uri": "https://localhost:8080/"
        },
        "outputId": "5667eb9f-981b-4b1d-b602-69d85e35e2bd"
      },
      "source": [
        "# Digite seu código aqui.\n",
        "# S = 1\n",
        "# S = 1 + 1 + 1/2! + 1/3 + 1/4!\n",
        "# S = 1 + 1 + 0.5 + 0.16 + 0.041\n",
        "# S = 2.66 + 0.041 = 2.708333\n",
        "# 3! = 3 * 2 * 1 = 6\n",
        "# 4! = 1 * 2 * 3 * 4 = 24    1/4!   1/24  = 0.041\n",
        "\n",
        "def calcular_s():\n",
        "    n = int(input('Informe o valor de N termos: '))\n",
        "    if n > 0:\n",
        "        s = 1\n",
        "        for i in range(1,n+1):\n",
        "            fatorial = 1\n",
        "            for j in range(1,i+1):\n",
        "                fatorial *= j\n",
        "            s += 1/fatorial\n",
        "        print(f'O valor de \"s\" é de {s:.2f}.')\n",
        "    else:\n",
        "        print('Digite um valor de \"N\" positivo.')\n",
        "\n",
        "def main():\n",
        "    calcular_s()\n",
        "\n",
        "main()"
      ],
      "execution_count": null,
      "outputs": [
        {
          "output_type": "stream",
          "name": "stdout",
          "text": [
            "Informe o valor de N termos: 6\n",
            "O valor de \"s\" é de 2.72.\n"
          ]
        }
      ]
    }
  ]
}
