{
  "cells": [
    {
      "cell_type": "markdown",
      "metadata": {
        "id": "view-in-github",
        "colab_type": "text"
      },
      "source": [
        "<a href=\"https://colab.research.google.com/github/jjgirotto/exercizes-python/blob/main/Arquivos.ipynb\" target=\"_parent\"><img src=\"https://colab.research.google.com/assets/colab-badge.svg\" alt=\"Open In Colab\"/></a>"
      ]
    },
    {
      "cell_type": "code",
      "source": [
        "arquivo = open('numeros.txt', 'w')\n",
        "for linha in range (59,70):\n",
        "    arquivo.write(f'Dia 2 é feriado {linha}\\n')\n",
        "arquivo.close()"
      ],
      "metadata": {
        "id": "OU9onP4TU5xp"
      },
      "execution_count": null,
      "outputs": []
    },
    {
      "cell_type": "code",
      "source": [
        "arquivo = open('numeros.txt', 'r')\n",
        "for linha in arquivo.readlines():\n",
        "    print(linha)\n",
        "arquivo.close()"
      ],
      "metadata": {
        "id": "XipYYg22VT2a"
      },
      "execution_count": null,
      "outputs": []
    },
    {
      "cell_type": "code",
      "source": [
        "impares = open('impares.txt', 'a')\n",
        "pares = open('pares.txt', 'a')\n",
        "for n in range(1,10):\n",
        "    if n % 2 == 0:\n",
        "        pares.write(f'{n}\\n')\n",
        "    else:\n",
        "        impares.write(f'{n}\\n')\n",
        "impares.close()\n",
        "pares.close()"
      ],
      "metadata": {
        "id": "bJDjLBtZXMMd"
      },
      "execution_count": null,
      "outputs": []
    },
    {
      "cell_type": "code",
      "execution_count": null,
      "metadata": {
        "id": "SJoniFlLKCQw"
      },
      "outputs": [],
      "source": [
        "class TipoFuncionario:\n",
        "    matricula = 0\n",
        "    nome = ''\n",
        "    salario = 0.0\n",
        "\n",
        "def Cadastrar():\n",
        "    arquivo = open('arq_Funcionario.txt', 'a')\n",
        "    print('Cadastro de Funcionários.........................')\n",
        "    for i in range(3):\n",
        "        f = TipoFuncionario()\n",
        "        f.matricula = int(input('Digite a matrícula: '))\n",
        "        f.nome = input('Digite o nome: ')\n",
        "        f.salario = float(input('Digite o salário: '))\n",
        "        arquivo.write(f'{f.matricula};{f.nome};{f.salario:.2f}\\n')\n",
        "        #ou\n",
        "        #arquivo.write('%d %s %.2f\\n' % (f.matricula, f.nome, f.salario))\n",
        "    arquivo.close()\n",
        "\n",
        "def Mostrar():\n",
        "    arquivo = open('arq_Funcionario.txt', 'r')\n",
        "    print('Apresentação dos dados dos funcionários .........')\n",
        "    print('Matrícula\\tNome\\tSalário')\n",
        "    for linha in arquivo.readlines():\n",
        "        # o caracter que está na função write() do arquivo DEVE\n",
        "        # SER O MESMO no argumento da função split\n",
        "        mat, nome, sal = linha.strip().split(\";\")\n",
        "        print(mat,'\\t\\t',nome,'\\t',sal)\n",
        "    arquivo.close()\n",
        "\n",
        "def main():\n",
        "    op = 1\n",
        "    while op >=1 and op <= 2:\n",
        "        print('*** Gerenciamento de Funcionários COM ARQUIVO ***')\n",
        "        print('1- Cadastrar')\n",
        "        print('2- Mostrar')\n",
        "        print('3- Sair')\n",
        "        op = int(input('Digite a opção: '))\n",
        "        if op == 1:\n",
        "            Cadastrar()\n",
        "        elif op == 2:\n",
        "            Mostrar()\n",
        "main()"
      ]
    },
    {
      "cell_type": "markdown",
      "metadata": {
        "id": "skN-Wz61xZzi"
      },
      "source": [
        "### 1. Elabore uma estrutura para representar e armazenar 10 fornecedores (código, nome, endereco). Utilize os recursos de arquivo para armazenar estes dados permanentemente. O nome do arquivo deve ser o mesmo da estrutura. Construa um menu com as seguintes opções, cada uma delas deve ter uma função e a main para chamar todas elas.\n",
        "\n",
        "Menu de opções:\n",
        "1. Cadastrar fornecedores\n",
        "2. Visualizar todos os dados\n",
        "3. Sair\n"
      ]
    },
    {
      "cell_type": "code",
      "execution_count": null,
      "metadata": {
        "id": "Wbjafj_QxWP-"
      },
      "outputs": [],
      "source": [
        "class Fornecedor:\n",
        "    codigo = 0\n",
        "    nome = ''\n",
        "    endereco = ''\n",
        "\n",
        "def menu():\n",
        "    print('\\nMENU\\n1- Cadastrar fornecedores\\n2 - Visualizar todos os dados\\n3 - Sair.\\n')\n",
        "    op = int(input('Digite a opção: '))\n",
        "    return op\n",
        "\n",
        "def cadastrar():\n",
        "    arquivo = open('fornecedores.txt', 'w')\n",
        "    for linha in range(10):\n",
        "        f = Fornecedor()\n",
        "        f.codigo = int(input('Digite o código do fornecedor: '))\n",
        "        f.nome = input('Digite o nome do fornecedor: ')\n",
        "        f.endereco = input('Digite o endereço do fornecedor: ')\n",
        "        arquivo.write(f'{f.codigo};{f.nome};{f.endereco}\\n')\n",
        "        print('Cadastro realizado com sucesso!')\n",
        "    arquivo.close()\n",
        "\n",
        "def visualizar():\n",
        "    try:\n",
        "        arquivo = open('fornecedores.txt', 'r')\n",
        "        print('Apresentação de fornecedores')\n",
        "        print('Código\\tNome\\tEndereço')\n",
        "        for linha in arquivo.readlines():\n",
        "            codigo, nome, endereco = linha.strip().split(\";\")\n",
        "            print(f'{codigo}\\t{nome}\\t{endereco}')\n",
        "        arquivo.close()\n",
        "    except FileNotFoundError:\n",
        "        print('O arquivo está vazio.')\n",
        "\n",
        "def main():\n",
        "    opcao = menu()\n",
        "    while opcao >= 1 and opcao <=2:\n",
        "        if opcao == 1:\n",
        "            cadastrar()\n",
        "        elif opcao == 2:\n",
        "            visualizar()\n",
        "        opcao = menu()\n",
        "\n",
        "main()"
      ]
    },
    {
      "cell_type": "markdown",
      "metadata": {
        "id": "0jPoba3-yLnG"
      },
      "source": [
        "### 2. Elabore uma estrutura para representar e armazenar 10 produtos (código, nome, preço). Utilize os recursos de arquivo para armazenar estes dados permanentemente. O nome do arquivo deve ser o mesmo da estrutura. Construa um menu com as seguintes opções, cada uma delas deve ter uma função e a main para chamar todas elas.\n",
        "\n",
        "Menu de opções:\n",
        "1. Cadastrar produtos\n",
        "2. Visualizar todos os dados\n",
        "3. Sair"
      ]
    },
    {
      "cell_type": "code",
      "execution_count": null,
      "metadata": {
        "id": "U--JD-UVAZ_4"
      },
      "outputs": [],
      "source": [
        "class Produto:\n",
        "    codigo = 0\n",
        "    nome = ''\n",
        "    preco = 0.0\n",
        "\n",
        "def menu():\n",
        "    print('\\nMENU\\n1- Cadastrar produtos\\n2 - Visualizar todos os dados\\n3 - Sair.\\n')\n",
        "    op = int(input('Digite a opção: '))\n",
        "    return op\n",
        "\n",
        "def cadastrar():\n",
        "    arquivo = open('produto.txt', 'w')\n",
        "    for linha in range(10):\n",
        "        p = Produto()\n",
        "        p.codigo = int(input('Digite o código do produto: '))\n",
        "        p.nome = input('Digite o nome do produto: ')\n",
        "        p.preco = float(input('Digite o preço do produto: '))\n",
        "        arquivo.write(f'{p.codigo};{p.nome};{p.preco}\\n')\n",
        "        print('Cadastro realizado com sucesso!')\n",
        "    arquivo.close()\n",
        "\n",
        "def visualizar():\n",
        "    try:\n",
        "        arquivo = open('produto.txt', 'r')\n",
        "        print('Apresentação de produtos')\n",
        "        print('Código\\tNome\\tPreço')\n",
        "        for linha in arquivo.readlines():\n",
        "            codigo, nome, preco = linha.strip().split(\";\")\n",
        "            print(f'{codigo}\\t{nome}\\t{preco}')\n",
        "        arquivo.close()\n",
        "    except FileNotFoundError:\n",
        "        print('O arquivo está vazio.')\n",
        "\n",
        "def main():\n",
        "    opcao = menu()\n",
        "    while opcao >= 1 and opcao <=2:\n",
        "        if opcao == 1:\n",
        "            cadastrar()\n",
        "        elif opcao == 2:\n",
        "            visualizar()\n",
        "        opcao = menu()\n",
        "\n",
        "main()"
      ]
    },
    {
      "cell_type": "markdown",
      "metadata": {
        "id": "7qLNzo1C_7K5"
      },
      "source": [
        "### 3. Elabore uma estrutura para representar e armazenar 10 alunos (matricula, nome, telefone). Utilize os recursos de arquivo para armazenar estes dados permanentemente. O nome do arquivo deve ser o mesmo da estrutura. Construa um menu com as seguintes opções, cada uma delas deve ter uma função e a main para chamar todas elas.\n",
        "\n",
        "Menu de opções:\n",
        "1. Cadastrar alunos\n",
        "2. Visualizar todos os dados\n",
        "3. Sair\n"
      ]
    },
    {
      "cell_type": "code",
      "execution_count": null,
      "metadata": {
        "id": "UHD2oMlJyLzc"
      },
      "outputs": [],
      "source": [
        "class Aluno:\n",
        "    matricula = 0\n",
        "    nome = ''\n",
        "    telefone = 0\n",
        "\n",
        "def menu():\n",
        "    print('\\nMENU\\n1- Cadastrar alunos\\n2 - Visualizar todos os dados\\n3 - Sair.\\n')\n",
        "    op = int(input('Digite a opção: '))\n",
        "    return op\n",
        "\n",
        "def cadastrar():\n",
        "    arquivo = open('aluno.txt', 'w')\n",
        "    for linha in range(10):\n",
        "        a = Aluno()\n",
        "        a.matricula = int(input('Digite a matrícula do aluno: '))\n",
        "        a.nome = input('Digite o nome do aluno: ')\n",
        "        a.telefone = int(input('Digite o telefone do aluno: '))\n",
        "        arquivo.write(f'{a.matricula};{a.nome};{a.telefone}\\n')\n",
        "        print('Cadastro realizado com sucesso!')\n",
        "    arquivo.close()\n",
        "\n",
        "def visualizar():\n",
        "    try:\n",
        "        arquivo = open('aluno.txt', 'r')\n",
        "        print('Apresentação de alunos')\n",
        "        print('Matrícula\\tNome\\tTelefone')\n",
        "        for linha in arquivo.readlines():\n",
        "            matricula, nome, telefone = linha.strip().split(\";\")\n",
        "            print(f'{matricula}\\t\\t{nome}\\t{telefone}')\n",
        "        arquivo.close()\n",
        "    except FileNotFoundError:\n",
        "        print('O arquivo está vazio.')\n",
        "\n",
        "def main():\n",
        "    opcao = menu()\n",
        "    while opcao >= 1 and opcao <=2:\n",
        "        if opcao == 1:\n",
        "            cadastrar()\n",
        "        elif opcao == 2:\n",
        "            visualizar()\n",
        "        opcao = menu()\n",
        "\n",
        "main()"
      ]
    },
    {
      "cell_type": "markdown",
      "metadata": {
        "id": "4zGuLRRXt0D_"
      },
      "source": [
        "### 4. Baixe o arquivo futebol.txt que esta na pasta Material do aula do Teams. Leia este arquivo e o apresente. Com os dados lidos, armazene na estrutura Futebol (posicao_jogo, altura, peso, imc), calcule o IMC (Índice de Massa Corporal), armazene na estrutura e também em outro arquivo, mas agora chamado futebol_imc.txt. Apresente este novo arquivo.\n",
        "Observação: esse exercício deve ser carregado o arquivo futebol.txt, aqui no Colab, no menu (ícone pasta) do lado esquerdo, que estará disponível no Classroom."
      ]
    },
    {
      "cell_type": "code",
      "execution_count": null,
      "metadata": {
        "id": "nU0x1v2Vt1-w",
        "colab": {
          "base_uri": "https://localhost:8080/"
        },
        "outputId": "56a2717e-faaf-4578-89fe-766447525c43"
      },
      "outputs": [
        {
          "output_type": "stream",
          "name": "stdout",
          "text": [
            "Drive already mounted at /content/drive/; to attempt to forcibly remount, call drive.mount(\"/content/drive/\", force_remount=True).\n",
            "..........Apresentação..........\n",
            "Posição        Altura       Peso\n",
            "Zagueiro        1.79        78.0\n",
            "Zagueiro        1.78        85.0\n",
            "Meio campo      1.75        71.1\n",
            "Meio campo      1.81        73.5\n",
            "Meio campo      1.75        73.5\n",
            "Goleiro         1.85        81.0\n",
            "Atacante        1.87        81.7\n",
            "Atacante        1.65        55.5\n",
            "Atacante        1.78        77.9\n",
            "Lateral         1.70        66.0\n",
            "Lateral         1.74        63.7\n",
            "\n",
            "Cadastro de IMC realizado com sucesso!\n",
            "\n",
            "...............Apresentação...............\n",
            "Posição        Altura       Peso     IMC\n",
            "Zagueiro        1.79        78.0    24.34\n",
            "Zagueiro        1.78        85.0    26.83\n",
            "Meio campo      1.75        71.1    23.22\n",
            "Meio campo      1.81        73.5    22.44\n",
            "Meio campo      1.75        73.5    24.00\n",
            "Goleiro         1.85        81.0    23.67\n",
            "Atacante        1.87        81.7    23.36\n",
            "Atacante        1.65        55.5    20.39\n",
            "Atacante        1.78        77.9    24.59\n",
            "Lateral         1.70        66.0    22.84\n",
            "Lateral         1.74        63.7    21.04\n"
          ]
        }
      ],
      "source": [
        "from google.colab import drive\n",
        "drive.mount('/content/drive/')\n",
        "\n",
        "class Futebol:\n",
        "    posicao_jogo = ''\n",
        "    altura = 0.0\n",
        "    peso = 0.0\n",
        "    imc = 0.0\n",
        "\n",
        "def ler_arquivo():\n",
        "    try:\n",
        "        arquivo = open('/content/drive/MyDrive/futebol.txt', 'r')\n",
        "        print('.' *10 + 'Apresentação' + '.' *10)\n",
        "        print('Posição        Altura       Peso')\n",
        "        for linha in arquivo.readlines():\n",
        "            posicao_jogo, altura, peso = linha.strip().split(\",\")\n",
        "            f = Futebol()\n",
        "            f.posicao_jogo = posicao_jogo\n",
        "            f.altura = altura\n",
        "            f.peso = peso\n",
        "            print(f'{posicao_jogo:<10}{altura:>10}{peso:>12}')\n",
        "        arquivo.close()\n",
        "        calcular_imc()\n",
        "    except FileNotFoundError:\n",
        "        print('O arquivo está vazio.')\n",
        "\n",
        "def calcular_imc():\n",
        "    arquivo = open('/content/drive/MyDrive/futebol.txt', 'r')\n",
        "    arquivo_imc = open('futebol_imc.txt', 'w')\n",
        "    for linha in arquivo.readlines():\n",
        "        posicao_jogo, altura, peso = linha.strip().split(\",\")\n",
        "        f = Futebol()\n",
        "        f.imc = (float(peso) / (float(altura) ** 2))\n",
        "        arquivo_imc.write(f'{posicao_jogo},{altura},{peso},{f.imc:.2f}\\n')\n",
        "    arquivo_imc.close()\n",
        "    arquivo.close()\n",
        "    print('\\nCadastro de IMC realizado com sucesso!\\n')\n",
        "    apresentar_imc()\n",
        "\n",
        "def apresentar_imc():\n",
        "    try:\n",
        "        print('.' *15 + 'Apresentação' + '.' *15)\n",
        "        print('Posição        Altura       Peso     IMC')\n",
        "        arquivo_imc = open('futebol_imc.txt', 'r')\n",
        "        for linha in arquivo_imc.readlines():\n",
        "            posicao_jogo, altura, peso, imc = linha.strip().split(\",\")\n",
        "            print(f'{posicao_jogo:<10}{altura:>10}{peso:>12}{imc:>9}')\n",
        "    except FileNotFoundError:\n",
        "        print('O arquivo está vazio.')\n",
        "\n",
        "def main():\n",
        "    ler_arquivo()\n",
        "\n",
        "main()"
      ]
    }
  ],
  "metadata": {
    "colab": {
      "provenance": [],
      "include_colab_link": true
    },
    "kernelspec": {
      "display_name": "Python 3",
      "name": "python3"
    }
  },
  "nbformat": 4,
  "nbformat_minor": 0
}