{
  "nbformat": 4,
  "nbformat_minor": 0,
  "metadata": {
    "colab": {
      "provenance": [],
      "include_colab_link": true
    },
    "kernelspec": {
      "name": "python3",
      "display_name": "Python 3"
    }
  },
  "cells": [
    {
      "cell_type": "markdown",
      "metadata": {
        "id": "view-in-github",
        "colab_type": "text"
      },
      "source": [
        "<a href=\"https://colab.research.google.com/github/jjgirotto/exercizes-python/blob/main/Fun%C3%A7%C3%A3o%20com%20retorno%20e%20com%20par%C3%A2metro.ipynb\" target=\"_parent\"><img src=\"https://colab.research.google.com/assets/colab-badge.svg\" alt=\"Open In Colab\"/></a>"
      ]
    },
    {
      "cell_type": "markdown",
      "metadata": {
        "id": "skN-Wz61xZzi"
      },
      "source": [
        "### 1. (Função com retorno com parâmetro) Faça um programa contendo uma função/método que receba por parâmetro um número e o multiplique por 2, retorne e apresente o resultado da função."
      ]
    },
    {
      "cell_type": "code",
      "source": [
        "def multiplicar(numero):\n",
        "    return numero * 2\n",
        "\n",
        "def multiplicar1(numero):\n",
        "    resultado = numero * 2\n",
        "    return numero, resultado\n",
        "\n",
        "def main():\n",
        "    n = int(input('Informe o valor: '))\n",
        "    print(\"Resultado = \",multiplicar(n))\n",
        "    ############################################\n",
        "    #chamada de uma função que retorna 2 valores\n",
        "    a, b = multiplicar1(n)\n",
        "    print('O número',a,'multiplicado a 2 é igual a',b)\n",
        "\n",
        "main()"
      ],
      "metadata": {
        "id": "G0T6-NaVVafP",
        "colab": {
          "base_uri": "https://localhost:8080/"
        },
        "outputId": "d1e68cd5-ed8a-4815-8dc4-dceb4ea3d6ad"
      },
      "execution_count": null,
      "outputs": [
        {
          "output_type": "stream",
          "name": "stdout",
          "text": [
            "Informe o valor: 8\n",
            "Resultado =  16\n",
            "O número 8 multiplicado a 2 é igual a 16\n"
          ]
        }
      ]
    },
    {
      "cell_type": "markdown",
      "metadata": {
        "id": "0jPoba3-yLnG"
      },
      "source": [
        "### 2. (Função com retorno com parâmetro) Faça um programa contendo uma função/método que receba dois números via parâmetro, some os dois valores, retorne e apresente o resultado."
      ]
    },
    {
      "cell_type": "code",
      "metadata": {
        "id": "UHD2oMlJyLzc",
        "colab": {
          "base_uri": "https://localhost:8080/"
        },
        "outputId": "ab3c7d39-8f01-4884-a6e7-6155570e39af"
      },
      "source": [
        "def somar(n1, n2):\n",
        "    resultado = n1 + n2\n",
        "    return resultado\n",
        "\n",
        "def main():\n",
        "    numero1 = float(input(f'Digite o primeiro valor: '))\n",
        "    numero2 = float(input(f'Digite o segundo valor: '))\n",
        "    print('O resultado da soma é de', somar(numero1, numero2))\n",
        "\n",
        "main()"
      ],
      "execution_count": null,
      "outputs": [
        {
          "output_type": "stream",
          "name": "stdout",
          "text": [
            "Digite o primeiro valor: 4\n",
            "Digite o segundo valor: 5\n",
            "O resultado da soma é de 9.0\n"
          ]
        }
      ]
    },
    {
      "cell_type": "markdown",
      "metadata": {
        "id": "4zGuLRRXt0D_"
      },
      "source": [
        "### 3. (Função com retorno com parâmetro) Faça um programa contendo uma função/método que receba um valor de porcentagem de aumento via parâmetro, aplique este aumento a um salário de um funcionário, retorne e apresente o novo salário."
      ]
    },
    {
      "cell_type": "code",
      "metadata": {
        "id": "nU0x1v2Vt1-w",
        "colab": {
          "base_uri": "https://localhost:8080/"
        },
        "outputId": "410d1619-dc7d-4d5d-9a02-222efec31949"
      },
      "source": [
        "def calcular_aumento(salario, porcentagem):\n",
        "    novo_salario = salario * (1 + porcentagem/100)\n",
        "    return novo_salario\n",
        "\n",
        "def main():\n",
        "    salario = float(input('Digite o seu salário: R$'))\n",
        "    aumento = float(input('Digite a porcentagem de aumento: '))\n",
        "    print(f'O novo salário é de R$ {calcular_aumento(salario, aumento):.2f} reais.')\n",
        "\n",
        "main()"
      ],
      "execution_count": null,
      "outputs": [
        {
          "output_type": "stream",
          "name": "stdout",
          "text": [
            "Digite o seu salário: R$1000\n",
            "Digite a porcentagem de aumento: 10\n",
            "O novo salário é de R$ 1100.00 reais.\n"
          ]
        }
      ]
    },
    {
      "cell_type": "markdown",
      "metadata": {
        "id": "RIGUAKHveTJS"
      },
      "source": [
        "### 4. (Função com retorno com parâmetro) Faça um programa contendo uma função/método que receba duas notas (P1, P2) calcule a média, chame outra função na main que avalie se este aluno esta aprovado ou reprovado retornando a str/string 'Aprovado' ou 'Reprovado'."
      ]
    },
    {
      "cell_type": "code",
      "metadata": {
        "id": "hH2UZstHvFs2",
        "colab": {
          "base_uri": "https://localhost:8080/"
        },
        "outputId": "663e8c8a-dc26-4614-81b4-68ca1b0e4cae"
      },
      "source": [
        "def verificar_aprovacao(media):\n",
        "    if media >= 7:\n",
        "        return 'aprovado'\n",
        "    else:\n",
        "        return 'reprovado'\n",
        "\n",
        "def main():\n",
        "    p1 = float(input('Digite a nota da P1: '))\n",
        "    p2 = float(input('Digite a nota da P2: '))\n",
        "    media = (p1 + p2) / 2\n",
        "    print(f'O aluno está {verificar_aprovacao(media)}.')\n",
        "\n",
        "main()"
      ],
      "execution_count": null,
      "outputs": [
        {
          "output_type": "stream",
          "name": "stdout",
          "text": [
            "Digite a nota da P1: 5\n",
            "Digite a nota da P2: 4\n",
            "O aluno está reprovado.\n"
          ]
        }
      ]
    },
    {
      "cell_type": "markdown",
      "metadata": {
        "id": "hfkLntgNTWN1"
      },
      "source": [
        "### 5. (Função com retorno com parâmetro) Faça um programa contendo uma função/método que receba um valor de porcentagem de aumento e um salário via parâmetro, aplique este aumento ao salário do funcionário. Na parte principal (main) do programa, na chamada da função, utilize um laço de repetição para ler 10 salários, chame a função para aplicar o aumento e gerar o novo salário, ainda dentro da estrutura de repetição acumule os novos salários e ao final apresente quanto será gasto no novo salário. Também apresente qual será a diferença entre o que se pagava para todos os funcionário e o que será pago após o aumento."
      ]
    },
    {
      "cell_type": "code",
      "metadata": {
        "id": "fxdxfiezw8Bs",
        "colab": {
          "base_uri": "https://localhost:8080/"
        },
        "outputId": "203d52fc-954a-44e1-9c8a-19b13fcfd73a"
      },
      "source": [
        "def calcular_aumento(salario, porcentagem):\n",
        "    novo_salario = salario * (1 + porcentagem/100)\n",
        "    return novo_salario\n",
        "\n",
        "def main():\n",
        "    aumento = float(input('Digite a porcentagem de aumento: '))\n",
        "    diferenca = 0\n",
        "    total = 0\n",
        "    antigo_salario = 0\n",
        "    for i in range(5):\n",
        "        salario = float(input('Digite o seu salário: R$'))\n",
        "        antigo_salario += salario\n",
        "        novo_salario = calcular_aumento(salario, aumento)\n",
        "        total += novo_salario\n",
        "    diferenca += (novo_salario - salario)\n",
        "    print(f'No total, com o aumento de {aumento}%, será gasto R${total:.2f} em salários.\\nUma diferença de R${diferenca:.2f} reais.')\n",
        "\n",
        "main()"
      ],
      "execution_count": null,
      "outputs": [
        {
          "output_type": "stream",
          "name": "stdout",
          "text": [
            "Digite a porcentagem de aumento: 10\n",
            "Digite o seu salário: R$1000\n",
            "Digite o seu salário: R$2000\n",
            "Digite o seu salário: R$2500\n",
            "Digite o seu salário: R$3000\n",
            "Digite o seu salário: R$4000\n",
            "No total, com o aumento de 10.0%, será gasto R$13750.00 em salários.\n",
            "Uma diferença de R$400.00 reais.\n"
          ]
        }
      ]
    },
    {
      "cell_type": "markdown",
      "metadata": {
        "id": "W0slzp_rt2Iu"
      },
      "source": [
        "### 6. (Função com retorno com parâmetro) Faça um programa contendo algumas funções:\n",
        "a) Crie uma função para apresentar o menu e retornar a opção/número/cálculo escolhido.\n",
        "\n",
        "    Menu de cálculos\n",
        "    1.   Número ao quadrado\n",
        "    2.   Número ao cubo\n",
        "    3.   Raiz do número\n",
        "    4.   Raiz cúbica do número\n",
        "    Qual é a opção desejada?\n",
        "\n",
        "b) Desenvolva uma função para cada opção de cálculo.\n",
        "\n",
        "c) A função main() chamará todas as outras.\n",
        "\n",
        "\n",
        "Observação: Na chamada das funções deve-se utilizar uma estrutura de repetição, que permita diversos cálculos, quando o usuário quiser sair da calculadora digitará qualquer valor diferente dos **números** do menu.\n"
      ]
    },
    {
      "cell_type": "code",
      "metadata": {
        "id": "ik7rbrWyw41F",
        "colab": {
          "base_uri": "https://localhost:8080/"
        },
        "outputId": "2f268826-66d3-4c5f-822d-b94a15bfd29a"
      },
      "source": [
        "def chamar_menu():\n",
        "    print('\\nMenu de cálculos')\n",
        "    print('1. Número ao quadrado\\n2. Número ao cubo\\n3. Raiz quadrada do número\\n4. Raiz cúbica do número\\n')\n",
        "    opcao = int(input('Qual é a opção desejada? *Para sair digite qualquer opção, exceto as opções acima*\\n'))\n",
        "    return opcao\n",
        "\n",
        "def calcular_quadrado(n):\n",
        "    return n ** 2\n",
        "\n",
        "def calcular_cubo(n):\n",
        "    return n ** 3\n",
        "\n",
        "def calcular_raiz_quadrada(n):\n",
        "    return n ** (1/2)\n",
        "\n",
        "def calcular_raiz_cubica(n):\n",
        "    return n ** (1/3)\n",
        "\n",
        "def main():\n",
        "    opcao = chamar_menu()\n",
        "    while opcao >= 1 and opcao <= 4:\n",
        "        numero = float(input('Digite o número para calcular: '))\n",
        "        if opcao == 1:\n",
        "            print(f'O número {numero} ao quadrado é {calcular_quadrado(numero):.2f}.')\n",
        "        elif opcao == 2:\n",
        "            print(f'O número {numero} ao cubo é {calcular_cubo(numero):.2f}.')\n",
        "        elif opcao == 3:\n",
        "            print(f'A raiz quadrada de {numero} é {calcular_raiz_quadrada(numero):.2f}.')\n",
        "        elif opcao == 4:\n",
        "            print(f'A raiz cúbica de {numero} é {calcular_raiz_cubica(numero):.2f}.')\n",
        "        opcao = chamar_menu()\n",
        "\n",
        "main()"
      ],
      "execution_count": 2,
      "outputs": [
        {
          "name": "stdout",
          "output_type": "stream",
          "text": [
            "\n",
            "Menu de cálculos\n",
            "1. Número ao quadrado\n",
            "2. Número ao cubo\n",
            "3. Raiz quadrada do número\n",
            "4. Raiz cúbica do número\n",
            "\n",
            "Qual é a opção desejada? *Para sair digite qualquer opção, exceto as opções acima*\n",
            "4\n",
            "Digite o número para calcular: 27\n",
            "A raiz cúbica de 27.0 é 3.00.\n",
            "\n",
            "Menu de cálculos\n",
            "1. Número ao quadrado\n",
            "2. Número ao cubo\n",
            "3. Raiz quadrada do número\n",
            "4. Raiz cúbica do número\n",
            "\n",
            "Qual é a opção desejada? *Para sair digite qualquer opção, exceto as opções acima*\n",
            "7\n"
          ]
        }
      ]
    },
    {
      "cell_type": "markdown",
      "metadata": {
        "id": "_aPd4c1b3OjS"
      },
      "source": [
        "### 7. (Função com retorno com parâmetro) Faça um programa contendo algumas funções:\n",
        "a) Crie uma função para apresentar o menu e retornar **caracter** do cálculo escolhido.\n",
        "\n",
        "    *** Minha Calculadora ***\n",
        "\n",
        "    Digite um número.....:\n",
        "    Digite outro número..:\n",
        "        + Soma dois números\n",
        "        - Subtrai dois números\n",
        "        * Multiplica dois números\n",
        "        / Divide dois números\n",
        "    Qual opção deseja?\n",
        "\n",
        "b) Desenvolva uma função para cada opção de cálculo, **mas estas não terão retorno**.\n",
        "\n",
        "c) A função main() chamará todas as outras, passando a elas os valores digitados dos dois números.\n",
        "\n",
        "Observação: Na chamada da função deve-se utilizar uma estrutura de repetição que permita diversos cálculos, quando o usuário quiser sair da calculadora digitará qualquer valor diferente dos **caracteres** do menu.\n",
        "\n"
      ]
    },
    {
      "cell_type": "code",
      "metadata": {
        "id": "Q6LPIy_LCQuO",
        "colab": {
          "base_uri": "https://localhost:8080/"
        },
        "outputId": "2a504afd-c2de-4ea9-d223-40b4072d18a1"
      },
      "source": [
        "def menu():\n",
        "    print('*** Minha calculadora ***\\n')\n",
        "    n1 = float(input('Digite um número.....: '))\n",
        "    n2 = float(input('Digite outro número..: '))\n",
        "    print('+ Soma dois números\\n- Subtrai dois números\\n* Multiplica dois números\\n/ Divide dois números')\n",
        "    opcao = input('Qual opção deseja? ')\n",
        "    return opcao, n1, n2\n",
        "\n",
        "def somar(n1, n2):\n",
        "    print('Soma: ',n1 + n2)\n",
        "\n",
        "def subtrair(n1, n2):\n",
        "    print('Subtração: ',n1 - n2)\n",
        "\n",
        "def multiplicar(n1, n2):\n",
        "    print('Produto: ',n1 * n2)\n",
        "\n",
        "def dividir(n1, n2):\n",
        "    if n2 == 0:\n",
        "        print(f'Não é possível dividir {n1} por zero. Digite outro valor.')\n",
        "    else:\n",
        "        print('Resultado da divisão: ',n1 / n2)\n",
        "\n",
        "def main():\n",
        "    opcao, n1, n2 = menu()\n",
        "    while opcao == '+' or opcao == '-' or opcao == '*' or opcao == '/':\n",
        "        if opcao == '+':\n",
        "            somar(n1, n2)\n",
        "        elif opcao == '-':\n",
        "            subtrair(n1, n2)\n",
        "        elif opcao == '*':\n",
        "            multiplicar(n1, n2)\n",
        "        elif opcao == '/':\n",
        "            dividir(n1, n2)\n",
        "        opcao, n1, n2 = menu()\n",
        "\n",
        "main()"
      ],
      "execution_count": null,
      "outputs": [
        {
          "name": "stdout",
          "output_type": "stream",
          "text": [
            "*** Minha calculadora ***\n",
            "\n",
            "Digite um número.....: 5\n",
            "Digite outro número..: 10\n",
            "+ Soma dois números\n",
            "- Subtrai dois números\n",
            "* Multiplica dois números\n",
            "/ Divide dois números\n",
            "Qual opção deseja? /\n",
            "Resultado da divisão:  0.5\n",
            "*** Minha calculadora ***\n",
            "\n",
            "Digite um número.....: 3\n",
            "Digite outro número..: 9\n",
            "+ Soma dois números\n",
            "- Subtrai dois números\n",
            "* Multiplica dois números\n",
            "/ Divide dois números\n",
            "Qual opção deseja? *\n",
            "Produto:  27.0\n",
            "*** Minha calculadora ***\n",
            "\n",
            "Digite um número.....: 10\n",
            "Digite outro número..: 20\n",
            "+ Soma dois números\n",
            "- Subtrai dois números\n",
            "* Multiplica dois números\n",
            "/ Divide dois números\n",
            "Qual opção deseja? 0\n"
          ]
        }
      ]
    },
    {
      "cell_type": "markdown",
      "metadata": {
        "id": "3XRPufcfd10w"
      },
      "source": [
        "### 8. (Função com retorno com parâmetro) Faça um programa contendo algumas funções:\n",
        "a) Crie uma função para apresentar o menu e retornar **caracter** do cálculo escolhido.\n",
        "\n",
        "    *** Minha Calculadora ***\n",
        "    Digite um número.....:\n",
        "    Digite outro número..:\n",
        "        + Soma dois números\n",
        "        - Subtrai dois números\n",
        "        * Multiplica dois números\n",
        "        / Divide dois números\n",
        "    Qual opção deseja?\n",
        "\n",
        "b) Desenvolva uma função para cada opção de cálculo, **que deverá ter retorno**.\n",
        "\n",
        "c) A função main() chamará todas as outras, passando a elas os valores digitados dos dois números.\n",
        "\n",
        "Observação: Na chamada da função deve-se utilizar uma estrutura de repetição que permita diversos cálculos, quando o usuário quiser sair da calculadora digitará qualquer valor diferente dos **caracteres** do menu."
      ]
    },
    {
      "cell_type": "code",
      "metadata": {
        "id": "e0fZnaiYhgpc",
        "colab": {
          "base_uri": "https://localhost:8080/"
        },
        "outputId": "f2477fa0-4af3-443f-b6f6-c9db029bd498"
      },
      "source": [
        "def menu():\n",
        "    print('*** Minha calculadora ***\\n')\n",
        "    n1 = float(input('Digite um número.....: '))\n",
        "    n2 = float(input('Digite outro número..: '))\n",
        "    print('+ Soma dois números\\n- Subtrai dois números\\n* Multiplica dois números\\n/ Divide dois números')\n",
        "    opcao = input('Qual opção deseja? ')\n",
        "    return opcao, n1, n2\n",
        "\n",
        "def somar(n1, n2):\n",
        "    return n1 + n2\n",
        "\n",
        "def subtrair(n1, n2):\n",
        "    return n1 - n2\n",
        "\n",
        "def multiplicar(n1, n2):\n",
        "    return n1 * n2\n",
        "\n",
        "def dividir(n1, n2):\n",
        "    if n2 == 0:\n",
        "        return f'Não é possível dividir {n1} por zero. Digite outro valor.'\n",
        "    else:\n",
        "        return n1 / n2\n",
        "\n",
        "def main():\n",
        "    opcao, n1, n2 = menu()\n",
        "    while opcao == '+' or opcao == '-' or opcao == '*' or opcao == '/':\n",
        "        if opcao == '+':\n",
        "            print('Soma: ',somar(n1, n2))\n",
        "        elif opcao == '-':\n",
        "            print('Subtração: ',subtrair(n1, n2))\n",
        "        elif opcao == '*':\n",
        "            print('Produto: ',multiplicar(n1, n2))\n",
        "        elif opcao == '/':\n",
        "            print('Resultado da divisão: ',dividir(n1, n2))\n",
        "        opcao, n1, n2 = menu()\n",
        "\n",
        "main()"
      ],
      "execution_count": null,
      "outputs": [
        {
          "name": "stdout",
          "output_type": "stream",
          "text": [
            "*** Minha calculadora ***\n",
            "\n",
            "Digite um número.....: 2\n",
            "Digite outro número..: 3\n",
            "+ Soma dois números\n",
            "- Subtrai dois números\n",
            "* Multiplica dois números\n",
            "/ Divide dois números\n",
            "Qual opção deseja? +\n",
            "Soma:  5.0\n",
            "*** Minha calculadora ***\n",
            "\n",
            "Digite um número.....: 2\n",
            "Digite outro número..: 6\n",
            "+ Soma dois números\n",
            "- Subtrai dois números\n",
            "* Multiplica dois números\n",
            "/ Divide dois números\n",
            "Qual opção deseja? *\n",
            "Produto:  12.0\n",
            "*** Minha calculadora ***\n",
            "\n",
            "Digite um número.....: 30\n",
            "Digite outro número..: 10\n",
            "+ Soma dois números\n",
            "- Subtrai dois números\n",
            "* Multiplica dois números\n",
            "/ Divide dois números\n",
            "Qual opção deseja? /\n",
            "Resultado da divisão:  3.0\n",
            "*** Minha calculadora ***\n",
            "\n",
            "Digite um número.....: 30\n",
            "Digite outro número..: 6\n",
            "+ Soma dois números\n",
            "- Subtrai dois números\n",
            "* Multiplica dois números\n",
            "/ Divide dois números\n",
            "Qual opção deseja? -\n",
            "Subtração:  24.0\n",
            "*** Minha calculadora ***\n",
            "\n",
            "Digite um número.....: 30\n",
            "Digite outro número..: 0\n",
            "+ Soma dois números\n",
            "- Subtrai dois números\n",
            "* Multiplica dois números\n",
            "/ Divide dois números\n",
            "Qual opção deseja? /\n",
            "Resultado da divisão:  Não é possível dividir 30.0 por zero. Digite outro valor.\n",
            "*** Minha calculadora ***\n",
            "\n",
            "Digite um número.....: 5\n",
            "Digite outro número..: 5\n",
            "+ Soma dois números\n",
            "- Subtrai dois números\n",
            "* Multiplica dois números\n",
            "/ Divide dois números\n",
            "Qual opção deseja? .\n"
          ]
        }
      ]
    },
    {
      "cell_type": "markdown",
      "source": [
        "###9. (Função com retorno com parâmetro) Crie uma função para calcular/apresentar a distância entre dois pontos dados pelas coordenadas (x1, y1) e(x2, y2).![distancia.png](data:image/png;base64,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)"
      ],
      "metadata": {
        "id": "BunPfvgA_W4k"
      }
    },
    {
      "cell_type": "code",
      "source": [
        "def calcular_distancia(x1,x2,y1,y2):\n",
        "    d = (((x2-x1)**2) + ((y2-y1)**2))**(1/2)\n",
        "    return d\n",
        "\n",
        "def main():\n",
        "    x1 = int(input('Digite a coordenada x1: '))\n",
        "    x2 = int(input('Digite a coordenada x2: '))\n",
        "    y1 = int(input('Digite a coordenada y1: '))\n",
        "    y2 = int(input('Digite a coordenada y2: '))\n",
        "    print(f'A distância entre os pontos é de {calcular_distancia(x1,x2,y1,y2):.2f}.')\n",
        "\n",
        "main()"
      ],
      "metadata": {
        "id": "Jp_XoJm3_xcN",
        "colab": {
          "base_uri": "https://localhost:8080/"
        },
        "outputId": "867a0ef6-b5d3-472c-8df9-2e1223cb1aa0"
      },
      "execution_count": null,
      "outputs": [
        {
          "output_type": "stream",
          "name": "stdout",
          "text": [
            "Digite a coordenada x1: 5\n",
            "Digite a coordenada x2: 6\n",
            "Digite a coordenada y1: 1\n",
            "Digite a coordenada y2: 9\n",
            "A distância entre os pontos é de 8.06.\n"
          ]
        }
      ]
    },
    {
      "cell_type": "markdown",
      "source": [
        "### 10. (Função com retorno com parâmetro) Crie uma função que verifique se um número é divisível por outro. Use o caracter %."
      ],
      "metadata": {
        "id": "Vvc6uU-9AXJ0"
      }
    },
    {
      "cell_type": "code",
      "source": [
        "def calcular_divisivel(n1, n2):\n",
        "    if n1 % n2 == 0:\n",
        "        return f'{n1} é divisível por {n2}.'\n",
        "    else:\n",
        "        return f'{n1} não é divisível por {n2}.'\n",
        "\n",
        "def main():\n",
        "    numero1 = int(input('Digite um número inteiro: '))\n",
        "    numero2 = int(input('Digite outro número inteiro: '))\n",
        "    print(calcular_divisivel(numero1, numero2))\n",
        "\n",
        "main()"
      ],
      "metadata": {
        "colab": {
          "base_uri": "https://localhost:8080/"
        },
        "id": "Dpq_3EeEchAj",
        "outputId": "e43ddc78-0da9-47f7-b113-bd3b6401cb7a"
      },
      "execution_count": null,
      "outputs": [
        {
          "output_type": "stream",
          "name": "stdout",
          "text": [
            "Digite um número inteiro: 20\n",
            "Digite outro número inteiro: 10\n",
            "20 é divisível por 10.\n"
          ]
        }
      ]
    },
    {
      "cell_type": "code",
      "source": [
        "def calcular_divisivel(n1, n2):\n",
        "    return n1 % n2 == 0\n",
        "\n",
        "def main():\n",
        "    numero1 = int(input('Digite um número inteiro: '))\n",
        "    numero2 = int(input('Digite outro número inteiro: '))\n",
        "    if calcular_divisivel(numero1, numero2):\n",
        "        print(f'{numero1} é divisível por {numero2}.')\n",
        "    else:\n",
        "        print(f'{numero1} não é divisível por {numero2}.')\n",
        "\n",
        "main()"
      ],
      "metadata": {
        "colab": {
          "base_uri": "https://localhost:8080/"
        },
        "id": "s-WcibGQKv2B",
        "outputId": "a9d6c6b8-8869-4bec-f209-b1f49851f0ca"
      },
      "execution_count": 3,
      "outputs": [
        {
          "output_type": "stream",
          "name": "stdout",
          "text": [
            "Digite um número inteiro: 6\n",
            "Digite outro número inteiro: 3\n",
            "6 é divisível por 3.\n"
          ]
        }
      ]
    },
    {
      "cell_type": "markdown",
      "source": [
        "### 11. (Função com retorno com parâmetro) Na função main() o usuário deverá informar a quantidade de linhas e colunas, crie/chame uma função para criar e digitar os elementos de uma matriz, retorne-a. Crie/chame outra função que a calculará a soma de todas as linhas e armazenará num vetor do tamanho da quantidade de linhas, retorne-o e apresente na main()."
      ],
      "metadata": {
        "id": "_LPc9kGXePuX"
      }
    },
    {
      "cell_type": "code",
      "source": [
        "def criar_matriz(l, c):\n",
        "    matriz = []\n",
        "    for i in range(l):\n",
        "        vetor = []\n",
        "        for j in range(c):\n",
        "            vetor.append(int(input(f'Digite o valor {[i]}{[j]} ')))\n",
        "        matriz.append(vetor)\n",
        "    return matriz\n",
        "\n",
        "def calcular_soma_linhas(matriz):\n",
        "    soma_linhas = []\n",
        "    for i in range(len(matriz)):\n",
        "        soma = 0\n",
        "        for j in range(len(matriz[0])):\n",
        "            soma += matriz[i][j]\n",
        "        soma_linhas.append(soma)\n",
        "    return soma_linhas\n",
        "\n",
        "def main():\n",
        "    linhas = int(input('Digite a quantidade de linhas: '))\n",
        "    colunas = int(input('Digite a quantidade de colunas: '))\n",
        "    print(calcular_soma_linhas(criar_matriz(linhas, colunas)))\n",
        "\n",
        "main()"
      ],
      "metadata": {
        "id": "OZcWbZzpeQDE",
        "colab": {
          "base_uri": "https://localhost:8080/"
        },
        "outputId": "e019f127-bd61-4bba-f932-3a4000998c20"
      },
      "execution_count": null,
      "outputs": [
        {
          "output_type": "stream",
          "name": "stdout",
          "text": [
            "Digite a quantidade de linhas: 4\n",
            "Digite a quantidade de colunas: 2\n",
            "Digite o valor [0][0] 1\n",
            "Digite o valor [0][1] 2\n",
            "Digite o valor [1][0] 10\n",
            "Digite o valor [1][1] 11\n",
            "Digite o valor [2][0] 30\n",
            "Digite o valor [2][1] 31\n",
            "Digite o valor [3][0] 40\n",
            "Digite o valor [3][1] 41\n",
            "[3, 21, 61, 81]\n"
          ]
        }
      ]
    }
  ]
}